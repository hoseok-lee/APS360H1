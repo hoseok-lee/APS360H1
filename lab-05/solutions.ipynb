{
  "nbformat": 4,
  "nbformat_minor": 0,
  "metadata": {
    "colab": {
      "name": "Lab_5_Spam_Detection.ipynb",
      "provenance": [],
      "collapsed_sections": []
    },
    "kernelspec": {
      "display_name": "Python 3",
      "language": "python",
      "name": "python3"
    },
    "language_info": {
      "codemirror_mode": {
        "name": "ipython",
        "version": 3
      },
      "file_extension": ".py",
      "mimetype": "text/x-python",
      "name": "python",
      "nbconvert_exporter": "python",
      "pygments_lexer": "ipython3",
      "version": "3.6.3"
    }
  },
  "cells": [
    {
      "cell_type": "markdown",
      "metadata": {
        "id": "_bphECiUa9zw"
      },
      "source": [
        "# Lab 5: Spam Detection\n",
        "\n",
        "**Deadline**: Monday, March 15, 5:00 PM\n",
        "\n",
        "**Late Penalty**: There is a penalty-free grace period of one hour past the deadline. Any work that is submitted between 1 hour and 24 hours past the deadline will receive a 20% grade deduction. No other late work is accepted. Quercus submission time will be used, not your local computer time. You can submit your labs as many times as you want before the deadline, so please submit often and early.\n",
        "\n",
        "**TA**: Gautam Dawar <gautam.dawar@mail.utoronto.ca>\n",
        "\n",
        "In this assignment, we will build a recurrent neural network to classify a SMS text message\n",
        "as \"spam\" or \"not spam\". In the process, you will\n",
        "    \n",
        "1. Clean and process text data for machine learning.\n",
        "2. Understand and implement a character-level recurrent neural network.\n",
        "3. Use torchtext to build recurrent neural network models.\n",
        "4. Understand batching for a recurrent neural network, and use torchtext to implement RNN batching.\n",
        "\n",
        "### What to submit\n",
        "\n",
        "Submit a PDF file containing all your code, outputs, and write-up. You can produce a PDF of your Google Colab file by going to File > Print and then save as PDF. The Colab instructions have more information (.html files are also acceptable).\n",
        "\n",
        "Do not submit any other files produced by your code.\n",
        "\n",
        "Include a link to your colab file in your submission."
      ]
    },
    {
      "cell_type": "markdown",
      "metadata": {
        "id": "rWiUqJJTa9z6"
      },
      "source": [
        "## Colab Link\n",
        "\n",
        "Include a link to your Colab file here. If you would like the TA to look at your\n",
        "Colab file in case your solutions are cut off, **please make sure that your Colab\n",
        "file is publicly accessible at the time of submission**.\n",
        "\n",
        "Colab Link: https://drive.google.com/file/d/1iQRhe-wCiY-DVWTZ0wlGFqD_q2RhjQ5x/view?usp=sharing"
      ]
    },
    {
      "cell_type": "code",
      "metadata": {
        "collapsed": true,
        "id": "HgfNOUaPa9z8"
      },
      "source": [
        "import torch\n",
        "import torch.nn as nn\n",
        "import torch.nn.functional as F\n",
        "import torch.optim as optim\n",
        "import numpy as np"
      ],
      "execution_count": 1,
      "outputs": []
    },
    {
      "cell_type": "markdown",
      "metadata": {
        "id": "M0jLI9LBa90C"
      },
      "source": [
        "## Part 1. Data Cleaning [15 pt]\n",
        "\n",
        "We will be using the \"SMS Spam Collection Data Set\" available at http://archive.ics.uci.edu/ml/datasets/SMS+Spam+Collection\n",
        "\n",
        "There is a link to download the \"Data Folder\" at the very top of the webpage. Download the zip file, unzip it, and upload the file `SMSSpamCollection` to Colab.    "
      ]
    },
    {
      "cell_type": "markdown",
      "metadata": {
        "id": "sSuF7C_Ga90E"
      },
      "source": [
        "### Part (a) [2 pt]\n",
        "\n",
        "Open up the file in Python, and print out one example of a spam SMS, and one example of a non-spam SMS.\n",
        "\n",
        "What is the label value for a spam message, and what is the label value for a non-spam message?"
      ]
    },
    {
      "cell_type": "code",
      "metadata": {
        "colab": {
          "base_uri": "https://localhost:8080/"
        },
        "collapsed": true,
        "id": "I_IfXHeTa90F",
        "outputId": "ae90b9e5-004d-4c72-e133-52e02e919546"
      },
      "source": [
        "# Spam SMS has the label \"spam\" and non-spam SMS has the label \"ham\".\n",
        "\n",
        "print_spam = False\n",
        "for line in open('SMSSpamCollection'):\n",
        "    label, sms = line.split('\\t')\n",
        "\n",
        "    if label == 'ham' and not print_spam:\n",
        "        print(\"Non-spam SMS label =\", label)\n",
        "        print(\"Non-spam SMS example =\", sms)\n",
        "        print_spam = True\n",
        "\n",
        "    if label == 'spam' and print_spam:\n",
        "        print(\"Spam SMS label =\", label)\n",
        "        print(\"Spam SMS example =\", sms)\n",
        "        break"
      ],
      "execution_count": 2,
      "outputs": [
        {
          "output_type": "stream",
          "text": [
            "Non-spam SMS label = ham\n",
            "Non-spam SMS example = Go until jurong point, crazy.. Available only in bugis n great world la e buffet... Cine there got amore wat...\n",
            "\n",
            "Spam SMS label = spam\n",
            "Spam SMS example = Free entry in 2 a wkly comp to win FA Cup final tkts 21st May 2005. Text FA to 87121 to receive entry question(std txt rate)T&C's apply 08452810075over18's\n",
            "\n"
          ],
          "name": "stdout"
        }
      ]
    },
    {
      "cell_type": "markdown",
      "metadata": {
        "id": "AukA6vMVa90d"
      },
      "source": [
        "### Part (b) [1 pt]\n",
        "\n",
        "How many spam messages are there in the data set?\n",
        "How many non-spam messages are there in the data set?\n"
      ]
    },
    {
      "cell_type": "code",
      "metadata": {
        "colab": {
          "base_uri": "https://localhost:8080/"
        },
        "collapsed": true,
        "id": "LgsqyemVa90e",
        "outputId": "1a6c7273-9062-4b5f-dce7-36496d412484"
      },
      "source": [
        "spam_count = 0\n",
        "total_count = 0\n",
        "\n",
        "for line in open('SMSSpamCollection'):\n",
        "    spam_count += int(line[0] == 's')\n",
        "    total_count += 1\n",
        "\n",
        "print(\"Total spam messages =\", spam_count)\n",
        "print(\"Total non-spam messages =\", (total_count - spam_count))"
      ],
      "execution_count": 3,
      "outputs": [
        {
          "output_type": "stream",
          "text": [
            "Total spam messages = 747\n",
            "Total non-spam messages = 4827\n"
          ],
          "name": "stdout"
        }
      ]
    },
    {
      "cell_type": "markdown",
      "metadata": {
        "id": "d1WXxVt6a90h"
      },
      "source": [
        "### Part (c) [4 pt]\n",
        "\n",
        "We will be using the package `torchtext` to load, process, and batch the data.\n",
        "A tutorial to torchtext is available below. This tutorial uses the same\n",
        "Sentiment140 data set that we explored during lecture.\n",
        "\n",
        "https://medium.com/@sonicboom8/sentiment-analysis-torchtext-55fb57b1fab8\n",
        "\n",
        "Unlike what we did during lecture, we will be building a **character level RNN**.\n",
        "That is, we will treat each **character** as a token in our sequence,\n",
        "rather than each **word**.\n",
        "\n",
        "Identify two advantage and two disadvantage of modelling SMS text\n",
        "messages as a sequence of characters rather than a sequence of words."
      ]
    },
    {
      "cell_type": "code",
      "metadata": {
        "collapsed": true,
        "id": "Mhnz8Nk-a90i"
      },
      "source": [
        "# Two advantages of character-level language models are that the vocabulary\n",
        "# size for analysis is far smaller for characters than words, and can learn how\n",
        "# to generate grammatically correct words and sequences such as grammtical\n",
        "# anomalies and proper punctuation. This means that character-level LMs require\n",
        "# less memory and can recognize grammatical errors.\n",
        "\n",
        "# Two disadvantages are that character-level LMs require more tokens for each \n",
        "# datum and need deeper and larger hidden layers. This results in longer \n",
        "# training times and lower overall accuracy than word-level LMs. "
      ],
      "execution_count": 4,
      "outputs": []
    },
    {
      "cell_type": "markdown",
      "metadata": {
        "id": "ie_D0bv9a90k"
      },
      "source": [
        "### Part (d) [1 pt]\n",
        "\n",
        "We will be loading our data set using `torchtext.data.TabularDataset`. The\n",
        "constructor will read directly from the `SMSSpamCollection` file. \n",
        "\n",
        "For the data file to be read successfuly, we\n",
        "need to specify the **fields** (columns) in the file. \n",
        "In our case, the dataset has two fields: \n",
        "\n",
        "- a text field containing the sms messages,\n",
        "- a label field which will be converted into a binary label.\n",
        "\n",
        "Split the dataset into `train`, `valid`, and `test`. Use a 60-20-20 split.\n",
        "You may find this torchtext API page helpful:\n",
        "https://torchtext.readthedocs.io/en/latest/data.html#dataset\n",
        "\n",
        "Hint: There is a `Dataset` method that can perform the random split for you."
      ]
    },
    {
      "cell_type": "code",
      "metadata": {
        "collapsed": true,
        "id": "P_Y6Puz9a90l"
      },
      "source": [
        "import torchtext\n",
        "\n",
        "text_field = torchtext.legacy.data.Field(sequential=True,      # text sequence\n",
        "                                         tokenize=lambda x: x, # because are building a character-RNN\n",
        "                                         include_lengths=True, # to track the length of sequences, for batching\n",
        "                                         batch_first=True,\n",
        "                                         use_vocab=True)       # to turn each character into an integer index\n",
        "label_field = torchtext.legacy.data.Field(sequential=False,    # not a sequence\n",
        "                                          use_vocab=False,     # don't need to track vocabulary\n",
        "                                          is_target=True,      \n",
        "                                          batch_first=True,\n",
        "                                          preprocessing=lambda x: int(x == 'spam')) # convert text to 0 and 1\n",
        "\n",
        "fields = [('label', label_field), ('sms', text_field)]\n",
        "dataset = torchtext.legacy.data.TabularDataset(\"SMSSpamCollection\", # name of the file\n",
        "                                               \"tsv\",               # fields are separated by a tab\n",
        "                                               fields)\n",
        "\n",
        "# dataset[0].sms\n",
        "# dataset[0].label\n",
        "# train, valid, test = ...\n",
        "\n",
        "dataset_size = len(dataset)\n",
        "train, valid, test = dataset.split(split_ratio=[0.6, 0.2, 0.2],\n",
        "                                   stratified=True)"
      ],
      "execution_count": 5,
      "outputs": []
    },
    {
      "cell_type": "markdown",
      "metadata": {
        "id": "v6nP0Ks_a90o"
      },
      "source": [
        "### Part (e) [2 pt]\n",
        "\n",
        "You saw in part (b) that there are many more non-spam messages than spam messages.\n",
        "This **imbalance** in our training data will be problematic for training.\n",
        "We can fix this disparity by duplicating spam messages in the training set,\n",
        "so that the training set is roughly **balanced**.\n",
        "\n",
        "Explain why having a balanced training set is helpful for training our neural network.\n",
        "\n",
        "Note: if you are not sure, try removing the below code and train your mode."
      ]
    },
    {
      "cell_type": "code",
      "metadata": {
        "collapsed": true,
        "id": "FWvx9_rka90p"
      },
      "source": [
        "# Having a balanced training set is important since we want the number of spam\n",
        "# and non-spam SMS to be similar. If we didn't copy all of the spam SMS, there\n",
        "# would be way more non-spam than spam in the training set. This could result in\n",
        "# the RNN model naively guessing all SMS to be non-spam, while still achieving \n",
        "# a high prediction accuracy. \n",
        "\n",
        "# save the original training examples\n",
        "old_train_examples = train.examples\n",
        "# get all the spam messages in `train`\n",
        "train_spam = []\n",
        "for item in train.examples:\n",
        "    if item.label == 1:\n",
        "        train_spam.append(item)\n",
        "# duplicate each spam message 6 more times\n",
        "train.examples = old_train_examples + train_spam * 6"
      ],
      "execution_count": 6,
      "outputs": []
    },
    {
      "cell_type": "markdown",
      "metadata": {
        "id": "j7eUmBEva90r"
      },
      "source": [
        "### Part (f) [1 pt]\n",
        "\n",
        "We need to build the vocabulary on the training data by running the below code.\n",
        "This finds all the possible character tokens in the training set.\n",
        "\n",
        "Explain what the variables `text_field.vocab.stoi` and `text_field.vocab.itos` represent."
      ]
    },
    {
      "cell_type": "code",
      "metadata": {
        "colab": {
          "base_uri": "https://localhost:8080/"
        },
        "collapsed": true,
        "id": "8CQM8flKa90s",
        "outputId": "427ea6ea-1a9d-444e-ef56-aa1c41e985c7"
      },
      "source": [
        "# text_field.vocab.stoi is a dictionary that maps each character to a unique \n",
        "# index, which is simply one-hot encoding (string -> index)\n",
        "\n",
        "# text_field.vocab.itos is a list that holds each character in their unique \n",
        "# index, mapping the one-hot encoding dictionary backwards (index -> string).\n",
        "\n",
        "text_field.build_vocab(train)\n",
        "#text_field.vocab.stoi\n",
        "#text_field.vocab.itos\n",
        "\n",
        "print(\"text_field.vocab.stoi =\", text_field.vocab.stoi)\n",
        "print(\"text_field.vocab.itos =\", text_field.vocab.itos)"
      ],
      "execution_count": 7,
      "outputs": [
        {
          "output_type": "stream",
          "text": [
            "text_field.vocab.stoi = defaultdict(<bound method Vocab._default_unk_index of <torchtext.vocab.Vocab object at 0x7f4ecfad4290>>, {'<unk>': 0, '<pad>': 1, ' ': 2, 'e': 3, 'o': 4, 't': 5, 'a': 6, 'n': 7, 'r': 8, 'i': 9, 's': 10, 'l': 11, 'u': 12, 'h': 13, '0': 14, 'd': 15, '.': 16, 'm': 17, 'c': 18, 'y': 19, 'w': 20, 'p': 21, 'g': 22, '1': 23, 'f': 24, '2': 25, 'b': 26, 'T': 27, '8': 28, 'k': 29, 'E': 30, 'v': 31, '5': 32, 'C': 33, 'S': 34, 'O': 35, 'I': 36, '7': 37, '4': 38, 'N': 39, 'x': 40, '6': 41, 'A': 42, '3': 43, 'R': 44, '!': 45, ',': 46, '9': 47, 'P': 48, 'W': 49, 'U': 50, 'L': 51, 'H': 52, 'M': 53, 'D': 54, 'B': 55, 'F': 56, 'Y': 57, 'G': 58, \"'\": 59, '/': 60, '?': 61, '£': 62, '-': 63, '&': 64, ':': 65, 'z': 66, 'X': 67, 'V': 68, 'j': 69, '*': 70, 'K': 71, ')': 72, 'J': 73, ';': 74, '+': 75, '(': 76, 'q': 77, '\"': 78, 'Q': 79, '#': 80, '@': 81, '=': 82, '>': 83, 'ü': 84, 'Z': 85, '<': 86, 'Ü': 87, '\\x92': 88, '$': 89, '_': 90, '[': 91, ']': 92, '%': 93, '|': 94, '‘': 95, '\\x93': 96, '¡': 97, '“': 98, '…': 99, 'ú': 100, '\\\\': 101, 'é': 102, '\\t': 103, '\\n': 104, '~': 105, '\\x94': 106, '–': 107, '’': 108, '^': 109, '\\x91': 110, '\\x96': 111, '»': 112, 'É': 113, 'ì': 114, '—': 115, '┾': 116, '〨': 117, '鈥': 118})\n",
            "text_field.vocab.itos = ['<unk>', '<pad>', ' ', 'e', 'o', 't', 'a', 'n', 'r', 'i', 's', 'l', 'u', 'h', '0', 'd', '.', 'm', 'c', 'y', 'w', 'p', 'g', '1', 'f', '2', 'b', 'T', '8', 'k', 'E', 'v', '5', 'C', 'S', 'O', 'I', '7', '4', 'N', 'x', '6', 'A', '3', 'R', '!', ',', '9', 'P', 'W', 'U', 'L', 'H', 'M', 'D', 'B', 'F', 'Y', 'G', \"'\", '/', '?', '£', '-', '&', ':', 'z', 'X', 'V', 'j', '*', 'K', ')', 'J', ';', '+', '(', 'q', '\"', 'Q', '#', '@', '=', '>', 'ü', 'Z', '<', 'Ü', '\\x92', '$', '_', '[', ']', '%', '|', '‘', '\\x93', '¡', '“', '…', 'ú', '\\\\', 'é', '\\t', '\\n', '~', '\\x94', '–', '’', '^', '\\x91', '\\x96', '»', 'É', 'ì', '—', '┾', '〨', '鈥']\n"
          ],
          "name": "stdout"
        }
      ]
    },
    {
      "cell_type": "markdown",
      "metadata": {
        "id": "TC8WVE8Ua90u"
      },
      "source": [
        "### Part (g) [2 pt]\n",
        "\n",
        "The tokens `<unk>` and `<pad>` were not in our SMS text messages.\n",
        "What do these two values represent?"
      ]
    },
    {
      "cell_type": "code",
      "metadata": {
        "collapsed": true,
        "id": "y_4Er7KUa90v"
      },
      "source": [
        "# <unk> represents rare words that were not present in the vocabulary, stands\n",
        "# for \"unknown\".\n",
        "\n",
        "# <pad> represents empty padding within the dataset in order to make sure each \n",
        "# batch has the same size/length. "
      ],
      "execution_count": 8,
      "outputs": []
    },
    {
      "cell_type": "markdown",
      "metadata": {
        "id": "Ff5CNk7Qa90y"
      },
      "source": [
        "### Part (h) [2 pt]\n",
        "\n",
        "Since text sequences are of variable length, `torchtext` provides a `BucketIterator` data loader,\n",
        "which batches similar length sequences together. The iterator also provides functionalities to\n",
        "pad sequences automatically.\n",
        "\n",
        "Take a look at 10 batches in `train_iter`. What is the maximum length of the\n",
        "input sequence in each batch? How many `<pad>` tokens are used in each of the 10\n",
        "batches?"
      ]
    },
    {
      "cell_type": "code",
      "metadata": {
        "collapsed": true,
        "id": "V8N8qLWOa90y"
      },
      "source": [
        "train_iter = torchtext.legacy.data.BucketIterator(train,\n",
        "                                                  batch_size=32,\n",
        "                                                  sort_key=lambda x: len(x.sms), # to minimize padding\n",
        "                                                  sort_within_batch=True,        # sort within each batch\n",
        "                                                  repeat=False)                  # repeat the iterator for many epochs"
      ],
      "execution_count": 9,
      "outputs": []
    },
    {
      "cell_type": "code",
      "metadata": {
        "colab": {
          "base_uri": "https://localhost:8080/"
        },
        "collapsed": true,
        "id": "Qwz-rOaha902",
        "outputId": "899d325e-1bae-4b64-88dd-f6adf0fd358f"
      },
      "source": [
        "for index, batch in enumerate(train_iter):\n",
        "    if index == 10:\n",
        "      break\n",
        "\n",
        "    #print(len(batch))\n",
        "    #print(batch.sms)\n",
        "    #print(batch.label)\n",
        "\n",
        "    print(\"Index =\", index)\n",
        "    print(\"Maximum input sequence length =\", batch.sms[0].shape[1])\n",
        "    print(\"Total number of <pad> tokens =\", int((batch.sms[0] == text_field.vocab.stoi['<pad>']).sum()))\n",
        "    print()"
      ],
      "execution_count": 10,
      "outputs": [
        {
          "output_type": "stream",
          "text": [
            "Index = 0\n",
            "Maximum input sequence length = 128\n",
            "Total number of <pad> tokens = 48\n",
            "\n",
            "Index = 1\n",
            "Maximum input sequence length = 143\n",
            "Total number of <pad> tokens = 19\n",
            "\n",
            "Index = 2\n",
            "Maximum input sequence length = 140\n",
            "Total number of <pad> tokens = 30\n",
            "\n",
            "Index = 3\n",
            "Maximum input sequence length = 137\n",
            "Total number of <pad> tokens = 17\n",
            "\n",
            "Index = 4\n",
            "Maximum input sequence length = 72\n",
            "Total number of <pad> tokens = 36\n",
            "\n",
            "Index = 5\n",
            "Maximum input sequence length = 89\n",
            "Total number of <pad> tokens = 46\n",
            "\n",
            "Index = 6\n",
            "Maximum input sequence length = 125\n",
            "Total number of <pad> tokens = 48\n",
            "\n",
            "Index = 7\n",
            "Maximum input sequence length = 70\n",
            "Total number of <pad> tokens = 47\n",
            "\n",
            "Index = 8\n",
            "Maximum input sequence length = 160\n",
            "Total number of <pad> tokens = 0\n",
            "\n",
            "Index = 9\n",
            "Maximum input sequence length = 48\n",
            "Total number of <pad> tokens = 43\n",
            "\n"
          ],
          "name": "stdout"
        }
      ]
    },
    {
      "cell_type": "markdown",
      "metadata": {
        "id": "y7HnqP6_a904"
      },
      "source": [
        "## Part 2. Model Building [8 pt]\n",
        "\n",
        "Build a recurrent neural network model, using an architecture of your choosing. \n",
        "Use the one-hot embedding of each character as input to your recurrent network.\n",
        "Use one or more fully-connected layers to make the prediction based on your\n",
        "recurrent network output.\n",
        "\n",
        "Instead of using the RNN output value for the final token, another often used\n",
        "strategy is to max-pool over the entire output array. That is, instead of calling\n",
        "something like:\n",
        "\n",
        "```\n",
        "out, _ = self.rnn(x)\n",
        "self.fc(out[:, -1, :])\n",
        "```\n",
        "\n",
        "where `self.rnn` is an `nn.RNN`, `nn.GRU`, or `nn.LSTM` module, and `self.fc` is a \n",
        "fully-connected \n",
        "layer, we use:\n",
        "\n",
        "```\n",
        "out, _ = self.rnn(x)\n",
        "self.fc(torch.max(out, dim=1)[0])\n",
        "```\n",
        "\n",
        "This works reasonably in practice. An even better alternative is to concatenate the\n",
        "max-pooling and average-pooling of the RNN outputs:\n",
        "\n",
        "```\n",
        "out, _ = self.rnn(x)\n",
        "out = torch.cat([torch.max(out, dim=1)[0], \n",
        "                 torch.mean(out, dim=1)], dim=1)\n",
        "self.fc(out)\n",
        "```\n",
        "\n",
        "We encourage you to try out all these options. The way you pool the RNN outputs\n",
        "is one of the \"hyperparameters\" that you can choose to tune later on."
      ]
    },
    {
      "cell_type": "code",
      "metadata": {
        "colab": {
          "base_uri": "https://localhost:8080/"
        },
        "collapsed": true,
        "id": "jHl1p_Wwa905",
        "outputId": "1af6c330-6ba1-4327-90b1-fba934691218"
      },
      "source": [
        "# You might find this code helpful for obtaining\n",
        "# PyTorch one-hot vectors.\n",
        "\n",
        "ident = torch.eye(10)\n",
        "print(ident[0]) # one-hot vector\n",
        "print(ident[1]) # one-hot vector\n",
        "x = torch.tensor([[1, 2], [3, 4]])\n",
        "print(ident[x]) # one-hot vectors"
      ],
      "execution_count": 11,
      "outputs": [
        {
          "output_type": "stream",
          "text": [
            "tensor([1., 0., 0., 0., 0., 0., 0., 0., 0., 0.])\n",
            "tensor([0., 1., 0., 0., 0., 0., 0., 0., 0., 0.])\n",
            "tensor([[[0., 1., 0., 0., 0., 0., 0., 0., 0., 0.],\n",
            "         [0., 0., 1., 0., 0., 0., 0., 0., 0., 0.]],\n",
            "\n",
            "        [[0., 0., 0., 1., 0., 0., 0., 0., 0., 0.],\n",
            "         [0., 0., 0., 0., 1., 0., 0., 0., 0., 0.]]])\n"
          ],
          "name": "stdout"
        }
      ]
    },
    {
      "cell_type": "code",
      "metadata": {
        "collapsed": true,
        "id": "4LTQ7zFka909"
      },
      "source": [
        "class SpamClassifier(nn.Module):\n",
        "    def __init__(self, input_size, hidden_size, num_classes):\n",
        "        super(SpamClassifier, self).__init__()\n",
        "        self.emb = torch.eye(input_size)\n",
        "        self.hidden_size = hidden_size\n",
        "        self.rnn = nn.RNN(input_size, hidden_size, batch_first=True)\n",
        "        self.fc = nn.Linear(hidden_size, num_classes)\n",
        "\n",
        "    def forward(self, x):\n",
        "        # look up the embedding\n",
        "        x = self.emb[x]\n",
        "\n",
        "        # set an initial hidden state\n",
        "        h0 = torch.zeros(1, x.size(0), self.hidden_size)\n",
        "        \n",
        "        # forward propagate the RNN\n",
        "        out, _ = self.rnn(x, h0)\n",
        "        out = self.fc(out[:, -1, :])\n",
        "        return out"
      ],
      "execution_count": 12,
      "outputs": []
    },
    {
      "cell_type": "markdown",
      "metadata": {
        "id": "vKIYPl_Ba90_"
      },
      "source": [
        "## Part 3. Training [16 pt]\n",
        "\n",
        "### Part (a) [4 pt]\n",
        "\n",
        "Complete the `get_accuracy` function, which will compute the\n",
        "accuracy (rate) of your model across a dataset (e.g. validation set).\n",
        "You may modify `torchtext.data.BucketIterator` to make your computation\n",
        "faster."
      ]
    },
    {
      "cell_type": "code",
      "metadata": {
        "collapsed": true,
        "id": "pvNfhGD6a91A"
      },
      "source": [
        "def get_accuracy(model, data, batch_size=64):\n",
        "    \"\"\" Compute the accuracy of the `model` across a dataset `data`\n",
        "    \n",
        "    Example usage:\n",
        "    \n",
        "    >>> model = MyRNN() # to be defined\n",
        "    >>> get_accuracy(model, valid) # the variable `valid` is from above\n",
        "    \"\"\"\n",
        "    data_loader = torchtext.legacy.data.BucketIterator(data,\n",
        "                                                       batch_size=batch_size,\n",
        "                                                       sort_key=lambda x: len(x.sms), # to minimize padding\n",
        "                                                       sort_within_batch=True,        # sort within each batch\n",
        "                                                       repeat=False)                  # repeat the iterator for many epochs\n",
        "\n",
        "    correct, total = 0, 0\n",
        "    for message, labels in data_loader:\n",
        "        output = model(message[0])\n",
        "        pred = output.max(1, keepdim=True)[1]\n",
        "        correct += pred.eq(labels.view_as(pred)).sum().item()\n",
        "        total += labels.shape[0]\n",
        "    return correct / total"
      ],
      "execution_count": 13,
      "outputs": []
    },
    {
      "cell_type": "markdown",
      "metadata": {
        "id": "TlxlcAC1a91C"
      },
      "source": [
        "### Part (b) [4 pt]\n",
        "\n",
        "Train your model. Plot the training curve of your final model. \n",
        "Your training curve should have the training/validation loss and\n",
        "accuracy plotted periodically.\n",
        "\n",
        "Note: Not all of your batches will have the same batch size.\n",
        "In particular, if your training set does not divide evenly by\n",
        "your batch size, there will be a batch that is smaller than\n",
        "the rest. "
      ]
    },
    {
      "cell_type": "code",
      "metadata": {
        "collapsed": true,
        "id": "CVtf7CJCa91D"
      },
      "source": [
        "import time\n",
        "import matplotlib.pyplot as plt\n",
        "\n",
        "def train_rnn_network(model, train, valid, batch_size=64, num_epochs=20, learning_rate=5e-5, plot=False):\n",
        "    criterion = nn.CrossEntropyLoss()\n",
        "    optimizer = torch.optim.Adam(model.parameters(), lr=learning_rate, weight_decay=1e-5)\n",
        "    train_losses, valid_losses, train_acc, valid_acc = [], [], [], []\n",
        "    epochs = []\n",
        "\n",
        "    # get DataLoaders\n",
        "    train_loader = torchtext.legacy.data.BucketIterator(train,\n",
        "                                                        batch_size=batch_size,\n",
        "                                                        sort_key=lambda x: len(x.sms), # to minimize padding\n",
        "                                                        sort_within_batch=True,        # sort within each batch\n",
        "                                                        repeat=False)                  # repeat the iterator for many epochs\n",
        "    valid_loader = torchtext.legacy.data.BucketIterator(valid,\n",
        "                                                        batch_size=batch_size,\n",
        "                                                        sort_key=lambda x: len(x.sms), # to minimize padding\n",
        "                                                        sort_within_batch=True,        # sort within each batch\n",
        "                                                        repeat=False)                  # repeat the iterator for many epochs\n",
        "\n",
        "    # start timing\n",
        "    start_time = time.time()\n",
        "    for epoch in range(num_epochs):\n",
        "        for message, labels in train_loader:\n",
        "            optimizer.zero_grad()\n",
        "            pred = model(message[0])\n",
        "            loss = criterion(pred, labels)\n",
        "            loss.backward()\n",
        "            optimizer.step()\n",
        "        train_losses.append(float(loss))\n",
        "\n",
        "        for message, labels in valid_loader:\n",
        "            pred = model(message[0])\n",
        "            loss = criterion(pred, labels)\n",
        "        valid_losses.append(float(loss))\n",
        "\n",
        "        epochs.append(epoch)\n",
        "        train_acc.append(get_accuracy(model, train, batch_size=batch_size))\n",
        "        valid_acc.append(get_accuracy(model, valid, batch_size=batch_size))\n",
        "        print(\"Epoch %d; Loss %f; Train Acc %f; Val Acc %f\" % (\n",
        "              epoch+1, loss, train_acc[-1], valid_acc[-1]))\n",
        "        \n",
        "    if plot:\n",
        "        # plotting\n",
        "        plt.title(\"Training Curve\")\n",
        "        plt.plot(train_losses, label=\"Train\")\n",
        "        plt.plot(valid_losses, label=\"Validation\")\n",
        "        plt.xlabel(\"Epoch\")\n",
        "        plt.ylabel(\"Loss\")\n",
        "        plt.show()\n",
        "\n",
        "        plt.title(\"Training Curve\")\n",
        "        plt.plot(epochs, train_acc, label=\"Train\")\n",
        "        plt.plot(epochs, valid_acc, label=\"Validation\")\n",
        "        plt.xlabel(\"Epoch\")\n",
        "        plt.ylabel(\"Accuracy\")\n",
        "        plt.legend(loc='best')\n",
        "        plt.show()\n",
        "\n",
        "    print(\"Final Training Accuracy: {}\".format(train_acc[-1]))\n",
        "    print(\"Final Validation Accuracy: {}\".format(valid_acc[-1]))\n",
        "\n",
        "    end_time = time.time()\n",
        "    elapsed_time = end_time - start_time\n",
        "    print(\"Total time elapsed: {:.2f} seconds\".format(elapsed_time))"
      ],
      "execution_count": 14,
      "outputs": []
    },
    {
      "cell_type": "code",
      "metadata": {
        "colab": {
          "base_uri": "https://localhost:8080/",
          "height": 964
        },
        "id": "rpDIYH997LSM",
        "outputId": "c6981cc5-5b9e-43e9-d6e9-3e822012879e"
      },
      "source": [
        "input_size = len(text_field.vocab.itos)\r\n",
        "\r\n",
        "SLModel = SpamClassifier(input_size, 100, 2)\r\n",
        "train_rnn_network(SLModel, train, valid, plot=True)"
      ],
      "execution_count": 15,
      "outputs": [
        {
          "output_type": "stream",
          "text": [
            "Epoch 1; Loss 0.719795; Train Acc 0.525452; Val Acc 0.140807\n",
            "Epoch 2; Loss 0.698946; Train Acc 0.587465; Val Acc 0.270852\n",
            "Epoch 3; Loss 0.698869; Train Acc 0.635550; Val Acc 0.658296\n",
            "Epoch 4; Loss 0.663635; Train Acc 0.698060; Val Acc 0.751570\n",
            "Epoch 5; Loss 0.592352; Train Acc 0.787597; Val Acc 0.852018\n",
            "Epoch 6; Loss 0.459497; Train Acc 0.863041; Val Acc 0.820628\n",
            "Epoch 7; Loss 0.594972; Train Acc 0.853921; Val Acc 0.783857\n",
            "Epoch 8; Loss 0.185762; Train Acc 0.901011; Val Acc 0.915695\n",
            "Epoch 9; Loss 0.434343; Train Acc 0.898856; Val Acc 0.862780\n",
            "Epoch 10; Loss 0.060168; Train Acc 0.925883; Val Acc 0.939013\n",
            "Epoch 11; Loss 0.385771; Train Acc 0.921406; Val Acc 0.895067\n",
            "Epoch 12; Loss 0.220300; Train Acc 0.921074; Val Acc 0.905830\n",
            "Epoch 13; Loss 0.224052; Train Acc 0.929033; Val Acc 0.907623\n",
            "Epoch 14; Loss 0.208391; Train Acc 0.938650; Val Acc 0.942601\n",
            "Epoch 15; Loss 0.230327; Train Acc 0.940474; Val Acc 0.940807\n",
            "Epoch 16; Loss 0.126281; Train Acc 0.944785; Val Acc 0.953363\n",
            "Epoch 17; Loss 0.104652; Train Acc 0.945283; Val Acc 0.951570\n",
            "Epoch 18; Loss 0.043316; Train Acc 0.933013; Val Acc 0.956951\n",
            "Epoch 19; Loss 0.190357; Train Acc 0.947770; Val Acc 0.957848\n",
            "Epoch 20; Loss 0.189239; Train Acc 0.947438; Val Acc 0.954260\n"
          ],
          "name": "stdout"
        },
        {
          "output_type": "display_data",
          "data": {
            "image/png": "[encoded data removed]",
            "text/plain": [
              "<Figure size 432x288 with 1 Axes>"
            ]
          },
          "metadata": {
            "tags": [],
            "needs_background": "light"
          }
        },
        {
          "output_type": "display_data",
          "data": {
            "image/png": "[encoded data removed]",
            "text/plain": [
              "<Figure size 432x288 with 1 Axes>"
            ]
          },
          "metadata": {
            "tags": [],
            "needs_background": "light"
          }
        },
        {
          "output_type": "stream",
          "text": [
            "Final Training Accuracy: 0.9474382357817941\n",
            "Final Validation Accuracy: 0.9542600896860987\n",
            "Total time elapsed: 173.29 seconds\n"
          ],
          "name": "stdout"
        }
      ]
    },
    {
      "cell_type": "markdown",
      "metadata": {
        "id": "fE3eRkDAa91F"
      },
      "source": [
        "### Part (c) [4 pt]\n",
        "\n",
        "Choose at least 4 hyperparameters to tune. Explain how you tuned the hyperparameters.\n",
        "You don't need to include your training curve for every model you trained.\n",
        "Instead, explain what hyperparemters you tuned, what the best validation accuracy was,\n",
        "and the reasoning behind the hyperparameter decisions you made.\n",
        "\n",
        "For this assignment, you should tune more than just your learning rate and epoch. \n",
        "Choose at least 2 hyperparameters that are unrelated to the optimizer."
      ]
    },
    {
      "cell_type": "code",
      "metadata": {
        "collapsed": true,
        "id": "A2GEWfDca91G",
        "colab": {
          "base_uri": "https://localhost:8080/"
        },
        "outputId": "7b4f2e02-5ff9-4772-fffd-42226fa8df37"
      },
      "source": [
        "# Double batch size and learning rate\r\n",
        "\r\n",
        "# Doubling the batch size (and accomodating the larger batch size with a larger\r\n",
        "# learning rate) is a first standard guess into the hyperparameter space search.\r\n",
        "\r\n",
        "# Slightly worse training and validation accuracy and higher final losses\r\n",
        "# Training was faster from default by around 13 seconds\r\n",
        "SLModel = SpamClassifier(input_size, 100, 2)\r\n",
        "train_rnn_network(SLModel, train, valid, batch_size=128, learning_rate=1e-04)"
      ],
      "execution_count": 16,
      "outputs": [
        {
          "output_type": "stream",
          "text": [
            "Epoch 1; Loss 0.687331; Train Acc 0.528436; Val Acc 0.809865\n",
            "Epoch 2; Loss 0.684892; Train Acc 0.580667; Val Acc 0.853812\n",
            "Epoch 3; Loss 0.662687; Train Acc 0.637539; Val Acc 0.834978\n",
            "Epoch 4; Loss 0.679990; Train Acc 0.665561; Val Acc 0.782063\n",
            "Epoch 5; Loss 0.638144; Train Acc 0.734704; Val Acc 0.834081\n",
            "Epoch 6; Loss 0.698454; Train Acc 0.815951; Val Acc 0.819731\n",
            "Epoch 7; Loss 0.444207; Train Acc 0.818438; Val Acc 0.767713\n",
            "Epoch 8; Loss 0.254645; Train Acc 0.894876; Val Acc 0.893274\n",
            "Epoch 9; Loss 0.436239; Train Acc 0.818438; Val Acc 0.848430\n",
            "Epoch 10; Loss 0.237453; Train Acc 0.904825; Val Acc 0.884305\n",
            "Epoch 11; Loss 0.106570; Train Acc 0.749959; Val Acc 0.914798\n",
            "Epoch 12; Loss 0.223798; Train Acc 0.915603; Val Acc 0.924664\n",
            "Epoch 13; Loss 0.740038; Train Acc 0.919748; Val Acc 0.927354\n",
            "Epoch 14; Loss 0.485986; Train Acc 0.872492; Val Acc 0.946188\n",
            "Epoch 15; Loss 0.158554; Train Acc 0.931023; Val Acc 0.954260\n",
            "Epoch 16; Loss 0.162383; Train Acc 0.931355; Val Acc 0.954260\n",
            "Epoch 17; Loss 0.219505; Train Acc 0.921074; Val Acc 0.957848\n",
            "Epoch 18; Loss 0.152949; Train Acc 0.933842; Val Acc 0.947085\n",
            "Epoch 19; Loss 0.096326; Train Acc 0.932847; Val Acc 0.956951\n",
            "Epoch 20; Loss 0.126889; Train Acc 0.930857; Val Acc 0.959641\n",
            "Final Training Accuracy: 0.9308572376057038\n",
            "Final Validation Accuracy: 0.9596412556053812\n",
            "Total time elapsed: 140.66 seconds\n"
          ],
          "name": "stdout"
        }
      ]
    },
    {
      "cell_type": "code",
      "metadata": {
        "colab": {
          "base_uri": "https://localhost:8080/"
        },
        "id": "tZrZs2NY-E7o",
        "outputId": "be522262-a37b-4599-bef9-2fc52ca40acf"
      },
      "source": [
        "# Double hidden layer size\r\n",
        "\r\n",
        "# Since adjusting the optimizer hyperparameters did not seem to provide \r\n",
        "# significant increase in accuracy, we can increase the depth of the network\r\n",
        "# by doubling the number of hidden units to see if it would do the trick.\r\n",
        "\r\n",
        "# Slightly worse training accuracy, but higher validation accuracy\r\n",
        "# Lower final losses, overall slightly better performance\r\n",
        "# Training was slower from default by around 110 seconds\r\n",
        "SLModel = SpamClassifier(input_size, 200, 2)\r\n",
        "train_rnn_network(SLModel, train, valid)"
      ],
      "execution_count": 17,
      "outputs": [
        {
          "output_type": "stream",
          "text": [
            "Epoch 1; Loss 0.708384; Train Acc 0.533908; Val Acc 0.159641\n",
            "Epoch 2; Loss 0.681982; Train Acc 0.675676; Val Acc 0.748879\n",
            "Epoch 3; Loss 0.371007; Train Acc 0.608025; Val Acc 0.887892\n",
            "Epoch 4; Loss 0.433958; Train Acc 0.899685; Val Acc 0.932735\n",
            "Epoch 5; Loss 0.154542; Train Acc 0.794893; Val Acc 0.925561\n",
            "Epoch 6; Loss 0.429096; Train Acc 0.890565; Val Acc 0.886996\n",
            "Epoch 7; Loss 0.243838; Train Acc 0.924391; Val Acc 0.949776\n",
            "Epoch 8; Loss 0.086680; Train Acc 0.910794; Val Acc 0.954260\n",
            "Epoch 9; Loss 0.501005; Train Acc 0.910463; Val Acc 0.958744\n",
            "Epoch 10; Loss 0.125122; Train Acc 0.915934; Val Acc 0.932735\n",
            "Epoch 11; Loss 0.380030; Train Acc 0.939148; Val Acc 0.961435\n",
            "Epoch 12; Loss 0.101162; Train Acc 0.945449; Val Acc 0.954260\n",
            "Epoch 13; Loss 0.156281; Train Acc 0.940640; Val Acc 0.960538\n",
            "Epoch 14; Loss 0.119509; Train Acc 0.948433; Val Acc 0.961435\n",
            "Epoch 15; Loss 0.149134; Train Acc 0.951583; Val Acc 0.964126\n",
            "Epoch 16; Loss 0.092504; Train Acc 0.950754; Val Acc 0.964126\n",
            "Epoch 17; Loss 0.151813; Train Acc 0.955895; Val Acc 0.956951\n",
            "Epoch 18; Loss 0.221991; Train Acc 0.959542; Val Acc 0.970404\n",
            "Epoch 19; Loss 0.119253; Train Acc 0.961698; Val Acc 0.968610\n",
            "Epoch 20; Loss 0.159996; Train Acc 0.939645; Val Acc 0.954260\n",
            "Final Training Accuracy: 0.9396451666390316\n",
            "Final Validation Accuracy: 0.9542600896860987\n",
            "Total time elapsed: 269.63 seconds\n"
          ],
          "name": "stdout"
        }
      ]
    },
    {
      "cell_type": "code",
      "metadata": {
        "colab": {
          "base_uri": "https://localhost:8080/"
        },
        "id": "go8zkW2M-FJZ",
        "outputId": "03dc8e2d-6c1b-480c-bcae-bb48c09aeeb4"
      },
      "source": [
        "# Max-pooling over the entire output array\r\n",
        "\r\n",
        "# Deepening the layer did not seem to improve the performance significantly,\r\n",
        "# despite the cost of training time. Using max-pooling layers is another \r\n",
        "# hyperparameter related to the architecture, not the optimizer.\r\n",
        "\r\n",
        "# Significantly higher training accuracy, and slightly higher validation\r\n",
        "# accuracy, with lower losses\r\n",
        "# Training was slower from default by around 65 seconds\r\n",
        "class NewSpamClassifier(nn.Module):\r\n",
        "    def __init__(self, input_size, hidden_size, num_classes):\r\n",
        "        super(NewSpamClassifier, self).__init__()\r\n",
        "        self.emb = torch.eye(input_size)\r\n",
        "        self.hidden_size = hidden_size\r\n",
        "        self.rnn = nn.RNN(input_size, hidden_size, batch_first=True)\r\n",
        "        self.fc = nn.Linear(hidden_size, num_classes)\r\n",
        "\r\n",
        "    def forward(self, x):\r\n",
        "        # look up the embedding\r\n",
        "        x = self.emb[x]\r\n",
        "\r\n",
        "        # set an initial hidden state\r\n",
        "        h0 = torch.zeros(1, x.size(0), self.hidden_size)\r\n",
        "        \r\n",
        "        # forward propagate the RNN\r\n",
        "        out, _ = self.rnn(x, h0)\r\n",
        "        out = self.fc(torch.max(out, dim=1)[0])\r\n",
        "        return out\r\n",
        "\r\n",
        "NSLModel = NewSpamClassifier(input_size, 100, 2)\r\n",
        "train_rnn_network(SLModel, train, valid)"
      ],
      "execution_count": 18,
      "outputs": [
        {
          "output_type": "stream",
          "text": [
            "Epoch 1; Loss 0.020495; Train Acc 0.962361; Val Acc 0.975785\n",
            "Epoch 2; Loss 0.312300; Train Acc 0.951086; Val Acc 0.909417\n",
            "Epoch 3; Loss 0.093955; Train Acc 0.957387; Val Acc 0.940807\n",
            "Epoch 4; Loss 0.073471; Train Acc 0.906152; Val Acc 0.973991\n",
            "Epoch 5; Loss 0.256207; Train Acc 0.956060; Val Acc 0.947982\n",
            "Epoch 6; Loss 0.355592; Train Acc 0.911955; Val Acc 0.912108\n",
            "Epoch 7; Loss 0.117151; Train Acc 0.963853; Val Acc 0.964126\n",
            "Epoch 8; Loss 0.070759; Train Acc 0.966175; Val Acc 0.974888\n",
            "Epoch 9; Loss 0.256094; Train Acc 0.966175; Val Acc 0.978475\n",
            "Epoch 10; Loss 0.702248; Train Acc 0.823412; Val Acc 0.798206\n",
            "Epoch 11; Loss 0.260731; Train Acc 0.973470; Val Acc 0.970404\n",
            "Epoch 12; Loss 0.140935; Train Acc 0.905820; Val Acc 0.935426\n",
            "Epoch 13; Loss 0.152015; Train Acc 0.954071; Val Acc 0.934529\n",
            "Epoch 14; Loss 0.127854; Train Acc 0.960040; Val Acc 0.956951\n",
            "Epoch 15; Loss 0.103137; Train Acc 0.966009; Val Acc 0.956951\n",
            "Epoch 16; Loss 0.089489; Train Acc 0.967667; Val Acc 0.956951\n",
            "Epoch 17; Loss 0.074454; Train Acc 0.968828; Val Acc 0.960538\n",
            "Epoch 18; Loss 0.006311; Train Acc 0.960537; Val Acc 0.977578\n",
            "Epoch 19; Loss 0.089448; Train Acc 0.968828; Val Acc 0.971300\n",
            "Epoch 20; Loss 0.166324; Train Acc 0.968662; Val Acc 0.982063\n",
            "Final Training Accuracy: 0.9686619134471895\n",
            "Final Validation Accuracy: 0.9820627802690582\n",
            "Total time elapsed: 231.50 seconds\n"
          ],
          "name": "stdout"
        }
      ]
    },
    {
      "cell_type": "code",
      "metadata": {
        "colab": {
          "base_uri": "https://localhost:8080/"
        },
        "id": "fxCDdaVP-FUa",
        "outputId": "5f09f7f5-e742-4584-aa04-0f8388f95dec"
      },
      "source": [
        "# Concatenation of different pooling methods over entire output array\r\n",
        "# Uses both max-pooling and average-pooling\r\n",
        "\r\n",
        "# Seeing that using a max-pooling layer improved our training and validation\r\n",
        "# accuracy significantly, we can concatenate both max and average pooling \r\n",
        "# methods to improve it further. \r\n",
        "\r\n",
        "# Higher training and validation accuracy, higher final losses\r\n",
        "# Training was faster from default by around 17 seconds\r\n",
        "class BetterSpamClassifier(nn.Module):\r\n",
        "    def __init__(self, input_size, hidden_size, num_classes):\r\n",
        "        super(BetterSpamClassifier, self).__init__()\r\n",
        "        self.emb = torch.eye(input_size)\r\n",
        "        self.hidden_size = hidden_size\r\n",
        "        self.rnn = nn.RNN(input_size, hidden_size, batch_first=True)\r\n",
        "        self.fc = nn.Linear(hidden_size * 2, num_classes)\r\n",
        "\r\n",
        "    def forward(self, x):\r\n",
        "        # look up the embedding\r\n",
        "        x = self.emb[x]\r\n",
        "\r\n",
        "        # set an initial hidden state\r\n",
        "        h0 = torch.zeros(1, x.size(0), self.hidden_size)\r\n",
        "        \r\n",
        "        # forward propagate the RNN\r\n",
        "        out, _ = self.rnn(x)\r\n",
        "        out = torch.cat([torch.max(out, dim=1)[0], \r\n",
        "                        torch.mean(out, dim=1)], dim=1)\r\n",
        "        out = self.fc(out)\r\n",
        "        return out\r\n",
        "\r\n",
        "BSLModel = BetterSpamClassifier(input_size, 100, 2)\r\n",
        "train_rnn_network(BSLModel, train, valid)"
      ],
      "execution_count": 19,
      "outputs": [
        {
          "output_type": "stream",
          "text": [
            "Epoch 1; Loss 0.679401; Train Acc 0.653291; Val Acc 0.486996\n",
            "Epoch 2; Loss 0.701218; Train Acc 0.553474; Val Acc 0.235874\n",
            "Epoch 3; Loss 0.717462; Train Acc 0.526115; Val Acc 0.147982\n",
            "Epoch 4; Loss 0.718347; Train Acc 0.530095; Val Acc 0.156951\n",
            "Epoch 5; Loss 0.711919; Train Acc 0.551318; Val Acc 0.194619\n",
            "Epoch 6; Loss 0.663954; Train Acc 0.895540; Val Acc 0.851121\n",
            "Epoch 7; Loss 0.555725; Train Acc 0.884430; Val Acc 0.895067\n",
            "Epoch 8; Loss 0.302112; Train Acc 0.872161; Val Acc 0.946188\n",
            "Epoch 9; Loss 0.474776; Train Acc 0.879125; Val Acc 0.951570\n",
            "Epoch 10; Loss 0.185203; Train Acc 0.904825; Val Acc 0.954260\n",
            "Epoch 11; Loss 0.498884; Train Acc 0.938484; Val Acc 0.934529\n",
            "Epoch 12; Loss 0.273821; Train Acc 0.939811; Val Acc 0.937220\n",
            "Epoch 13; Loss 0.414537; Train Acc 0.903167; Val Acc 0.857399\n",
            "Epoch 14; Loss 0.214195; Train Acc 0.942961; Val Acc 0.932735\n",
            "Epoch 15; Loss 0.251762; Train Acc 0.939977; Val Acc 0.926457\n",
            "Epoch 16; Loss 0.149302; Train Acc 0.950423; Val Acc 0.955157\n",
            "Epoch 17; Loss 0.253313; Train Acc 0.947770; Val Acc 0.943498\n",
            "Epoch 18; Loss 0.071577; Train Acc 0.952247; Val Acc 0.951570\n",
            "Epoch 19; Loss 0.132844; Train Acc 0.956392; Val Acc 0.958744\n",
            "Epoch 20; Loss 0.212830; Train Acc 0.957553; Val Acc 0.956054\n",
            "Final Training Accuracy: 0.9575526446692091\n",
            "Final Validation Accuracy: 0.9560538116591928\n",
            "Total time elapsed: 134.85 seconds\n"
          ],
          "name": "stdout"
        }
      ]
    },
    {
      "cell_type": "markdown",
      "metadata": {
        "id": "v7DY56rKa91I"
      },
      "source": [
        "### Part (d) [2 pt]\n",
        "\n",
        "Before we deploy a machine learning model, we usually want to have a better understanding\n",
        "of how our model performs beyond its validation accuracy. An important metric to track is\n",
        "*how well our model performs in certain subsets of the data*.\n",
        "\n",
        "In particular, what is the model's error rate amongst data with negative labels?\n",
        "This is called the **false positive rate**.\n",
        "\n",
        "What about the model's error rate amongst data with positive labels?\n",
        "This is called the **false negative rate**.\n",
        "\n",
        "Report your final model's false positive and false negative rate across the\n",
        "validation set."
      ]
    },
    {
      "cell_type": "code",
      "metadata": {
        "collapsed": true,
        "id": "7ggbQSdba91J",
        "colab": {
          "base_uri": "https://localhost:8080/"
        },
        "outputId": "922c6453-f8d6-49e0-9aa9-bbdff7f57daa"
      },
      "source": [
        "# Create a Dataset of only spam validation examples\n",
        "valid_spam = torchtext.legacy.data.Dataset(\n",
        "    [e for e in valid.examples if e.label == 1],\n",
        "    valid.fields)\n",
        "# Create a Dataset of only non-spam validation examples\n",
        "valid_nospam = torchtext.legacy.data.Dataset(\n",
        "    [e for e in valid.examples if e.label == 0],\n",
        "    valid.fields)\n",
        "\n",
        "print(\"False positive rate =\", 1. - get_accuracy(BSLModel, valid_nospam))\n",
        "print(\"False negative rate =\", 1. - get_accuracy(BSLModel, valid_spam))"
      ],
      "execution_count": 20,
      "outputs": [
        {
          "output_type": "stream",
          "text": [
            "False positive rate = 0.041450777202072575\n",
            "False negative rate = 0.053333333333333344\n"
          ],
          "name": "stdout"
        }
      ]
    },
    {
      "cell_type": "markdown",
      "metadata": {
        "id": "N1iRteb3a91O"
      },
      "source": [
        "### Part (e) [2 pt]\n",
        "\n",
        "The impact of a false positive vs a false negative can be drastically different.\n",
        "If our spam detection algorithm was deployed on your phone, what is the impact\n",
        "of a false positive on the phone's user? What is the impact of a false negative?"
      ]
    },
    {
      "cell_type": "code",
      "metadata": {
        "collapsed": true,
        "id": "hFLUOJTGa91Q"
      },
      "source": [
        "# False positive rate measures how many non-spam emails the model will mark as \r\n",
        "# spam. This is dangerous, as it will mean the detection algorithm could\r\n",
        "# possibly mark important non-spam email, such as business or personal emails,\r\n",
        "# into the spam bin.\r\n",
        "\r\n",
        "# False negative rate measures how many spam emails the model will miss and mark\r\n",
        "# as non-spam. This is less as important, as it will mean that the detection\r\n",
        "# algorithm willy simply miss marking some emails as spam. \r\n",
        "\r\n",
        "# As the user will be the ultimate last-line of defense against spam mails, it \r\n",
        "# is far better to accidentally mark an email as non-spam than spam."
      ],
      "execution_count": 21,
      "outputs": []
    },
    {
      "cell_type": "markdown",
      "metadata": {
        "id": "Gznefulsa91V"
      },
      "source": [
        "## Part 4. Evaluation [11 pt]\n",
        "\n",
        "### Part (a) [1 pt]\n",
        "\n",
        "Report the final test accuracy of your model."
      ]
    },
    {
      "cell_type": "code",
      "metadata": {
        "collapsed": true,
        "id": "D5L5D-A1a91W",
        "colab": {
          "base_uri": "https://localhost:8080/"
        },
        "outputId": "6a334179-7b3f-42e8-a628-c0ae9d88eb73"
      },
      "source": [
        "print(\"Test accuracy =\", get_accuracy(BSLModel, test))"
      ],
      "execution_count": 22,
      "outputs": [
        {
          "output_type": "stream",
          "text": [
            "Test accuracy = 0.9326750448833034\n"
          ],
          "name": "stdout"
        }
      ]
    },
    {
      "cell_type": "markdown",
      "metadata": {
        "id": "6Hjmd8rca91Y"
      },
      "source": [
        "### Part (b) [3 pt]\n",
        "\n",
        "Report the false positive rate and false negative rate of your model across the test set."
      ]
    },
    {
      "cell_type": "code",
      "metadata": {
        "collapsed": true,
        "id": "GFiAKztJa91Z",
        "colab": {
          "base_uri": "https://localhost:8080/"
        },
        "outputId": "73dd866f-3d17-40e7-c6b8-4f567901562b"
      },
      "source": [
        "# Create a Dataset of only spam testing examples\r\n",
        "test_spam = torchtext.legacy.data.Dataset(\r\n",
        "    [e for e in test.examples if e.label == 1],\r\n",
        "    test.fields)\r\n",
        "# Create a Dataset of only non-spam testing examples\r\n",
        "test_nospam = torchtext.legacy.data.Dataset(\r\n",
        "    [e for e in test.examples if e.label == 0],\r\n",
        "    test.fields)\r\n",
        "\r\n",
        "print(\"False positive rate =\", 1. - get_accuracy(BSLModel, test_nospam))\r\n",
        "print(\"False negative rate =\", 1. - get_accuracy(BSLModel, test_spam))"
      ],
      "execution_count": 23,
      "outputs": [
        {
          "output_type": "stream",
          "text": [
            "False positive rate = 0.06735751295336789\n",
            "False negative rate = 0.05369127516778527\n"
          ],
          "name": "stdout"
        }
      ]
    },
    {
      "cell_type": "markdown",
      "metadata": {
        "id": "0jGHtQFpa91b"
      },
      "source": [
        "### Part (c) [3 pt]\n",
        "\n",
        "What is your model's prediction of the **probability** that\n",
        "the SMS message \"machine learning is sooo cool!\" is spam?\n",
        "\n",
        "Hint: To begin, use `text_field.vocab.stoi` to look up the index\n",
        "of each character in the vocabulary."
      ]
    },
    {
      "cell_type": "code",
      "metadata": {
        "collapsed": true,
        "id": "h_2nSJq8a91b",
        "colab": {
          "base_uri": "https://localhost:8080/"
        },
        "outputId": "d43b54fa-5173-4b4e-c673-57cbb4240464"
      },
      "source": [
        "msg = \"machine learning is sooo cool!\"\r\n",
        "\r\n",
        "msg_stoi = torch.LongTensor([\r\n",
        "    text_field.vocab.stoi[char]\r\n",
        "\r\n",
        "    for char in msg\r\n",
        "])\r\n",
        "\r\n",
        "pred = BSLModel(msg_stoi.unsqueeze(0))\r\n",
        "prob = np.exp(float(pred[0][1])) / (np.exp(float(pred[0][0])) + np.exp(float(pred[0][1])))\r\n",
        "print(\"Probability of spam =\", prob)"
      ],
      "execution_count": 24,
      "outputs": [
        {
          "output_type": "stream",
          "text": [
            "Probability of spam = 0.09529487748984654\n"
          ],
          "name": "stdout"
        }
      ]
    },
    {
      "cell_type": "markdown",
      "metadata": {
        "id": "QD1zgYJpa91f"
      },
      "source": [
        "### Part (d) [4 pt]\n",
        "\n",
        "Do you think detecting spam is an easy or difficult task?\n",
        "\n",
        "Since machine learning models are expensive to train and deploy, it is very\n",
        "important to compare our models against baseline models: a simple\n",
        "model that is easy to build and inexpensive to run that we can compare our\n",
        "recurrent neural network model against.\n",
        "\n",
        "Explain how you might build a simple baseline model. This baseline model\n",
        "can be a simple neural network (with very few weights), a hand-written algorithm,\n",
        "or any other strategy that is easy to build and test.\n",
        "\n",
        "**Do not actually build a baseline model. Instead, provide instructions on\n",
        "how to build it.**"
      ]
    },
    {
      "cell_type": "code",
      "metadata": {
        "collapsed": true,
        "id": "LTndp-IOa91g"
      },
      "source": [
        "# Spam detection is a fairly straightforward task that is often used as an \r\n",
        "# introductory task for new students to machine learning. There is a variation\r\n",
        "# of a spam-detecting algorithm in almost every machine learning field such as\r\n",
        "# Naive-Bayes or SVM. \r\n",
        "\r\n",
        "# A super simple non-machine-learning spam detection algorithm can be a \r\n",
        "# heuristic filter with a list of common spam keywords. Given an email, the\r\n",
        "# algorithm can search for certain keywords that are common in spam emails such\r\n",
        "# as \"payment\" or \"prize\". The algorithm can then assign a value to this email\r\n",
        "# (the higher the value, the more keywords are present, the more likely it will\r\n",
        "# be a spam email), and if the value has surpassed a certain threshold, the\r\n",
        "# algorithm will classify the email as spam."
      ],
      "execution_count": 25,
      "outputs": []
    }
  ]
}
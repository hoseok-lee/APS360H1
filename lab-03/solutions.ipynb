{
  "nbformat": 4,
  "nbformat_minor": 0,
  "metadata": {
    "colab": {
      "name": "Lab_3_Gesture_Recognition.ipynb",
      "provenance": [],
      "collapsed_sections": []
    },
    "kernelspec": {
      "display_name": "Python 3",
      "language": "python",
      "name": "python3"
    },
    "language_info": {
      "codemirror_mode": {
        "name": "ipython",
        "version": 3
      },
      "file_extension": ".py",
      "mimetype": "text/x-python",
      "name": "python",
      "nbconvert_exporter": "python",
      "pygments_lexer": "ipython3",
      "version": "3.6.3"
    },
    "accelerator": "GPU",
    "widgets": {
      "application/vnd.jupyter.widget-state+json": {
        "6be94138164a4e16b0abeebcd2b3bb04": {
          "model_module": "@jupyter-widgets/controls",
          "model_name": "HBoxModel",
          "state": {
            "_view_name": "HBoxView",
            "_dom_classes": [],
            "_model_name": "HBoxModel",
            "_view_module": "@jupyter-widgets/controls",
            "_model_module_version": "1.5.0",
            "_view_count": null,
            "_view_module_version": "1.5.0",
            "box_style": "",
            "layout": "IPY_MODEL_b46489147026445b817d95201b830d0f",
            "_model_module": "@jupyter-widgets/controls",
            "children": [
              "IPY_MODEL_5c2f0b777d5c4b5bb7b52f128de23a61",
              "IPY_MODEL_74b80b13079a428f8c081d1312cde05b"
            ]
          }
        },
        "b46489147026445b817d95201b830d0f": {
          "model_module": "@jupyter-widgets/base",
          "model_name": "LayoutModel",
          "state": {
            "_view_name": "LayoutView",
            "grid_template_rows": null,
            "right": null,
            "justify_content": null,
            "_view_module": "@jupyter-widgets/base",
            "overflow": null,
            "_model_module_version": "1.2.0",
            "_view_count": null,
            "flex_flow": null,
            "width": null,
            "min_width": null,
            "border": null,
            "align_items": null,
            "bottom": null,
            "_model_module": "@jupyter-widgets/base",
            "top": null,
            "grid_column": null,
            "overflow_y": null,
            "overflow_x": null,
            "grid_auto_flow": null,
            "grid_area": null,
            "grid_template_columns": null,
            "flex": null,
            "_model_name": "LayoutModel",
            "justify_items": null,
            "grid_row": null,
            "max_height": null,
            "align_content": null,
            "visibility": null,
            "align_self": null,
            "height": null,
            "min_height": null,
            "padding": null,
            "grid_auto_rows": null,
            "grid_gap": null,
            "max_width": null,
            "order": null,
            "_view_module_version": "1.2.0",
            "grid_template_areas": null,
            "object_position": null,
            "object_fit": null,
            "grid_auto_columns": null,
            "margin": null,
            "display": null,
            "left": null
          }
        },
        "5c2f0b777d5c4b5bb7b52f128de23a61": {
          "model_module": "@jupyter-widgets/controls",
          "model_name": "FloatProgressModel",
          "state": {
            "_view_name": "ProgressView",
            "style": "IPY_MODEL_d182dcaceed54068892697c5c6e87c6b",
            "_dom_classes": [],
            "description": "100%",
            "_model_name": "FloatProgressModel",
            "bar_style": "success",
            "max": 244418560,
            "_view_module": "@jupyter-widgets/controls",
            "_model_module_version": "1.5.0",
            "value": 244418560,
            "_view_count": null,
            "_view_module_version": "1.5.0",
            "orientation": "horizontal",
            "min": 0,
            "description_tooltip": null,
            "_model_module": "@jupyter-widgets/controls",
            "layout": "IPY_MODEL_cdf9673628384549b3f31f3e4f83878a"
          }
        },
        "74b80b13079a428f8c081d1312cde05b": {
          "model_module": "@jupyter-widgets/controls",
          "model_name": "HTMLModel",
          "state": {
            "_view_name": "HTMLView",
            "style": "IPY_MODEL_003a70fd08044e98b708f100ed5e908d",
            "_dom_classes": [],
            "description": "",
            "_model_name": "HTMLModel",
            "placeholder": "​",
            "_view_module": "@jupyter-widgets/controls",
            "_model_module_version": "1.5.0",
            "value": " 233M/233M [11:56&lt;00:00, 341kB/s]",
            "_view_count": null,
            "_view_module_version": "1.5.0",
            "description_tooltip": null,
            "_model_module": "@jupyter-widgets/controls",
            "layout": "IPY_MODEL_de22fed91b7e461784ae20b09b18e2b8"
          }
        },
        "d182dcaceed54068892697c5c6e87c6b": {
          "model_module": "@jupyter-widgets/controls",
          "model_name": "ProgressStyleModel",
          "state": {
            "_view_name": "StyleView",
            "_model_name": "ProgressStyleModel",
            "description_width": "initial",
            "_view_module": "@jupyter-widgets/base",
            "_model_module_version": "1.5.0",
            "_view_count": null,
            "_view_module_version": "1.2.0",
            "bar_color": null,
            "_model_module": "@jupyter-widgets/controls"
          }
        },
        "cdf9673628384549b3f31f3e4f83878a": {
          "model_module": "@jupyter-widgets/base",
          "model_name": "LayoutModel",
          "state": {
            "_view_name": "LayoutView",
            "grid_template_rows": null,
            "right": null,
            "justify_content": null,
            "_view_module": "@jupyter-widgets/base",
            "overflow": null,
            "_model_module_version": "1.2.0",
            "_view_count": null,
            "flex_flow": null,
            "width": null,
            "min_width": null,
            "border": null,
            "align_items": null,
            "bottom": null,
            "_model_module": "@jupyter-widgets/base",
            "top": null,
            "grid_column": null,
            "overflow_y": null,
            "overflow_x": null,
            "grid_auto_flow": null,
            "grid_area": null,
            "grid_template_columns": null,
            "flex": null,
            "_model_name": "LayoutModel",
            "justify_items": null,
            "grid_row": null,
            "max_height": null,
            "align_content": null,
            "visibility": null,
            "align_self": null,
            "height": null,
            "min_height": null,
            "padding": null,
            "grid_auto_rows": null,
            "grid_gap": null,
            "max_width": null,
            "order": null,
            "_view_module_version": "1.2.0",
            "grid_template_areas": null,
            "object_position": null,
            "object_fit": null,
            "grid_auto_columns": null,
            "margin": null,
            "display": null,
            "left": null
          }
        },
        "003a70fd08044e98b708f100ed5e908d": {
          "model_module": "@jupyter-widgets/controls",
          "model_name": "DescriptionStyleModel",
          "state": {
            "_view_name": "StyleView",
            "_model_name": "DescriptionStyleModel",
            "description_width": "",
            "_view_module": "@jupyter-widgets/base",
            "_model_module_version": "1.5.0",
            "_view_count": null,
            "_view_module_version": "1.2.0",
            "_model_module": "@jupyter-widgets/controls"
          }
        },
        "de22fed91b7e461784ae20b09b18e2b8": {
          "model_module": "@jupyter-widgets/base",
          "model_name": "LayoutModel",
          "state": {
            "_view_name": "LayoutView",
            "grid_template_rows": null,
            "right": null,
            "justify_content": null,
            "_view_module": "@jupyter-widgets/base",
            "overflow": null,
            "_model_module_version": "1.2.0",
            "_view_count": null,
            "flex_flow": null,
            "width": null,
            "min_width": null,
            "border": null,
            "align_items": null,
            "bottom": null,
            "_model_module": "@jupyter-widgets/base",
            "top": null,
            "grid_column": null,
            "overflow_y": null,
            "overflow_x": null,
            "grid_auto_flow": null,
            "grid_area": null,
            "grid_template_columns": null,
            "flex": null,
            "_model_name": "LayoutModel",
            "justify_items": null,
            "grid_row": null,
            "max_height": null,
            "align_content": null,
            "visibility": null,
            "align_self": null,
            "height": null,
            "min_height": null,
            "padding": null,
            "grid_auto_rows": null,
            "grid_gap": null,
            "max_width": null,
            "order": null,
            "_view_module_version": "1.2.0",
            "grid_template_areas": null,
            "object_position": null,
            "object_fit": null,
            "grid_auto_columns": null,
            "margin": null,
            "display": null,
            "left": null
          }
        }
      }
    }
  },
  "cells": [
    {
      "cell_type": "markdown",
      "metadata": {
        "id": "X6WDvajSqIDs"
      },
      "source": [
        "# Lab 3: Gesture Recognition using Convolutional Neural Networks\n",
        "\n",
        "**Deadlines**: Feb 8, 5:00PM\n",
        "\n",
        "**Late Penalty**: There is a penalty-free grace period of one hour past the deadline. Any work that is submitted between 1 hour and 24 hours past the deadline will receive a 20% grade deduction. No other late work is accepted. Quercus submission time will be used, not your local computer time. You can submit your labs as many times as you want before the deadline, so please submit often and early.\n",
        "\n",
        "**Grading TAs**: \n",
        "Geoff Donoghue  \n",
        "\n",
        "This lab is based on an assignment developed by Prof. Lisa Zhang.\n",
        "\n",
        "This lab will be completed in two parts. In Part A you will you will gain experience gathering your own data set (specifically images of hand gestures), and understand the challenges involved in the data cleaning process. In Part B you will train a convolutional neural network to make classifications on different hand gestures. By the end of the lab, you should be able to:\n",
        "\n",
        "1. Generate and preprocess your own data\n",
        "2. Load and split data for training, validation and testing\n",
        "3. Train a Convolutional Neural Network\n",
        "4. Apply transfer learning to improve your model\n",
        "\n",
        "Note that for this lab we will not be providing you with any starter code. You should be able to take the code used in previous labs, tutorials and lectures and modify it accordingly to complete the tasks outlined below.\n",
        "\n",
        "### What to submit\n",
        "\n",
        "**Submission for Part A:**  \n",
        "Submit a zip file containing your images. Three images each of American Sign Language gestures for letters A - I (total of 27 images). You will be required to clean the images before submitting them. Details are provided under Part A of the handout.\n",
        "\n",
        "Individual image file names should follow the convention of student-number_Alphabet_file-number.jpg\n",
        "(e.g. 100343434_A_1.jpg).\n",
        "\n",
        "\n",
        "**Submission for Part B:**  \n",
        "Submit a PDF file containing all your code, outputs, and write-up\n",
        "from parts 1-5. You can produce a PDF of your Google Colab file by\n",
        "going to **File > Print** and then save as PDF. The Colab instructions\n",
        "has more information. Make sure to review the PDF submission to ensure that your answers are easy to read. Make sure that your text is not cut off at the margins. \n",
        "\n",
        "**Do not submit any other files produced by your code.**\n",
        "\n",
        "Include a link to your colab file in your submission.\n",
        "\n",
        "Please use Google Colab to complete this assignment. If you want to use Jupyter Notebook, please complete the assignment and upload your Jupyter Notebook file to Google Colab for submission. "
      ]
    },
    {
      "cell_type": "markdown",
      "metadata": {
        "id": "LfiFE_WOqIDu"
      },
      "source": [
        "## Colab Link\n",
        "\n",
        "Include a link to your colab file here\n",
        "\n",
        "Colab Link: https://drive.google.com/file/d/1QaOnfna2Cdmm80dPuGNltIIalLuzLzJH/view?usp=sharing"
      ]
    },
    {
      "cell_type": "markdown",
      "metadata": {
        "id": "kvTXpH_kqIDy"
      },
      "source": [
        "## Part A. Data Collection [10 pt]\n",
        "\n",
        "So far, we have worked with data sets that have been collected, cleaned, and curated by machine learning\n",
        "researchers and practitioners. Datasets like MNIST and CIFAR are often used as toy examples, both by\n",
        "students and by researchers testing new machine learning models.\n",
        "\n",
        "In the real world, getting a clean data set is never that easy. More than half the work in applying machine\n",
        "learning is finding, gathering, cleaning, and formatting your data set.\n",
        "\n",
        "The purpose of this lab is to help you gain experience gathering your own data set, and understand the\n",
        "challenges involved in the data cleaning process.\n",
        "\n",
        "### American Sign Language\n",
        "\n",
        "American Sign Language (ASL) is a complete, complex language that employs signs made by moving the\n",
        "hands combined with facial expressions and postures of the body. It is the primary language of many\n",
        "North Americans who are deaf and is one of several communication options used by people who are deaf or\n",
        "hard-of-hearing.\n",
        "\n",
        "The hand gestures representing English alphabet are shown below. This lab focuses on classifying a subset\n",
        "of these hand gesture images using convolutional neural networks. Specifically, given an image of a hand\n",
        "showing one of the letters A-I, we want to detect which letter is being represented.\n",
        "\n",
        "![alt text](https://www.disabled-world.com/pics/1/asl-alphabet.jpg)\n",
        "\n",
        "\n",
        "### Generating Data\n",
        "We will produce the images required for this lab by ourselves. Each student will collect, clean and submit\n",
        "three images each of Americal Sign Language gestures for letters A - I (total of 27 images)\n",
        "Steps involved in data collection\n",
        "\n",
        "1. Familiarize yourself with American Sign Language gestures for letters from A - I (9 letters).\n",
        "2. Take three pictures at slightly different orientation for each letter gesture using your\n",
        "mobile phone.\n",
        " - Ensure adequate lighting while you are capturing the images.\n",
        " - Use a white wall as your background.\n",
        " - Use your right hand to create gestures (for consistency).\n",
        " - Keep your right hand fairly apart from your body and any other obstructions.\n",
        " - Avoid having shadows on parts of your hand.\n",
        "3. Transfer the images to your laptop for cleaning.\n",
        "\n",
        "### Cleaning Data\n",
        "To simplify the machine learning the task, we will standardize the training images. We will make sure that\n",
        "all our images are of the same size (224 x 224 pixels RGB), and have the hand in the center of the cropped\n",
        "regions.\n",
        "\n",
        "You may use the following applications to crop and resize your images:\n",
        "\n",
        "**Mac**\n",
        "- Use Preview:\n",
        "– Holding down CMD + Shift will keep a square aspect ratio while selecting the hand area.\n",
        "– Resize to 224x224 pixels.\n",
        "\n",
        "**Windows 10**\n",
        "- Use Photos app to edit and crop the image and keep the aspect ratio a square.\n",
        "- Use Paint to resize the image to the final image size of 224x224 pixels.\n",
        "\n",
        "**Linux**\n",
        "- You can use GIMP, imagemagick, or other tools of your choosing.\n",
        "You may also use online tools such as http://picresize.com\n",
        "All the above steps are illustrative only. You need not follow these steps but following these will ensure that\n",
        "you produce a good quality dataset. You will be judged based on the quality of the images alone.\n",
        "Please do not edit your photos in any other way. You should not need to change the aspect ratio of your\n",
        "image. You also should not digitally remove the background or shadows—instead, take photos with a white\n",
        "background and minimal shadows.\n",
        "\n",
        "### Accepted Images\n",
        "Images will be accepted and graded based on the criteria below\n",
        "1. The final image should be size 224x224 pixels (RGB).\n",
        "2. The file format should be a .jpg file.\n",
        "3. The hand should be approximately centered on the frame.\n",
        "4. The hand should not be obscured or cut off.\n",
        "5. The photos follows the ASL gestures posted earlier.\n",
        "6. The photos were not edited in any other way (e.g. no electronic removal of shadows or background).\n",
        "\n",
        "### Submission\n",
        "Submit a zip file containing your images. There should be a total of 27 images (3 for each category)\n",
        "1. Individual image file names should follow the convention of student-number_Alphabet_file-number.jpg\n",
        "(e.g. 100343434_A_1.jpg)\n",
        "2. Zip all the images together and name it with the following convention: last-name_student-number.zip\n",
        "(e.g. last-name_100343434.zip).\n",
        "3. Submit the zipped folder.\n",
        "We will be anonymizing and combining the images that everyone submits. We will announce when the\n",
        "combined data set will be available for download.\n",
        "\n",
        "![alt text](https://github.com/UTNeural/APS360/blob/master/Gesture%20Images.PNG?raw=true)"
      ]
    },
    {
      "cell_type": "markdown",
      "metadata": {
        "id": "bJxMgWGNqID2"
      },
      "source": [
        "## Part B. Building a CNN [50 pt]\n",
        "\n",
        "For this lab, we are not going to give you any starter code. You will be writing a convolutional neural network\n",
        "from scratch. You are welcome to use any code from previous labs, lectures and tutorials. You should also\n",
        "write your own code.\n",
        "\n",
        "You may use the PyTorch documentation freely. You might also find online tutorials helpful. However, all\n",
        "code that you submit must be your own.\n",
        "\n",
        "Make sure that your code is vectorized, and does not contain obvious inefficiencies (for example, unecessary\n",
        "for loops, or unnecessary calls to unsqueeze()). Ensure enough comments are included in the code so that\n",
        "your TA can understand what you are doing. It is your responsibility to show that you understand what you\n",
        "write.\n",
        "\n",
        "**This is much more challenging and time-consuming than the previous labs.** Make sure that you\n",
        "give yourself plenty of time by starting early."
      ]
    },
    {
      "cell_type": "markdown",
      "metadata": {
        "id": "MiDuQaAh56sT"
      },
      "source": [
        "### 1. Data Loading and Splitting [5 pt]\n",
        "\n",
        "Download the anonymized data provided on Quercus. To allow you to get a heads start on this project we will provide you with sample data from previous years. Split the data into training, validation, and test sets.\n",
        "\n",
        "Note: Data splitting is not as trivial in this lab. We want our test set to closely resemble the setting in which\n",
        "our model will be used. In particular, our test set should contain hands that are never seen in training!\n",
        "\n",
        "Explain how you split the data, either by describing what you did, or by showing the code that you used.\n",
        "Justify your choice of splitting strategy. How many training, validation, and test images do you have?\n",
        "\n",
        "For loading the data, you can use plt.imread as in Lab 1, or any other method that you choose. You may find\n",
        "torchvision.datasets.ImageFolder helpful. (see https://pytorch.org/docs/stable/torchvision/datasets.html?highlight=image%20folder#torchvision.datasets.ImageFolder\n",
        ") "
      ]
    },
    {
      "cell_type": "code",
      "metadata": {
        "collapsed": true,
        "id": "WBrH5kBqRLa6"
      },
      "source": [
        "import time\n",
        "import numpy as np\n",
        "import torch\n",
        "import torch.nn as nn\n",
        "import torch.nn.functional as F\n",
        "\n",
        "import matplotlib.pyplot as plt\n",
        "import torch.optim as optim\n",
        "\n",
        "# Use GPU\n",
        "use_cuda = True"
      ],
      "execution_count": null,
      "outputs": []
    },
    {
      "cell_type": "code",
      "metadata": {
        "id": "Q8Pch-Mo_lqP",
        "colab": {
          "base_uri": "https://localhost:8080/"
        },
        "outputId": "c0af4300-c673-4cca-fda0-108638ed4229"
      },
      "source": [
        "from google.colab import drive\n",
        "drive.mount('/content/gdrive')"
      ],
      "execution_count": null,
      "outputs": [
        {
          "output_type": "stream",
          "text": [
            "Mounted at /content/gdrive\n"
          ],
          "name": "stdout"
        }
      ]
    },
    {
      "cell_type": "code",
      "metadata": {
        "id": "o36xU_zX_dFf"
      },
      "source": [
        "import torchvision\n",
        "import torchvision.transforms as transforms\n",
        "from torch.utils.data.sampler import SubsetRandomSampler\n",
        "\n",
        "def get_data_loader (data_path, batch_size=64):\n",
        "  # Consistent seed\n",
        "  torch.manual_seed(1)\n",
        "  np.random.seed(1)\n",
        "\n",
        "  # Transform PIL images to Tensors of normalized range [-1, 1]\n",
        "  transform = transforms.Compose(\n",
        "      [transforms.ToTensor(),\n",
        "       transforms.Normalize((0.5, 0.5, 0.5), (0.5, 0.5, 0.5)),\n",
        "       transforms.Resize((224, 224))])\n",
        "  \n",
        "  # Retrieve data using ImageFolder() and the data_path passed in\n",
        "  # Pass in the transformation\n",
        "  data = torchvision.datasets.ImageFolder(root=data_path, transform=transform)\n",
        "\n",
        "  # Randomize indices\n",
        "  # Use a strict list of indices ensures that there are no intersecting data\n",
        "  # points between the trainin, validation, and testing set. The shuffle()\n",
        "  # function will be seeded and is reproducible.\n",
        "  indices = np.arange(len(data))\n",
        "  np.random.shuffle(indices)\n",
        "\n",
        "  # 60%, 20%, 20% split between training, validation, and testing\n",
        "  train_end = int(len(data) * 0.6)\n",
        "  val_end = train_end + int(len(data) * 0.2)\n",
        "\n",
        "  # Generate DataLoader objects\n",
        "  train_sampler = SubsetRandomSampler(indices[:train_end])\n",
        "  train_loader = torch.utils.data.DataLoader(data, \n",
        "                                             batch_size=batch_size,\n",
        "                                             sampler=train_sampler)\n",
        "  \n",
        "  val_sampler = SubsetRandomSampler(indices[train_end:val_end])\n",
        "  val_loader = torch.utils.data.DataLoader(data, \n",
        "                                           batch_size=batch_size,\n",
        "                                           sampler=val_sampler)\n",
        "  \n",
        "  test_sampler = SubsetRandomSampler(indices[val_end:])\n",
        "  test_loader = torch.utils.data.DataLoader(data, \n",
        "                                            batch_size=batch_size, \n",
        "                                            sampler=test_sampler)\n",
        "\n",
        "  return train_loader, val_loader, test_loader"
      ],
      "execution_count": null,
      "outputs": []
    },
    {
      "cell_type": "code",
      "metadata": {
        "id": "E-yZQQE_A64A"
      },
      "source": [
        "def get_accuracy (model, data_loader):\n",
        "  correct = 0\n",
        "  total = 0\n",
        "  \n",
        "  for images, labels in data_loader:\n",
        "    #############################################\n",
        "    #To Enable GPU Usage\n",
        "    if use_cuda and torch.cuda.is_available():\n",
        "      images = images.cuda()\n",
        "      labels = labels.cuda()\n",
        "    #############################################\n",
        "\n",
        "    output = model(images)\n",
        "    \n",
        "    # Select index with maximum prediction score\n",
        "    pred = output.max(1, keepdim=True)[1]\n",
        "    correct += pred.eq(labels.view_as(pred)).sum().item()\n",
        "    total += images.shape[0]\n",
        "    \n",
        "  return correct / total"
      ],
      "execution_count": null,
      "outputs": []
    },
    {
      "cell_type": "markdown",
      "metadata": {
        "id": "5VWX4DGY5gQE"
      },
      "source": [
        "### 2. Model Building and Sanity Checking [15 pt]\n",
        "\n",
        "### Part (a) Convolutional Network - 5 pt\n",
        "\n",
        "Build a convolutional neural network model that takes the (224x224 RGB) image as input, and predicts the gesture\n",
        "letter. Your model should be a subclass of nn.Module. Explain your choice of neural network architecture: how\n",
        "many layers did you choose? What types of layers did you use? Were they fully-connected or convolutional?\n",
        "What about other decisions like pooling layers, activation functions, number of channels / hidden units?"
      ]
    },
    {
      "cell_type": "code",
      "metadata": {
        "collapsed": true,
        "id": "2dtx1z5951fS"
      },
      "source": [
        "# The CNN follows a similar structure to the CNN used for digit detection in \n",
        "# LeNet5. I thought that detecting ASL might have similarities with detecting\n",
        "# written digits, and used a very similar structure to LeNet5. \n",
        "\n",
        "# The convolutional layers sandwich a max pooling layer. The kernels themselves\n",
        "# are sized at 5x5, and the layers grow larger down the network. This is to\n",
        "# allow fast and efficient feature extraction and filtering. \n",
        "\n",
        "# The classification module is a 3-layer fully-connected neural network with\n",
        "# 160 + 32 hidden units. This is a deep network that takes in the quickly \n",
        "# filtered information and classifies it accordingly.\n",
        "\n",
        "class ASLNet (nn.Module):\n",
        "  def __init__ (self, kernel=5, input_size=(10 * 53 * 53)):\n",
        "    super(ASLNet, self).__init__()\n",
        "    self.kernel = kernel\n",
        "    self.input_size = input_size\n",
        "\n",
        "    self.conv1 = nn.Conv2d(3, 6, self.kernel)\n",
        "    self.pool = nn.MaxPool2d(2, 2)\n",
        "    self.conv2 = nn.Conv2d(6, 10, self.kernel)\n",
        "\n",
        "    self.fc1 = nn.Linear(self.input_size, 120)\n",
        "    self.fc2 = nn.Linear(120, 84)\n",
        "    self.fc3 = nn.Linear(84, 9)\n",
        "\n",
        "  def forward (self, x):\n",
        "    x = self.pool(F.relu(self.conv1(x)))\n",
        "    x = self.pool(F.relu(self.conv2(x)))\n",
        "\n",
        "    x = x.view(-1, self.input_size)\n",
        "\n",
        "    x = F.relu(self.fc1(x))\n",
        "    x = F.relu(self.fc2(x))\n",
        "    x = self.fc3(x)\n",
        "    return x"
      ],
      "execution_count": null,
      "outputs": []
    },
    {
      "cell_type": "markdown",
      "metadata": {
        "id": "XeGvelvb515e"
      },
      "source": [
        "### Part (b) Training Code - 5 pt\n",
        "\n",
        "Write code that trains your neural network given some training data. Your training code should make it easy\n",
        "to tweak the usual hyperparameters, like batch size, learning rate, and the model object itself. Make sure\n",
        "that you are checkpointing your models from time to time (the frequency is up to you). Explain your choice\n",
        "of loss function and optimizer."
      ]
    },
    {
      "cell_type": "code",
      "metadata": {
        "collapsed": true,
        "id": "17YTQv4l54W1"
      },
      "source": [
        "def train (model, \n",
        "           \n",
        "           data_path=None, \n",
        "           train_loader=None,\n",
        "           val_loader=None, \n",
        "\n",
        "           batch_size=64, \n",
        "           learning_rate=0.01, \n",
        "           num_epochs=10):\n",
        "  \n",
        "  # Consistent seed\n",
        "  torch.manual_seed(1)\n",
        "  np.random.seed(1)\n",
        "\n",
        "  # Retrieve data loaders\n",
        "  # Set loss function and gradient descent optimizer\n",
        "  if data_path is None:\n",
        "    train_loader = train_loader\n",
        "    val_loader = val_loader\n",
        "  else:\n",
        "    train_loader, val_loader, test_loader = get_data_loader(data_path=data_path, batch_size=batch_size)\n",
        "\n",
        "  criterion = nn.CrossEntropyLoss()\n",
        "  optimizer = optim.Adam(model.parameters(), lr=learning_rate)\n",
        "\n",
        "  #############################################\n",
        "  #To Enable GPU Usage\n",
        "  if use_cuda and torch.cuda.is_available():\n",
        "    print('CUDA is available!  Training on GPU ...')\n",
        "    criterion = criterion.cuda()\n",
        "    model = model.cuda()\n",
        "  #############################################\n",
        "\n",
        "  epochs, losses, train_acc, val_acc = [], [], [], []\n",
        "\n",
        "  # Training\n",
        "  # Start timing\n",
        "  start_time = time.time()\n",
        "  for epoch in range(num_epochs):\n",
        "    print(\"Epoch {}/{} ...\".format(epoch + 1, num_epochs))\n",
        "\n",
        "    for images, labels in train_loader:\n",
        "      #############################################\n",
        "      #To Enable GPU Usage\n",
        "      if use_cuda and torch.cuda.is_available():\n",
        "        images = images.cuda()\n",
        "        labels = labels.cuda()\n",
        "      #############################################\n",
        "      \n",
        "      out = model(images)\n",
        "      loss = criterion(out, labels)\n",
        "      loss.backward()\n",
        "      optimizer.step()\n",
        "      optimizer.zero_grad()\n",
        "\n",
        "    epochs.append(epoch)\n",
        "    losses.append(float(loss.item())/batch_size)\n",
        "    train_acc.append(get_accuracy(model, train_loader))\n",
        "    val_acc.append(get_accuracy(model, val_loader))\n",
        "\n",
        "  # Plotting\n",
        "  plt.title(\"Training Curve\")\n",
        "  plt.plot(epochs, losses, label=\"Train\")\n",
        "  plt.xlabel(\"Epochs\")\n",
        "  plt.ylabel(\"Loss\")\n",
        "  plt.show()\n",
        "\n",
        "  plt.title(\"Training Curve\")\n",
        "  plt.plot(epochs, train_acc, label=\"Train\")\n",
        "  plt.plot(epochs, val_acc, label=\"Validation\")\n",
        "  plt.xlabel(\"Epochs\")\n",
        "  plt.ylabel(\"Training Accuracy\")\n",
        "  plt.legend(loc='best')\n",
        "  plt.show()\n",
        "\n",
        "  print(\"Final Training Accuracy: {}\".format(train_acc[-1]))\n",
        "  print(\"Final Validation Accuracy: {}\".format(val_acc[-1]))\n",
        "\n",
        "  end_time = time.time()\n",
        "  elapsed_time = end_time - start_time\n",
        "  print(\"Total time elapsed: {:.2f} seconds\".format(elapsed_time))"
      ],
      "execution_count": null,
      "outputs": []
    },
    {
      "cell_type": "markdown",
      "metadata": {
        "id": "bk1RNgAj54rZ"
      },
      "source": [
        "### Part (c) “Overfit” to a Small Dataset - 5 pt\n",
        "\n",
        "One way to sanity check our neural network model and training code is to check whether the model is capable\n",
        "of “overfitting” or “memorizing” a small dataset. A properly constructed CNN with correct training code\n",
        "should be able to memorize the answers to a small number of images quickly.\n",
        "\n",
        "Construct a small dataset (e.g. just the images that you have collected). Then show that your model and\n",
        "training code is capable of memorizing the labels of this small data set.\n",
        "\n",
        "With a large batch size (e.g. the entire small dataset) and learning rate that is not too high, You should be\n",
        "able to obtain a 100% training accuracy on that small dataset relatively quickly (within 200 iterations)."
      ]
    },
    {
      "cell_type": "code",
      "metadata": {
        "id": "lXYRBhQO6d3u",
        "colab": {
          "base_uri": "https://localhost:8080/",
          "height": 1000
        },
        "outputId": "aef709cf-f73b-45a8-a275-844164466318"
      },
      "source": [
        "SmallNet = ASLNet()\n",
        "\n",
        "# Set batch size to 16 (the whole training set)\n",
        "# Since it is a smaller dataset, train slower\n",
        "# Set the number of epochs to 50 << 200\n",
        "train(SmallNet, \n",
        "      data_path='/content/gdrive/MyDrive/Colab Notebooks/Labs/lee-1004112177', \n",
        "      batch_size=16, \n",
        "      learning_rate=0.0025,\n",
        "      num_epochs=50)"
      ],
      "execution_count": null,
      "outputs": [
        {
          "output_type": "stream",
          "text": [
            "CUDA is available!  Training on GPU ...\n",
            "Epoch 1/50 ...\n",
            "Epoch 2/50 ...\n",
            "Epoch 3/50 ...\n",
            "Epoch 4/50 ...\n",
            "Epoch 5/50 ...\n",
            "Epoch 6/50 ...\n",
            "Epoch 7/50 ...\n",
            "Epoch 8/50 ...\n",
            "Epoch 9/50 ...\n",
            "Epoch 10/50 ...\n",
            "Epoch 11/50 ...\n",
            "Epoch 12/50 ...\n",
            "Epoch 13/50 ...\n",
            "Epoch 14/50 ...\n",
            "Epoch 15/50 ...\n",
            "Epoch 16/50 ...\n",
            "Epoch 17/50 ...\n",
            "Epoch 18/50 ...\n",
            "Epoch 19/50 ...\n",
            "Epoch 20/50 ...\n",
            "Epoch 21/50 ...\n",
            "Epoch 22/50 ...\n",
            "Epoch 23/50 ...\n",
            "Epoch 24/50 ...\n",
            "Epoch 25/50 ...\n",
            "Epoch 26/50 ...\n",
            "Epoch 27/50 ...\n",
            "Epoch 28/50 ...\n",
            "Epoch 29/50 ...\n",
            "Epoch 30/50 ...\n",
            "Epoch 31/50 ...\n",
            "Epoch 32/50 ...\n",
            "Epoch 33/50 ...\n",
            "Epoch 34/50 ...\n",
            "Epoch 35/50 ...\n",
            "Epoch 36/50 ...\n",
            "Epoch 37/50 ...\n",
            "Epoch 38/50 ...\n",
            "Epoch 39/50 ...\n",
            "Epoch 40/50 ...\n",
            "Epoch 41/50 ...\n",
            "Epoch 42/50 ...\n",
            "Epoch 43/50 ...\n",
            "Epoch 44/50 ...\n",
            "Epoch 45/50 ...\n",
            "Epoch 46/50 ...\n",
            "Epoch 47/50 ...\n",
            "Epoch 48/50 ...\n",
            "Epoch 49/50 ...\n",
            "Epoch 50/50 ...\n"
          ],
          "name": "stdout"
        },
        {
          "output_type": "display_data",
          "data": {
            "image/png": "[encoded data removed]",
            "text/plain": [
              "<Figure size 432x288 with 1 Axes>"
            ]
          },
          "metadata": {
            "tags": [],
            "needs_background": "light"
          }
        },
        {
          "output_type": "display_data",
          "data": {
            "image/png": "[encoded data removed]",
            "text/plain": [
              "<Figure size 432x288 with 1 Axes>"
            ]
          },
          "metadata": {
            "tags": [],
            "needs_background": "light"
          }
        },
        {
          "output_type": "stream",
          "text": [
            "Final Training Accuracy: 1.0\n",
            "Final Validation Accuracy: 1.0\n",
            "Total time elapsed: 10.04 seconds\n"
          ],
          "name": "stdout"
        }
      ]
    },
    {
      "cell_type": "markdown",
      "metadata": {
        "id": "nvDLw-Vz6eVS"
      },
      "source": [
        "### 3. Hyperparameter Search [10 pt]\n",
        "\n",
        "### Part (a) - 1 pt\n",
        "\n",
        "List 3 hyperparameters that you think are most worth tuning. Choose at least one hyperparameter related to\n",
        "the model architecture."
      ]
    },
    {
      "cell_type": "code",
      "metadata": {
        "collapsed": true,
        "id": "HXRQbgMqR_Qy"
      },
      "source": [
        "# In my opinion, the 3 most important hyperparameters that are worth tuning are\n",
        "# batch size, learning rate, and size of convolutional layers. Batch size and \n",
        "# learning rate are two simple learnable hyperparamters that can vastly affect \n",
        "# the training quality and test accuracy. Convolutional layer sizes can control \n",
        "# how deep the information that is extracted and filtered out from the input."
      ],
      "execution_count": null,
      "outputs": []
    },
    {
      "cell_type": "markdown",
      "metadata": {
        "id": "zeD6EzPB6kSW"
      },
      "source": [
        "### Part (b) - 5 pt\n",
        "\n",
        "Tune the hyperparameters you listed in Part (a), trying as many values as you need to until you feel satisfied\n",
        "that you are getting a good model. Plot the training curve of at least 4 different hyperparameter settings."
      ]
    },
    {
      "cell_type": "code",
      "metadata": {
        "id": "UkvdR-cB6nzm",
        "colab": {
          "base_uri": "https://localhost:8080/",
          "height": 828
        },
        "outputId": "58b3b9ca-05aa-4dae-8598-7936f647c53d"
      },
      "source": [
        "RealNet = ASLNet()\n",
        "\n",
        "print(\"Training on increased batch size and learning rate ...\")\n",
        "# Increase batch size\n",
        "# Increase learning rate\n",
        "train(RealNet, \n",
        "      data_path='/content/gdrive/MyDrive/Colab Notebooks/Labs/Lab_3b_Gesture_Dataset', \n",
        "      batch_size=128,\n",
        "      learning_rate=0.02)"
      ],
      "execution_count": null,
      "outputs": [
        {
          "output_type": "stream",
          "text": [
            "Training on increased batch size and learning rate ...\n",
            "CUDA is available!  Training on GPU ...\n",
            "Epoch 1/10 ...\n",
            "Epoch 2/10 ...\n",
            "Epoch 3/10 ...\n",
            "Epoch 4/10 ...\n",
            "Epoch 5/10 ...\n",
            "Epoch 6/10 ...\n",
            "Epoch 7/10 ...\n",
            "Epoch 8/10 ...\n",
            "Epoch 9/10 ...\n",
            "Epoch 10/10 ...\n"
          ],
          "name": "stdout"
        },
        {
          "output_type": "display_data",
          "data": {
            "image/png": "[encoded data removed]",
            "text/plain": [
              "<Figure size 432x288 with 1 Axes>"
            ]
          },
          "metadata": {
            "tags": [],
            "needs_background": "light"
          }
        },
        {
          "output_type": "display_data",
          "data": {
            "image/png": "[encoded data removed]",
            "text/plain": [
              "<Figure size 432x288 with 1 Axes>"
            ]
          },
          "metadata": {
            "tags": [],
            "needs_background": "light"
          }
        },
        {
          "output_type": "stream",
          "text": [
            "Final Training Accuracy: 0.11728395061728394\n",
            "Final Validation Accuracy: 0.09876543209876543\n",
            "Total time elapsed: 175.35 seconds\n"
          ],
          "name": "stdout"
        }
      ]
    },
    {
      "cell_type": "code",
      "metadata": {
        "id": "Sfe13qttqSbw",
        "colab": {
          "base_uri": "https://localhost:8080/",
          "height": 828
        },
        "outputId": "f12830f0-9ddc-43df-e723-de9b25bd9355"
      },
      "source": [
        "RealNet = ASLNet()\n",
        "\n",
        "print(\"Training on decreased batch size and learning rate ...\")\n",
        "# Decrease batch size\n",
        "# Decrease learning rate\n",
        "train(RealNet, \n",
        "      data_path='/content/gdrive/MyDrive/Colab Notebooks/Labs/Lab_3b_Gesture_Dataset', \n",
        "      batch_size=32,\n",
        "      learning_rate=0.005)"
      ],
      "execution_count": null,
      "outputs": [
        {
          "output_type": "stream",
          "text": [
            "Training on decreased batch size and learning rate ...\n",
            "CUDA is available!  Training on GPU ...\n",
            "Epoch 1/10 ...\n",
            "Epoch 2/10 ...\n",
            "Epoch 3/10 ...\n",
            "Epoch 4/10 ...\n",
            "Epoch 5/10 ...\n",
            "Epoch 6/10 ...\n",
            "Epoch 7/10 ...\n",
            "Epoch 8/10 ...\n",
            "Epoch 9/10 ...\n",
            "Epoch 10/10 ...\n"
          ],
          "name": "stdout"
        },
        {
          "output_type": "display_data",
          "data": {
            "image/png": "[encoded data removed]",
            "text/plain": [
              "<Figure size 432x288 with 1 Axes>"
            ]
          },
          "metadata": {
            "tags": [],
            "needs_background": "light"
          }
        },
        {
          "output_type": "display_data",
          "data": {
            "image/png": "[encoded data removed]",
            "text/plain": [
              "<Figure size 432x288 with 1 Axes>"
            ]
          },
          "metadata": {
            "tags": [],
            "needs_background": "light"
          }
        },
        {
          "output_type": "stream",
          "text": [
            "Final Training Accuracy: 0.99519890260631\n",
            "Final Validation Accuracy: 0.7283950617283951\n",
            "Total time elapsed: 130.81 seconds\n"
          ],
          "name": "stdout"
        }
      ]
    },
    {
      "cell_type": "code",
      "metadata": {
        "id": "bmoZH2WmqVMl",
        "colab": {
          "base_uri": "https://localhost:8080/",
          "height": 828
        },
        "outputId": "8ca102a1-57ce-4052-ccb8-d5e2376ed4b3"
      },
      "source": [
        "print(\"Training on increased kernel size ...\")\n",
        "RealNet = ASLNet(kernel=7, \n",
        "                 input_size=(10 * 51 * 51))\n",
        "# Increase kernel size\n",
        "train(RealNet, \n",
        "      data_path='/content/gdrive/MyDrive/Colab Notebooks/Labs/Lab_3b_Gesture_Dataset')"
      ],
      "execution_count": null,
      "outputs": [
        {
          "output_type": "stream",
          "text": [
            "Training on increased kernel size ...\n",
            "CUDA is available!  Training on GPU ...\n",
            "Epoch 1/10 ...\n",
            "Epoch 2/10 ...\n",
            "Epoch 3/10 ...\n",
            "Epoch 4/10 ...\n",
            "Epoch 5/10 ...\n",
            "Epoch 6/10 ...\n",
            "Epoch 7/10 ...\n",
            "Epoch 8/10 ...\n",
            "Epoch 9/10 ...\n",
            "Epoch 10/10 ...\n"
          ],
          "name": "stdout"
        },
        {
          "output_type": "display_data",
          "data": {
            "image/png": "[encoded data removed]",
            "text/plain": [
              "<Figure size 432x288 with 1 Axes>"
            ]
          },
          "metadata": {
            "tags": [],
            "needs_background": "light"
          }
        },
        {
          "output_type": "display_data",
          "data": {
            "image/png": "[encoded data removed]",
            "text/plain": [
              "<Figure size 432x288 with 1 Axes>"
            ]
          },
          "metadata": {
            "tags": [],
            "needs_background": "light"
          }
        },
        {
          "output_type": "stream",
          "text": [
            "Final Training Accuracy: 0.9780521262002744\n",
            "Final Validation Accuracy: 0.6131687242798354\n",
            "Total time elapsed: 135.09 seconds\n"
          ],
          "name": "stdout"
        }
      ]
    },
    {
      "cell_type": "code",
      "metadata": {
        "id": "mRdnBJlsqcTu",
        "colab": {
          "base_uri": "https://localhost:8080/",
          "height": 828
        },
        "outputId": "37dc4526-f132-4d3c-a6f9-e898d4fa9e51"
      },
      "source": [
        "print(\"Training on decreased kernel size ...\")\n",
        "RealNet = ASLNet(kernel=3, \n",
        "                 input_size=(10 * 54 * 54))\n",
        "# Decrease kernel size\n",
        "train(RealNet,\n",
        "      data_path='/content/gdrive/MyDrive/Colab Notebooks/Labs/Lab_3b_Gesture_Dataset')"
      ],
      "execution_count": null,
      "outputs": [
        {
          "output_type": "stream",
          "text": [
            "Training on decreased kernel size ...\n",
            "CUDA is available!  Training on GPU ...\n",
            "Epoch 1/10 ...\n",
            "Epoch 2/10 ...\n",
            "Epoch 3/10 ...\n",
            "Epoch 4/10 ...\n",
            "Epoch 5/10 ...\n",
            "Epoch 6/10 ...\n",
            "Epoch 7/10 ...\n",
            "Epoch 8/10 ...\n",
            "Epoch 9/10 ...\n",
            "Epoch 10/10 ...\n"
          ],
          "name": "stdout"
        },
        {
          "output_type": "display_data",
          "data": {
            "image/png": "[encoded data removed]",
            "text/plain": [
              "<Figure size 432x288 with 1 Axes>"
            ]
          },
          "metadata": {
            "tags": [],
            "needs_background": "light"
          }
        },
        {
          "output_type": "display_data",
          "data": {
            "image/png": "[encoded data removed]",
            "text/plain": [
              "<Figure size 432x288 with 1 Axes>"
            ]
          },
          "metadata": {
            "tags": [],
            "needs_background": "light"
          }
        },
        {
          "output_type": "stream",
          "text": [
            "Final Training Accuracy: 0.9801097393689986\n",
            "Final Validation Accuracy: 0.7078189300411523\n",
            "Total time elapsed: 133.75 seconds\n"
          ],
          "name": "stdout"
        }
      ]
    },
    {
      "cell_type": "markdown",
      "metadata": {
        "id": "H93iN5_l60BO"
      },
      "source": [
        "### Part (c) - 2 pt\n",
        "Choose the best model out of all the ones that you have trained. Justify your choice."
      ]
    },
    {
      "cell_type": "code",
      "metadata": {
        "id": "kIhcN7IG6zRO",
        "colab": {
          "base_uri": "https://localhost:8080/",
          "height": 828
        },
        "outputId": "688aaaba-00da-4e0f-a66b-1efc6d39087b"
      },
      "source": [
        "# The model with decreased batch size and learning rate had the highest \n",
        "# validation accuracy amongst the 4 models, which is the accuracy usually used\n",
        "# to determine hyperparameter quality. Both the training and validation curves\n",
        "# are smooth and non-erratic, which is to be expected of a low learning rate.\n",
        "\n",
        "# I've decided to tweak some of the numbers a little bit to yield a better\n",
        "# validation accuracy.\n",
        "\n",
        "BestModel = ASLNet()\n",
        "\n",
        "print(\"Training on decreased batch size and learning rate ...\")\n",
        "# Decrease batch size\n",
        "# Decrease learning rate\n",
        "train(BestModel, \n",
        "      data_path='/content/gdrive/MyDrive/Colab Notebooks/Labs/Lab_3b_Gesture_Dataset', \n",
        "      batch_size=128,\n",
        "      learning_rate=0.0025)"
      ],
      "execution_count": null,
      "outputs": [
        {
          "output_type": "stream",
          "text": [
            "Training on decreased batch size and learning rate ...\n",
            "CUDA is available!  Training on GPU ...\n",
            "Epoch 1/10 ...\n",
            "Epoch 2/10 ...\n",
            "Epoch 3/10 ...\n",
            "Epoch 4/10 ...\n",
            "Epoch 5/10 ...\n",
            "Epoch 6/10 ...\n",
            "Epoch 7/10 ...\n",
            "Epoch 8/10 ...\n",
            "Epoch 9/10 ...\n",
            "Epoch 10/10 ...\n"
          ],
          "name": "stdout"
        },
        {
          "output_type": "display_data",
          "data": {
            "image/png": "[encoded data removed]",
            "text/plain": [
              "<Figure size 432x288 with 1 Axes>"
            ]
          },
          "metadata": {
            "tags": [],
            "needs_background": "light"
          }
        },
        {
          "output_type": "display_data",
          "data": {
            "image/png": "[encoded data removed]",
            "text/plain": [
              "<Figure size 432x288 with 1 Axes>"
            ]
          },
          "metadata": {
            "tags": [],
            "needs_background": "light"
          }
        },
        {
          "output_type": "stream",
          "text": [
            "Final Training Accuracy: 0.9622770919067215\n",
            "Final Validation Accuracy: 0.7674897119341564\n",
            "Total time elapsed: 137.29 seconds\n"
          ],
          "name": "stdout"
        }
      ]
    },
    {
      "cell_type": "markdown",
      "metadata": {
        "id": "QzNA5oup67JO"
      },
      "source": [
        "### Part (d) - 2 pt\n",
        "Report the test accuracy of your best model. You should only do this step once and prior to this step you should have only used the training and validation data."
      ]
    },
    {
      "cell_type": "code",
      "metadata": {
        "id": "2eJ7AbVl6-ax",
        "colab": {
          "base_uri": "https://localhost:8080/"
        },
        "outputId": "f064a776-4f4d-447c-e2f1-6ec72a685636"
      },
      "source": [
        "train_loader, val_loader, test_loader = get_data_loader(\n",
        "    data_path='/content/gdrive/MyDrive/Colab Notebooks/Labs/Lab_3b_Gesture_Dataset')\n",
        "\n",
        "print(\"Test accuracy: {}\".format(get_accuracy(BestModel, test_loader)))"
      ],
      "execution_count": null,
      "outputs": [
        {
          "output_type": "stream",
          "text": [
            "Test accuracy: 0.7741273100616016\n"
          ],
          "name": "stdout"
        }
      ]
    },
    {
      "cell_type": "markdown",
      "metadata": {
        "id": "Wrem-iXV6_Bz"
      },
      "source": [
        "### 4. Transfer Learning [15 pt]\n",
        "For many image classification tasks, it is generally not a good idea to train a very large deep neural network\n",
        "model from scratch due to the enormous compute requirements and lack of sufficient amounts of training\n",
        "data.\n",
        "\n",
        "One of the better options is to try using an existing model that performs a similar task to the one you need\n",
        "to solve. This method of utilizing a pre-trained network for other similar tasks is broadly termed **Transfer\n",
        "Learning**. In this assignment, we will use Transfer Learning to extract features from the hand gesture\n",
        "images. Then, train a smaller network to use these features as input and classify the hand gestures.\n",
        "\n",
        "As you have learned from the CNN lecture, convolution layers extract various features from the images which\n",
        "get utilized by the fully connected layers for correct classification. AlexNet architecture played a pivotal\n",
        "role in establishing Deep Neural Nets as a go-to tool for image classification problems and we will use an\n",
        "ImageNet pre-trained AlexNet model to extract features in this assignment."
      ]
    },
    {
      "cell_type": "markdown",
      "metadata": {
        "id": "rWdQJz4Q7O2F"
      },
      "source": [
        "### Part (a) - 5 pt\n",
        "Here is the code to load the AlexNet network, with pretrained weights. When you first run the code, PyTorch\n",
        "will download the pretrained weights from the internet."
      ]
    },
    {
      "cell_type": "code",
      "metadata": {
        "id": "BJKcTW9C7TZk",
        "colab": {
          "base_uri": "https://localhost:8080/",
          "height": 83,
          "referenced_widgets": [
            "6be94138164a4e16b0abeebcd2b3bb04",
            "b46489147026445b817d95201b830d0f",
            "5c2f0b777d5c4b5bb7b52f128de23a61",
            "74b80b13079a428f8c081d1312cde05b",
            "d182dcaceed54068892697c5c6e87c6b",
            "cdf9673628384549b3f31f3e4f83878a",
            "003a70fd08044e98b708f100ed5e908d",
            "de22fed91b7e461784ae20b09b18e2b8"
          ]
        },
        "outputId": "da7a366c-2fce-45f1-baa9-afc67ad93568"
      },
      "source": [
        "import torchvision.models\n",
        "alexnet = torchvision.models.alexnet(pretrained=True)"
      ],
      "execution_count": null,
      "outputs": [
        {
          "output_type": "stream",
          "text": [
            "Downloading: \"https://download.pytorch.org/models/alexnet-owt-4df8aa71.pth\" to /root/.cache/torch/hub/checkpoints/alexnet-owt-4df8aa71.pth\n"
          ],
          "name": "stderr"
        },
        {
          "output_type": "display_data",
          "data": {
            "application/vnd.jupyter.widget-view+json": {
              "model_id": "6be94138164a4e16b0abeebcd2b3bb04",
              "version_minor": 0,
              "version_major": 2
            },
            "text/plain": [
              "HBox(children=(FloatProgress(value=0.0, max=244418560.0), HTML(value='')))"
            ]
          },
          "metadata": {
            "tags": []
          }
        },
        {
          "output_type": "stream",
          "text": [
            "\n"
          ],
          "name": "stdout"
        }
      ]
    },
    {
      "cell_type": "markdown",
      "metadata": {
        "id": "NQ0GZYaP7VAR"
      },
      "source": [
        "The alexnet model is split up into two components: *alexnet.features* and *alexnet.classifier*. The\n",
        "first neural network component, *alexnet.features*, is used to compute convolutional features, which are\n",
        "taken as input in *alexnet.classifier*.\n",
        "\n",
        "The neural network alexnet.features expects an image tensor of shape Nx3x224x224 as input and it will\n",
        "output a tensor of shape Nx256x6x6 . (N = batch size).\n",
        "\n",
        "Compute the AlexNet features for each of your training, validation, and test data. Here is an example code\n",
        "snippet showing how you can compute the AlexNet features for some images (your actual code might be\n",
        "different):"
      ]
    },
    {
      "cell_type": "code",
      "metadata": {
        "collapsed": true,
        "id": "oX7SjVdB7XAE"
      },
      "source": [
        "# img = ... a PyTorch tensor with shape [N,3,224,224] containing hand images ...\n",
        "#features = alexnet.features(img)"
      ],
      "execution_count": null,
      "outputs": []
    },
    {
      "cell_type": "markdown",
      "metadata": {
        "id": "DYcjHg_A7cCM"
      },
      "source": [
        "**Save the computed features**. You will be using these features as input to your neural network in Part\n",
        "(b), and you do not want to re-compute the features every time. Instead, run *alexnet.features* once for\n",
        "each image, and save the result."
      ]
    },
    {
      "cell_type": "code",
      "metadata": {
        "id": "TBo1BpL373LX",
        "colab": {
          "base_uri": "https://localhost:8080/"
        },
        "outputId": "4626d637-7b67-40ff-9963-a5b80472f75a"
      },
      "source": [
        "# Note that this code block has already been run once, and does not need to be\n",
        "# run again. \n",
        "\n",
        "import os\n",
        "\n",
        "label_name = (\n",
        "  'A', 'B', 'C', 'D', 'E', 'F', 'G', 'H', 'I'\n",
        ")\n",
        "\n",
        "def save_features (data_path, data_loader):\n",
        "  # Number of iterations\n",
        "  n = 0\n",
        "\n",
        "  for images, labels in data_loader:\n",
        "    features = alexnet.features(images)\n",
        "    # Conver to Tensor for PyTorch save() function\n",
        "    f_tensor = torch.from_numpy(features.detach().numpy())\n",
        "\n",
        "    # Generate folder name\n",
        "    folder_name = data_path + \"/\" + str(label_name[labels])\n",
        "\n",
        "    # Make sure to squeeze to clean up the Tensor\n",
        "    torch.save(f_tensor.squeeze(0), folder_name + \"/\" + str(n) + \".tensor\")\n",
        "\n",
        "    n += 1\n",
        "\n",
        "# Retrieve DataLoaders with batch size 1\n",
        "# This is since the str(label_name[labels]) only allows 1-element wide tensors\n",
        "# as an indexing method\n",
        "train_loader, val_loader, test_loader = get_data_loader(\n",
        "    data_path='/content/gdrive/MyDrive/Colab Notebooks/Labs/Lab_3b_Gesture_Dataset',\n",
        "    batch_size=1)\n",
        "\n",
        "# Save the features\n",
        "print(\"Saving features (training) ...\")\n",
        "save_features('/content/gdrive/MyDrive/Colab Notebooks/Labs/Lab_3b_Features/train', train_loader)\n",
        "print(\"Saving features (validation) ...\")\n",
        "save_features('/content/gdrive/MyDrive/Colab Notebooks/Labs/Lab_3b_Features/val', val_loader)\n",
        "print(\"Saving features (testing) ...\")\n",
        "save_features('/content/gdrive/MyDrive/Colab Notebooks/Labs/Lab_3b_Features/test', test_loader)"
      ],
      "execution_count": null,
      "outputs": [
        {
          "output_type": "stream",
          "text": [
            "Saving features (training) ...\n",
            "Saving features (validation) ...\n",
            "Saving features (testing) ...\n"
          ],
          "name": "stdout"
        }
      ]
    },
    {
      "cell_type": "markdown",
      "metadata": {
        "id": "OFWvvhFN73qY"
      },
      "source": [
        "### Part (b) - 3 pt\n",
        "Build a convolutional neural network model that takes as input these AlexNet features, and makes a\n",
        "prediction. Your model should be a subclass of nn.Module.\n",
        "\n",
        "Explain your choice of neural network architecture: how many layers did you choose? What types of layers\n",
        "did you use: fully-connected or convolutional? What about other decisions like pooling layers, activation\n",
        "functions, number of channels / hidden units in each layer?\n",
        "\n",
        "Here is an example of how your model may be called:"
      ]
    },
    {
      "cell_type": "code",
      "metadata": {
        "collapsed": true,
        "id": "oVTuHUeV78-U"
      },
      "source": [
        "# features = ... load precomputed alexnet.features(img) ...\n",
        "#output = model(features)\n",
        "#prob = F.softmax(output)"
      ],
      "execution_count": null,
      "outputs": []
    },
    {
      "cell_type": "code",
      "metadata": {
        "id": "71krk7fAP4bZ"
      },
      "source": [
        "# Since the input dimensions are 256 x 6 x 6, the convolutional kernels don't \n",
        "# need to be large. I used 2 convolutional layers with 2x2 kernels. These \n",
        "# filters are then fed into a 2-layer fully-connected network that performs the\n",
        "# final classification. It has 50 hidden units to account for the fact that it\n",
        "# does not have a third layer. I found through trial and error that having\n",
        "# 3 layers resulted in overfitting and poor validation accuracy. \n",
        "\n",
        "class ASL_AlexNet(nn.Module):\n",
        "  def __init__ (self):\n",
        "    super(ASL_AlexNet, self).__init__()\n",
        "    \n",
        "    self.conv1 = nn.Conv2d(256, 50, 2)\n",
        "    self.conv2 = nn.Conv2d(50, 25, 2)\n",
        "\n",
        "    self.fc1 = nn.Linear(25 * 4 * 4, 50)\n",
        "    self.fc2 = nn.Linear(50, 9)\n",
        "\n",
        "  def forward (self, x):\n",
        "    x = F.relu(self.conv1(x))\n",
        "    x = F.relu(self.conv2(x))\n",
        "\n",
        "    x = x.view(-1, 25 * 4 * 4)\n",
        "\n",
        "    x = F.relu(self.fc1(x))\n",
        "    x = self.fc2(x)\n",
        "    return x"
      ],
      "execution_count": null,
      "outputs": []
    },
    {
      "cell_type": "markdown",
      "metadata": {
        "id": "wVAGuURu7-9q"
      },
      "source": [
        "### Part (c) - 5 pt\n",
        "Train your new network, including any hyperparameter tuning. Plot and submit the training curve of your\n",
        "best model only.\n",
        "\n",
        "Note: Depending on how you are caching (saving) your AlexNet features, PyTorch might still be tracking\n",
        "updates to the **AlexNet weights**, which we are not tuning. One workaround is to convert your AlexNet\n",
        "feature tensor into a numpy array, and then back into a PyTorch tensor."
      ]
    },
    {
      "cell_type": "code",
      "metadata": {
        "collapsed": true,
        "id": "JCmiH11x7-q1"
      },
      "source": [
        "#tensor = torch.from_numpy(tensor.detach().numpy())"
      ],
      "execution_count": null,
      "outputs": []
    },
    {
      "cell_type": "code",
      "metadata": {
        "id": "S3DxZqCHS_tS",
        "colab": {
          "base_uri": "https://localhost:8080/",
          "height": 811
        },
        "outputId": "65cf308f-f8d6-4309-9b36-4ce305cd9879"
      },
      "source": [
        "# Load the features back in\n",
        "train_features = torchvision.datasets.DatasetFolder(\n",
        "    '/content/gdrive/MyDrive/Colab Notebooks/Labs/Lab_3b_Features/train', \n",
        "    loader=torch.load, \n",
        "    extensions=('.tensor'))\n",
        "val_features = torchvision.datasets.DatasetFolder(\n",
        "    '/content/gdrive/MyDrive/Colab Notebooks/Labs/Lab_3b_Features/val', \n",
        "    loader=torch.load, \n",
        "    extensions=('.tensor'))\n",
        "test_features = torchvision.datasets.DatasetFolder(\n",
        "    '/content/gdrive/MyDrive/Colab Notebooks/Labs/Lab_3b_Features/test', \n",
        "    loader=torch.load, \n",
        "    extensions=('.tensor'))\n",
        "\n",
        "# Generate DataLoader objects\n",
        "train_f_loader = torch.utils.data.DataLoader(train_features)\n",
        "val_f_loader = torch.utils.data.DataLoader(val_features)\n",
        "test_f_loader = torch.utils.data.DataLoader(test_features)\n",
        "\n",
        "# Create the new network\n",
        "AdvancedNet = ASL_AlexNet()\n",
        "\n",
        "if use_cuda and torch.cuda.is_available():\n",
        "  AdvancedNet = AdvancedNet.cuda()\n",
        "\n",
        "train(AdvancedNet,\n",
        "      train_loader=train_f_loader,\n",
        "      val_loader=val_f_loader,\n",
        "      batch_size=128,\n",
        "      learning_rate=0.0005)"
      ],
      "execution_count": 90,
      "outputs": [
        {
          "output_type": "stream",
          "text": [
            "CUDA is available!  Training on GPU ...\n",
            "Epoch 1/10 ...\n",
            "Epoch 2/10 ...\n",
            "Epoch 3/10 ...\n",
            "Epoch 4/10 ...\n",
            "Epoch 5/10 ...\n",
            "Epoch 6/10 ...\n",
            "Epoch 7/10 ...\n",
            "Epoch 8/10 ...\n",
            "Epoch 9/10 ...\n",
            "Epoch 10/10 ...\n"
          ],
          "name": "stdout"
        },
        {
          "output_type": "display_data",
          "data": {
            "image/png": "[encoded data removed]",
            "text/plain": [
              "<Figure size 432x288 with 1 Axes>"
            ]
          },
          "metadata": {
            "tags": [],
            "needs_background": "light"
          }
        },
        {
          "output_type": "display_data",
          "data": {
            "image/png": "[encoded data removed]",
            "text/plain": [
              "<Figure size 432x288 with 1 Axes>"
            ]
          },
          "metadata": {
            "tags": [],
            "needs_background": "light"
          }
        },
        {
          "output_type": "stream",
          "text": [
            "Final Training Accuracy: 0.9923076923076923\n",
            "Final Validation Accuracy: 0.9094650205761317\n",
            "Total time elapsed: 78.83 seconds\n"
          ],
          "name": "stdout"
        }
      ]
    },
    {
      "cell_type": "markdown",
      "metadata": {
        "id": "hQ2tvqJ68Mqb"
      },
      "source": [
        "### Part (d) - 2 pt\n",
        "Report the test accuracy of your best model. How does the test accuracy compare to Part 3(d) without transfer learning?"
      ]
    },
    {
      "cell_type": "code",
      "metadata": {
        "collapsed": true,
        "id": "yCp_kFSg8Q2T",
        "colab": {
          "base_uri": "https://localhost:8080/"
        },
        "outputId": "bccdd75f-cb3a-42fe-b380-ed7bb8b3edc6"
      },
      "source": [
        "# The test accuracy is a higher than the test accuracy from Part 3(d). \n",
        "# AlexNet, in particular, is very good at extracting important features from\n",
        "# images and visual information.\n",
        "\n",
        "if use_cuda and torch.cuda.is_available():\n",
        "  AdvancedNet = AdvancedNet.cuda()\n",
        "\n",
        "print(\"Test accuracy: {}\".format(get_accuracy(AdvancedNet, test_f_loader)))"
      ],
      "execution_count": 91,
      "outputs": [
        {
          "output_type": "stream",
          "text": [
            "Test accuracy: 0.8993839835728953\n"
          ],
          "name": "stdout"
        }
      ]
    },
    {
      "cell_type": "markdown",
      "metadata": {
        "id": "8LZw8oE9_MEE"
      },
      "source": [
        "### 5. Additional Testing [5 pt]\n",
        "As a final step in testing we will be revisiting the sample images that you had collected and submitted at the start of this lab. These sample images should be untouched and will be used to demonstrate how well your model works at identifying your hand guestures. \n",
        "\n",
        "Using the best transfer learning model developed in Part 4. Report the test accuracy on your sample images and how it compares to the test accuracy obtained in Part 4(d)? How well did your model do for the different hand guestures? Provide an explanation for why you think your model performed the way it did?"
      ]
    },
    {
      "cell_type": "code",
      "metadata": {
        "id": "0NKH11cS_MEF",
        "colab": {
          "base_uri": "https://localhost:8080/"
        },
        "outputId": "a52fbb10-7ccf-45af-bbbb-9c75e812789c"
      },
      "source": [
        "# The model performed quite well. I believe that the performance should have \n",
        "# been slightly worse than the accuracy in Part 4(d), due to the fact that the \n",
        "# testing dataset for Part 4(d)'s accuracy came from the same overall dataset as \n",
        "# the training and validation set. This means that the images were doctored and \n",
        "# edited similarly, and included hands of the same people.\n",
        "\n",
        "# This test dataset, however, included completely different environments, \n",
        "# lighting, and people. This would bring a lot more unobserved variance and\n",
        "# information, attributing to the slightly worse test accuracy. \n",
        "\n",
        "train_loader, val_loader, test_loader = get_data_loader(\n",
        "    data_path='/content/gdrive/MyDrive/Colab Notebooks/Labs/lee-1004112177',\n",
        "    batch_size=1)\n",
        "\n",
        "save_features('/content/gdrive/MyDrive/Colab Notebooks/Labs/lee-1004112177', train_loader)\n",
        "submitted_features = torchvision.datasets.DatasetFolder(\n",
        "    '/content/gdrive/MyDrive/Colab Notebooks/Labs/lee-1004112177', \n",
        "    loader=torch.load,\n",
        "    extensions=('.tensor'))\n",
        "\n",
        "test_f_loader = torch.utils.data.DataLoader(submitted_features,\n",
        "                                            drop_last=True)\n",
        "\n",
        "print(\"Test accuracy: {}\".format(get_accuracy(AdvancedNet, test_f_loader)))"
      ],
      "execution_count": 96,
      "outputs": [
        {
          "output_type": "stream",
          "text": [
            "Test accuracy: 1.0\n"
          ],
          "name": "stdout"
        }
      ]
    }
  ]
}
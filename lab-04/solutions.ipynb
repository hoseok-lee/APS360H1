{
  "nbformat": 4,
  "nbformat_minor": 0,
  "metadata": {
    "colab": {
      "name": "Lab_4_Data_Imputation.ipynb",
      "provenance": [],
      "collapsed_sections": [],
      "toc_visible": true
    },
    "kernelspec": {
      "display_name": "Python 3",
      "language": "python",
      "name": "python3"
    },
    "language_info": {
      "codemirror_mode": {
        "name": "ipython",
        "version": 3
      },
      "file_extension": ".py",
      "mimetype": "text/x-python",
      "name": "python",
      "nbconvert_exporter": "python",
      "pygments_lexer": "ipython3",
      "version": "3.6.3"
    }
  },
  "cells": [
    {
      "cell_type": "markdown",
      "metadata": {
        "id": "OhtOdxzd1ppr"
      },
      "source": [
        "# Lab 4: Data Imputation using an Autoencoder\n",
        "\n",
        "**Deadline**: Mon, March 01, 5:00pm\n",
        "\n",
        "**Late Penalty**: There is a penalty-free grace period of one hour past the deadline. Any work that is submitted between 1 hour and 24 hours past the deadline will receive a 20% grade deduction. No other late work is accepted. Quercus submission time will be used, not your local computer time. You can submit your labs as many times as you want before the deadline, so please submit often and early.\n",
        "\n",
        "**TA**: Chris Lucasius <christopher.lucasius@mail.utoronto.ca>\n",
        "\n",
        "In this lab, you will build and train an autoencoder to impute (or \"fill in\") missing data. \n",
        "\n",
        "We will be using the\n",
        "Adult Data Set provided by the UCI Machine Learning Repository [1], available \n",
        "at https://archive.ics.uci.edu/ml/datasets/adult.\n",
        "The data set contains census record files of adults, including their\n",
        "age, martial status, the type of work they do, and other features. \n",
        "\n",
        "Normally, people use this data set to build a supervised classification\n",
        "model to classify whether a person is a high income earner.\n",
        "We will not use the dataset for this original intended purpose.\n",
        "\n",
        "Instead, we will perform the task of imputing (or \"filling in\") missing values in the dataset. For example,\n",
        "we may be missing one person's martial status, and another person's age, and\n",
        "a third person's level of education. Our model will predict the missing features \n",
        "based on the information that we do have about each person.\n",
        "\n",
        "We will use a variation of a denoising autoencoder to solve this data imputation\n",
        "problem. Our autoencoder will be trained using inputs that have one categorical feature artificially\n",
        "removed, and the goal of the autoencoder is to correctly reconstruct all features,\n",
        "including the one removed from the input.\n",
        "\n",
        "In the process, you are expected to learn to:\n",
        "\n",
        "1. Clean and process continuous and categorical data for machine learning.\n",
        "2. Implement an autoencoder that takes continuous and categorical (one-hot) inputs.\n",
        "3. Tune the hyperparameters of an autoencoder.\n",
        "4. Use baseline models to help interpret model performance.\n",
        "\n",
        "[1] Dua, D. and Karra Taniskidou, E. (2017). UCI Machine Learning Repository [http://archive.ics.uci.edu/ml]. Irvine, CA: University of California, School of Information and Computer Science.\n",
        "\n",
        "\n",
        "### What to submit\n",
        "\n",
        "Submit a PDF file containing all your code, outputs, and write-up. You can produce a PDF of your Google Colab file by going to File > Print and then save as PDF. The Colab instructions have more information (.html files are also acceptable).\n",
        "\n",
        "Do not submit any other files produced by your code.\n",
        "\n",
        "Include a link to your colab file in your submission.\n"
      ]
    },
    {
      "cell_type": "markdown",
      "metadata": {
        "id": "zbnrp2ig1pps"
      },
      "source": [
        "## Colab Link\n",
        "\n",
        "Include a link to your Colab file here. If you would like the TA to look at your\n",
        "Colab file in case your solutions are cut off, **please make sure that your Colab\n",
        "file is publicly accessible at the time of submission**.\n",
        "\n",
        "Colab Link: https://drive.google.com/file/d/1Qnb3tdN8Ioeh03hPGnUC5646XXy5ptb8/view?usp=sharing"
      ]
    },
    {
      "cell_type": "code",
      "metadata": {
        "collapsed": true,
        "id": "z3p8N43E1ppt"
      },
      "source": [
        "import csv\n",
        "import time\n",
        "import numpy as np\n",
        "import random\n",
        "import torch\n",
        "import torch.utils.data\n",
        "from torch.autograd import Variable\n",
        "import matplotlib.pyplot as plt"
      ],
      "execution_count": 1,
      "outputs": []
    },
    {
      "cell_type": "markdown",
      "metadata": {
        "id": "8ROwtHcz1ppx"
      },
      "source": [
        "## Part 0\n",
        "\n",
        "We will be using a package called `pandas` for this assignment. \n",
        "\n",
        "If you are using Colab, `pandas` should already be available.\n",
        "If you are using your own computer,\n",
        "installation instructions for `pandas` are available here: \n",
        "https://pandas.pydata.org/pandas-docs/stable/install.html"
      ]
    },
    {
      "cell_type": "code",
      "metadata": {
        "collapsed": true,
        "id": "IXQ7BP151ppz"
      },
      "source": [
        "import pandas as pd"
      ],
      "execution_count": 2,
      "outputs": []
    },
    {
      "cell_type": "markdown",
      "metadata": {
        "id": "hqXihb4Q1pp2"
      },
      "source": [
        "# Part 1. Data Cleaning [15 pt]\n",
        "\n",
        "The adult.data file is available at `https://archive.ics.uci.edu/ml/machine-learning-databases/adult/adult.data`\n",
        "\n",
        "The function `pd.read_csv` loads the adult.data file into a pandas dataframe.\n",
        "You can read about the pandas documentation for `pd.read_csv` at\n",
        "https://pandas.pydata.org/pandas-docs/stable/reference/api/pandas.read_csv.html"
      ]
    },
    {
      "cell_type": "code",
      "metadata": {
        "collapsed": true,
        "id": "EOMItFKn1pp3"
      },
      "source": [
        "header = ['age', 'work', 'fnlwgt', 'edu', 'yredu', 'marriage', 'occupation',\n",
        " 'relationship', 'race', 'sex', 'capgain', 'caploss', 'workhr', 'country']\n",
        "df = pd.read_csv(\n",
        "    \"https://archive.ics.uci.edu/ml/machine-learning-databases/adult/adult.data\",\n",
        "    names=header,\n",
        "    index_col=False)"
      ],
      "execution_count": 3,
      "outputs": []
    },
    {
      "cell_type": "code",
      "metadata": {
        "colab": {
          "base_uri": "https://localhost:8080/"
        },
        "id": "62Ot405q1pp5",
        "scrolled": true,
        "outputId": "a10cf5c0-cfa0-4a5f-ba89-3700f441d861"
      },
      "source": [
        "df.shape # there are 32561 rows (records) in the data frame, and 14 columns (features)"
      ],
      "execution_count": 4,
      "outputs": [
        {
          "output_type": "execute_result",
          "data": {
            "text/plain": [
              "(32561, 14)"
            ]
          },
          "metadata": {
            "tags": []
          },
          "execution_count": 4
        }
      ]
    },
    {
      "cell_type": "markdown",
      "metadata": {
        "id": "Tr7YG-QY1pp8"
      },
      "source": [
        "### Part (a) Continuous Features [3 pt]\n",
        "\n",
        "For each of the columns `[\"age\", \"yredu\", \"capgain\", \"caploss\", \"workhr\"]`, report the minimum, maximum, and average value across the dataset. \n",
        "\n",
        "Then, normalize each of the features `[\"age\", \"yredu\", \"capgain\", \"caploss\", \"workhr\"]`\n",
        "so that their values are always between 0 and 1.\n",
        "Make sure that you are actually modifying the dataframe `df`. \n",
        "\n",
        "Like numpy arrays and torch tensors, \n",
        "pandas data frames can be sliced. For example, we can\n",
        "display the first 3 rows of the data frame (3 records) below."
      ]
    },
    {
      "cell_type": "code",
      "metadata": {
        "colab": {
          "base_uri": "https://localhost:8080/",
          "height": 142
        },
        "id": "9evSLsSa1pp9",
        "scrolled": false,
        "outputId": "27f1d1e7-66e3-4d37-fb38-575853765610"
      },
      "source": [
        "df[:3] # show the first 3 records"
      ],
      "execution_count": 5,
      "outputs": [
        {
          "output_type": "execute_result",
          "data": {
            "text/html": [
              "<div>\n",
              "<style scoped>\n",
              "    .dataframe tbody tr th:only-of-type {\n",
              "        vertical-align: middle;\n",
              "    }\n",
              "\n",
              "    .dataframe tbody tr th {\n",
              "        vertical-align: top;\n",
              "    }\n",
              "\n",
              "    .dataframe thead th {\n",
              "        text-align: right;\n",
              "    }\n",
              "</style>\n",
              "<table border=\"1\" class=\"dataframe\">\n",
              "  <thead>\n",
              "    <tr style=\"text-align: right;\">\n",
              "      <th></th>\n",
              "      <th>age</th>\n",
              "      <th>work</th>\n",
              "      <th>fnlwgt</th>\n",
              "      <th>edu</th>\n",
              "      <th>yredu</th>\n",
              "      <th>marriage</th>\n",
              "      <th>occupation</th>\n",
              "      <th>relationship</th>\n",
              "      <th>race</th>\n",
              "      <th>sex</th>\n",
              "      <th>capgain</th>\n",
              "      <th>caploss</th>\n",
              "      <th>workhr</th>\n",
              "      <th>country</th>\n",
              "    </tr>\n",
              "  </thead>\n",
              "  <tbody>\n",
              "    <tr>\n",
              "      <th>0</th>\n",
              "      <td>39</td>\n",
              "      <td>State-gov</td>\n",
              "      <td>77516</td>\n",
              "      <td>Bachelors</td>\n",
              "      <td>13</td>\n",
              "      <td>Never-married</td>\n",
              "      <td>Adm-clerical</td>\n",
              "      <td>Not-in-family</td>\n",
              "      <td>White</td>\n",
              "      <td>Male</td>\n",
              "      <td>2174</td>\n",
              "      <td>0</td>\n",
              "      <td>40</td>\n",
              "      <td>United-States</td>\n",
              "    </tr>\n",
              "    <tr>\n",
              "      <th>1</th>\n",
              "      <td>50</td>\n",
              "      <td>Self-emp-not-inc</td>\n",
              "      <td>83311</td>\n",
              "      <td>Bachelors</td>\n",
              "      <td>13</td>\n",
              "      <td>Married-civ-spouse</td>\n",
              "      <td>Exec-managerial</td>\n",
              "      <td>Husband</td>\n",
              "      <td>White</td>\n",
              "      <td>Male</td>\n",
              "      <td>0</td>\n",
              "      <td>0</td>\n",
              "      <td>13</td>\n",
              "      <td>United-States</td>\n",
              "    </tr>\n",
              "    <tr>\n",
              "      <th>2</th>\n",
              "      <td>38</td>\n",
              "      <td>Private</td>\n",
              "      <td>215646</td>\n",
              "      <td>HS-grad</td>\n",
              "      <td>9</td>\n",
              "      <td>Divorced</td>\n",
              "      <td>Handlers-cleaners</td>\n",
              "      <td>Not-in-family</td>\n",
              "      <td>White</td>\n",
              "      <td>Male</td>\n",
              "      <td>0</td>\n",
              "      <td>0</td>\n",
              "      <td>40</td>\n",
              "      <td>United-States</td>\n",
              "    </tr>\n",
              "  </tbody>\n",
              "</table>\n",
              "</div>"
            ],
            "text/plain": [
              "   age               work  fnlwgt  ... caploss  workhr         country\n",
              "0   39          State-gov   77516  ...       0      40   United-States\n",
              "1   50   Self-emp-not-inc   83311  ...       0      13   United-States\n",
              "2   38            Private  215646  ...       0      40   United-States\n",
              "\n",
              "[3 rows x 14 columns]"
            ]
          },
          "metadata": {
            "tags": []
          },
          "execution_count": 5
        }
      ]
    },
    {
      "cell_type": "markdown",
      "metadata": {
        "id": "gBOojI6W1pqA"
      },
      "source": [
        "Alternatively, we can slice based on column names, \n",
        "for example `df[\"race\"]`, `df[\"hr\"]`, or even index multiple columns \n",
        "like below."
      ]
    },
    {
      "cell_type": "code",
      "metadata": {
        "colab": {
          "base_uri": "https://localhost:8080/",
          "height": 142
        },
        "id": "4v6pp73A1pqB",
        "outputId": "38cc4dff-077a-4dc0-9337-79657670cd9b"
      },
      "source": [
        "subdf = df[[\"age\", \"yredu\", \"capgain\", \"caploss\", \"workhr\"]]\n",
        "subdf[:3] # show the first 3 records"
      ],
      "execution_count": 6,
      "outputs": [
        {
          "output_type": "execute_result",
          "data": {
            "text/html": [
              "<div>\n",
              "<style scoped>\n",
              "    .dataframe tbody tr th:only-of-type {\n",
              "        vertical-align: middle;\n",
              "    }\n",
              "\n",
              "    .dataframe tbody tr th {\n",
              "        vertical-align: top;\n",
              "    }\n",
              "\n",
              "    .dataframe thead th {\n",
              "        text-align: right;\n",
              "    }\n",
              "</style>\n",
              "<table border=\"1\" class=\"dataframe\">\n",
              "  <thead>\n",
              "    <tr style=\"text-align: right;\">\n",
              "      <th></th>\n",
              "      <th>age</th>\n",
              "      <th>yredu</th>\n",
              "      <th>capgain</th>\n",
              "      <th>caploss</th>\n",
              "      <th>workhr</th>\n",
              "    </tr>\n",
              "  </thead>\n",
              "  <tbody>\n",
              "    <tr>\n",
              "      <th>0</th>\n",
              "      <td>39</td>\n",
              "      <td>13</td>\n",
              "      <td>2174</td>\n",
              "      <td>0</td>\n",
              "      <td>40</td>\n",
              "    </tr>\n",
              "    <tr>\n",
              "      <th>1</th>\n",
              "      <td>50</td>\n",
              "      <td>13</td>\n",
              "      <td>0</td>\n",
              "      <td>0</td>\n",
              "      <td>13</td>\n",
              "    </tr>\n",
              "    <tr>\n",
              "      <th>2</th>\n",
              "      <td>38</td>\n",
              "      <td>9</td>\n",
              "      <td>0</td>\n",
              "      <td>0</td>\n",
              "      <td>40</td>\n",
              "    </tr>\n",
              "  </tbody>\n",
              "</table>\n",
              "</div>"
            ],
            "text/plain": [
              "   age  yredu  capgain  caploss  workhr\n",
              "0   39     13     2174        0      40\n",
              "1   50     13        0        0      13\n",
              "2   38      9        0        0      40"
            ]
          },
          "metadata": {
            "tags": []
          },
          "execution_count": 6
        }
      ]
    },
    {
      "cell_type": "markdown",
      "metadata": {
        "id": "2Nru2P0E1pqD"
      },
      "source": [
        "Numpy works nicely with pandas, like below:"
      ]
    },
    {
      "cell_type": "code",
      "metadata": {
        "colab": {
          "base_uri": "https://localhost:8080/"
        },
        "id": "JXrS6tjp1pqE",
        "outputId": "676a03a1-ecad-4ee0-a5d0-d84b2f3085a7"
      },
      "source": [
        "np.sum(subdf[\"caploss\"])"
      ],
      "execution_count": 7,
      "outputs": [
        {
          "output_type": "execute_result",
          "data": {
            "text/plain": [
              "2842700"
            ]
          },
          "metadata": {
            "tags": []
          },
          "execution_count": 7
        }
      ]
    },
    {
      "cell_type": "markdown",
      "metadata": {
        "id": "Mv5mbxDM1pqH"
      },
      "source": [
        "Just like numpy arrays, you can modify\n",
        "entire columns of data rather than one scalar element at a time.\n",
        "For example, the code  \n",
        "\n",
        "`df[\"age\"] = df[\"age\"] + 1` \n",
        "\n",
        "would increment everyone's age by 1."
      ]
    },
    {
      "cell_type": "code",
      "metadata": {
        "collapsed": true,
        "id": "k5rlWD7-1pqH",
        "colab": {
          "base_uri": "https://localhost:8080/"
        },
        "outputId": "76fd93ed-5340-4336-8214-b8750f86de49"
      },
      "source": [
        "cols = [\"age\", \"yredu\", \"capgain\", \"caploss\", \"workhr\"]\n",
        "\n",
        "# normalize between 0 and 1\n",
        "def normalize(data, cat):\n",
        "  return (data[cat] - data[cat].min())/(data[cat].max() - data[cat].min())\n",
        "\n",
        "for cat in cols:\n",
        "  df[cat] = normalize(df, cat)\n",
        "\n",
        "print(df)"
      ],
      "execution_count": 8,
      "outputs": [
        {
          "output_type": "stream",
          "text": [
            "            age               work  fnlwgt  ... caploss    workhr         country\n",
            "0      0.301370          State-gov   77516  ...     0.0  0.397959   United-States\n",
            "1      0.452055   Self-emp-not-inc   83311  ...     0.0  0.122449   United-States\n",
            "2      0.287671            Private  215646  ...     0.0  0.397959   United-States\n",
            "3      0.493151            Private  234721  ...     0.0  0.397959   United-States\n",
            "4      0.150685            Private  338409  ...     0.0  0.397959            Cuba\n",
            "...         ...                ...     ...  ...     ...       ...             ...\n",
            "32556  0.136986            Private  257302  ...     0.0  0.377551   United-States\n",
            "32557  0.315068            Private  154374  ...     0.0  0.397959   United-States\n",
            "32558  0.561644            Private  151910  ...     0.0  0.397959   United-States\n",
            "32559  0.068493            Private  201490  ...     0.0  0.193878   United-States\n",
            "32560  0.479452       Self-emp-inc  287927  ...     0.0  0.397959   United-States\n",
            "\n",
            "[32561 rows x 14 columns]\n"
          ],
          "name": "stdout"
        }
      ]
    },
    {
      "cell_type": "markdown",
      "metadata": {
        "id": "qbfMly4R1pqK"
      },
      "source": [
        "### Part (b) Categorical Features [1 pt]\n",
        "\n",
        "What percentage of people in our data set are male? Note that the data labels all have an unfortunate space in the beginning, e.g. \" Male\" instead of \"Male\".\n",
        "\n",
        "What percentage of people in our data set are female?"
      ]
    },
    {
      "cell_type": "code",
      "metadata": {
        "colab": {
          "base_uri": "https://localhost:8080/"
        },
        "id": "DjAjcsB_1pqK",
        "outputId": "c545c2f9-672c-43af-c841-2844929c49bb"
      },
      "source": [
        "# hint: you can do something like this in pandas\n",
        "sum(df[\"sex\"] == \" Male\")\n",
        "\n",
        "print(\"Male percentage =\", sum(df[\"sex\"] == \" Male\")/len(df[\"sex\"]))\n",
        "print(\"Female percentage =\", sum(df[\"sex\"] == \" Female\")/len(df[\"sex\"]))"
      ],
      "execution_count": 9,
      "outputs": [
        {
          "output_type": "stream",
          "text": [
            "Male percentage = 0.6692054912318418\n",
            "Female percentage = 0.33079450876815825\n"
          ],
          "name": "stdout"
        }
      ]
    },
    {
      "cell_type": "markdown",
      "metadata": {
        "id": "eGVw7pqL1pqN"
      },
      "source": [
        "### Part (c) [2 pt]\n",
        "\n",
        "Before proceeding, we will modify our data frame in a couple more ways:\n",
        "\n",
        "1. We will restrict ourselves to using a subset of the features (to simplify our autoencoder)\n",
        "2. We will remove any records (rows) already containing missing values, and store them in a second dataframe. We will only use records without missing values to train our autoencoder.\n",
        "\n",
        "Both of these steps are done for you, below.\n",
        "\n",
        "How many records contained missing features? What percentage of records were removed?"
      ]
    },
    {
      "cell_type": "code",
      "metadata": {
        "collapsed": true,
        "id": "z6ewPUdv1pqO"
      },
      "source": [
        "contcols = [\"age\", \"yredu\", \"capgain\", \"caploss\", \"workhr\"]\n",
        "catcols = [\"work\", \"marriage\", \"occupation\", \"edu\", \"relationship\", \"sex\"]\n",
        "features = contcols + catcols\n",
        "df = df[features]"
      ],
      "execution_count": 10,
      "outputs": []
    },
    {
      "cell_type": "code",
      "metadata": {
        "colab": {
          "base_uri": "https://localhost:8080/"
        },
        "collapsed": true,
        "id": "fjdVll5a1pqQ",
        "outputId": "1e811ab1-878f-4a5f-d2c6-bab9557dce00"
      },
      "source": [
        "missing = pd.concat([df[c] == \" ?\" for c in catcols], axis=1).any(axis=1)\n",
        "df_with_missing = df[missing]\n",
        "df_not_missing = df[~missing]\n",
        "\n",
        "print(\"Records with missing features =\", len(df_with_missing))\n",
        "print(\"Percentage of records with missing features =\", len(df_with_missing)/len(df))"
      ],
      "execution_count": 11,
      "outputs": [
        {
          "output_type": "stream",
          "text": [
            "Records with missing features = 1843\n",
            "Percentage of records with missing features = 0.056601455729246644\n"
          ],
          "name": "stdout"
        }
      ]
    },
    {
      "cell_type": "markdown",
      "metadata": {
        "id": "XuEpndTQ1pqU"
      },
      "source": [
        "### Part (d) One-Hot Encoding [1 pt]\n",
        "\n",
        "What are all the possible values of the feature \"work\" in `df_not_missing`? You may find the Python function `set` useful."
      ]
    },
    {
      "cell_type": "code",
      "metadata": {
        "colab": {
          "base_uri": "https://localhost:8080/"
        },
        "collapsed": true,
        "id": "iKFh4owE1pqV",
        "outputId": "19c81c4f-7cf7-477c-b248-702e2ddd0bbb"
      },
      "source": [
        "set(df_not_missing['work'])"
      ],
      "execution_count": 12,
      "outputs": [
        {
          "output_type": "execute_result",
          "data": {
            "text/plain": [
              "{' Federal-gov',\n",
              " ' Local-gov',\n",
              " ' Private',\n",
              " ' Self-emp-inc',\n",
              " ' Self-emp-not-inc',\n",
              " ' State-gov',\n",
              " ' Without-pay'}"
            ]
          },
          "metadata": {
            "tags": []
          },
          "execution_count": 12
        }
      ]
    },
    {
      "cell_type": "markdown",
      "metadata": {
        "id": "COv3HaKr1pqY"
      },
      "source": [
        "We will be using a one-hot encoding to represent each of the categorical variables.\n",
        "Our autoencoder will be trained using these one-hot encodings.\n",
        "\n",
        "We will use the pandas function `get_dummies` to produce one-hot encodings\n",
        "for all of the categorical variables in `df_not_missing`. "
      ]
    },
    {
      "cell_type": "code",
      "metadata": {
        "collapsed": true,
        "id": "eKlSYmJg1pqZ"
      },
      "source": [
        "data = pd.get_dummies(df_not_missing)"
      ],
      "execution_count": 13,
      "outputs": []
    },
    {
      "cell_type": "code",
      "metadata": {
        "colab": {
          "base_uri": "https://localhost:8080/",
          "height": 230
        },
        "collapsed": true,
        "id": "3y7nTZ7H1pqb",
        "scrolled": true,
        "outputId": "047e39fa-fe4a-4883-8b0a-ef64504eebd4"
      },
      "source": [
        "data[:3]"
      ],
      "execution_count": 14,
      "outputs": [
        {
          "output_type": "execute_result",
          "data": {
            "text/html": [
              "<div>\n",
              "<style scoped>\n",
              "    .dataframe tbody tr th:only-of-type {\n",
              "        vertical-align: middle;\n",
              "    }\n",
              "\n",
              "    .dataframe tbody tr th {\n",
              "        vertical-align: top;\n",
              "    }\n",
              "\n",
              "    .dataframe thead th {\n",
              "        text-align: right;\n",
              "    }\n",
              "</style>\n",
              "<table border=\"1\" class=\"dataframe\">\n",
              "  <thead>\n",
              "    <tr style=\"text-align: right;\">\n",
              "      <th></th>\n",
              "      <th>age</th>\n",
              "      <th>yredu</th>\n",
              "      <th>capgain</th>\n",
              "      <th>caploss</th>\n",
              "      <th>workhr</th>\n",
              "      <th>work_ Federal-gov</th>\n",
              "      <th>work_ Local-gov</th>\n",
              "      <th>work_ Private</th>\n",
              "      <th>work_ Self-emp-inc</th>\n",
              "      <th>work_ Self-emp-not-inc</th>\n",
              "      <th>work_ State-gov</th>\n",
              "      <th>work_ Without-pay</th>\n",
              "      <th>marriage_ Divorced</th>\n",
              "      <th>marriage_ Married-AF-spouse</th>\n",
              "      <th>marriage_ Married-civ-spouse</th>\n",
              "      <th>marriage_ Married-spouse-absent</th>\n",
              "      <th>marriage_ Never-married</th>\n",
              "      <th>marriage_ Separated</th>\n",
              "      <th>marriage_ Widowed</th>\n",
              "      <th>occupation_ Adm-clerical</th>\n",
              "      <th>occupation_ Armed-Forces</th>\n",
              "      <th>occupation_ Craft-repair</th>\n",
              "      <th>occupation_ Exec-managerial</th>\n",
              "      <th>occupation_ Farming-fishing</th>\n",
              "      <th>occupation_ Handlers-cleaners</th>\n",
              "      <th>occupation_ Machine-op-inspct</th>\n",
              "      <th>occupation_ Other-service</th>\n",
              "      <th>occupation_ Priv-house-serv</th>\n",
              "      <th>occupation_ Prof-specialty</th>\n",
              "      <th>occupation_ Protective-serv</th>\n",
              "      <th>occupation_ Sales</th>\n",
              "      <th>occupation_ Tech-support</th>\n",
              "      <th>occupation_ Transport-moving</th>\n",
              "      <th>edu_ 10th</th>\n",
              "      <th>edu_ 11th</th>\n",
              "      <th>edu_ 12th</th>\n",
              "      <th>edu_ 1st-4th</th>\n",
              "      <th>edu_ 5th-6th</th>\n",
              "      <th>edu_ 7th-8th</th>\n",
              "      <th>edu_ 9th</th>\n",
              "      <th>edu_ Assoc-acdm</th>\n",
              "      <th>edu_ Assoc-voc</th>\n",
              "      <th>edu_ Bachelors</th>\n",
              "      <th>edu_ Doctorate</th>\n",
              "      <th>edu_ HS-grad</th>\n",
              "      <th>edu_ Masters</th>\n",
              "      <th>edu_ Preschool</th>\n",
              "      <th>edu_ Prof-school</th>\n",
              "      <th>edu_ Some-college</th>\n",
              "      <th>relationship_ Husband</th>\n",
              "      <th>relationship_ Not-in-family</th>\n",
              "      <th>relationship_ Other-relative</th>\n",
              "      <th>relationship_ Own-child</th>\n",
              "      <th>relationship_ Unmarried</th>\n",
              "      <th>relationship_ Wife</th>\n",
              "      <th>sex_ Female</th>\n",
              "      <th>sex_ Male</th>\n",
              "    </tr>\n",
              "  </thead>\n",
              "  <tbody>\n",
              "    <tr>\n",
              "      <th>0</th>\n",
              "      <td>0.301370</td>\n",
              "      <td>0.800000</td>\n",
              "      <td>0.02174</td>\n",
              "      <td>0.0</td>\n",
              "      <td>0.397959</td>\n",
              "      <td>0</td>\n",
              "      <td>0</td>\n",
              "      <td>0</td>\n",
              "      <td>0</td>\n",
              "      <td>0</td>\n",
              "      <td>1</td>\n",
              "      <td>0</td>\n",
              "      <td>0</td>\n",
              "      <td>0</td>\n",
              "      <td>0</td>\n",
              "      <td>0</td>\n",
              "      <td>1</td>\n",
              "      <td>0</td>\n",
              "      <td>0</td>\n",
              "      <td>1</td>\n",
              "      <td>0</td>\n",
              "      <td>0</td>\n",
              "      <td>0</td>\n",
              "      <td>0</td>\n",
              "      <td>0</td>\n",
              "      <td>0</td>\n",
              "      <td>0</td>\n",
              "      <td>0</td>\n",
              "      <td>0</td>\n",
              "      <td>0</td>\n",
              "      <td>0</td>\n",
              "      <td>0</td>\n",
              "      <td>0</td>\n",
              "      <td>0</td>\n",
              "      <td>0</td>\n",
              "      <td>0</td>\n",
              "      <td>0</td>\n",
              "      <td>0</td>\n",
              "      <td>0</td>\n",
              "      <td>0</td>\n",
              "      <td>0</td>\n",
              "      <td>0</td>\n",
              "      <td>1</td>\n",
              "      <td>0</td>\n",
              "      <td>0</td>\n",
              "      <td>0</td>\n",
              "      <td>0</td>\n",
              "      <td>0</td>\n",
              "      <td>0</td>\n",
              "      <td>0</td>\n",
              "      <td>1</td>\n",
              "      <td>0</td>\n",
              "      <td>0</td>\n",
              "      <td>0</td>\n",
              "      <td>0</td>\n",
              "      <td>0</td>\n",
              "      <td>1</td>\n",
              "    </tr>\n",
              "    <tr>\n",
              "      <th>1</th>\n",
              "      <td>0.452055</td>\n",
              "      <td>0.800000</td>\n",
              "      <td>0.00000</td>\n",
              "      <td>0.0</td>\n",
              "      <td>0.122449</td>\n",
              "      <td>0</td>\n",
              "      <td>0</td>\n",
              "      <td>0</td>\n",
              "      <td>0</td>\n",
              "      <td>1</td>\n",
              "      <td>0</td>\n",
              "      <td>0</td>\n",
              "      <td>0</td>\n",
              "      <td>0</td>\n",
              "      <td>1</td>\n",
              "      <td>0</td>\n",
              "      <td>0</td>\n",
              "      <td>0</td>\n",
              "      <td>0</td>\n",
              "      <td>0</td>\n",
              "      <td>0</td>\n",
              "      <td>0</td>\n",
              "      <td>1</td>\n",
              "      <td>0</td>\n",
              "      <td>0</td>\n",
              "      <td>0</td>\n",
              "      <td>0</td>\n",
              "      <td>0</td>\n",
              "      <td>0</td>\n",
              "      <td>0</td>\n",
              "      <td>0</td>\n",
              "      <td>0</td>\n",
              "      <td>0</td>\n",
              "      <td>0</td>\n",
              "      <td>0</td>\n",
              "      <td>0</td>\n",
              "      <td>0</td>\n",
              "      <td>0</td>\n",
              "      <td>0</td>\n",
              "      <td>0</td>\n",
              "      <td>0</td>\n",
              "      <td>0</td>\n",
              "      <td>1</td>\n",
              "      <td>0</td>\n",
              "      <td>0</td>\n",
              "      <td>0</td>\n",
              "      <td>0</td>\n",
              "      <td>0</td>\n",
              "      <td>0</td>\n",
              "      <td>1</td>\n",
              "      <td>0</td>\n",
              "      <td>0</td>\n",
              "      <td>0</td>\n",
              "      <td>0</td>\n",
              "      <td>0</td>\n",
              "      <td>0</td>\n",
              "      <td>1</td>\n",
              "    </tr>\n",
              "    <tr>\n",
              "      <th>2</th>\n",
              "      <td>0.287671</td>\n",
              "      <td>0.533333</td>\n",
              "      <td>0.00000</td>\n",
              "      <td>0.0</td>\n",
              "      <td>0.397959</td>\n",
              "      <td>0</td>\n",
              "      <td>0</td>\n",
              "      <td>1</td>\n",
              "      <td>0</td>\n",
              "      <td>0</td>\n",
              "      <td>0</td>\n",
              "      <td>0</td>\n",
              "      <td>1</td>\n",
              "      <td>0</td>\n",
              "      <td>0</td>\n",
              "      <td>0</td>\n",
              "      <td>0</td>\n",
              "      <td>0</td>\n",
              "      <td>0</td>\n",
              "      <td>0</td>\n",
              "      <td>0</td>\n",
              "      <td>0</td>\n",
              "      <td>0</td>\n",
              "      <td>0</td>\n",
              "      <td>1</td>\n",
              "      <td>0</td>\n",
              "      <td>0</td>\n",
              "      <td>0</td>\n",
              "      <td>0</td>\n",
              "      <td>0</td>\n",
              "      <td>0</td>\n",
              "      <td>0</td>\n",
              "      <td>0</td>\n",
              "      <td>0</td>\n",
              "      <td>0</td>\n",
              "      <td>0</td>\n",
              "      <td>0</td>\n",
              "      <td>0</td>\n",
              "      <td>0</td>\n",
              "      <td>0</td>\n",
              "      <td>0</td>\n",
              "      <td>0</td>\n",
              "      <td>0</td>\n",
              "      <td>0</td>\n",
              "      <td>1</td>\n",
              "      <td>0</td>\n",
              "      <td>0</td>\n",
              "      <td>0</td>\n",
              "      <td>0</td>\n",
              "      <td>0</td>\n",
              "      <td>1</td>\n",
              "      <td>0</td>\n",
              "      <td>0</td>\n",
              "      <td>0</td>\n",
              "      <td>0</td>\n",
              "      <td>0</td>\n",
              "      <td>1</td>\n",
              "    </tr>\n",
              "  </tbody>\n",
              "</table>\n",
              "</div>"
            ],
            "text/plain": [
              "        age     yredu  capgain  ...  relationship_ Wife  sex_ Female  sex_ Male\n",
              "0  0.301370  0.800000  0.02174  ...                   0            0          1\n",
              "1  0.452055  0.800000  0.00000  ...                   0            0          1\n",
              "2  0.287671  0.533333  0.00000  ...                   0            0          1\n",
              "\n",
              "[3 rows x 57 columns]"
            ]
          },
          "metadata": {
            "tags": []
          },
          "execution_count": 14
        }
      ]
    },
    {
      "cell_type": "markdown",
      "metadata": {
        "id": "HwjDg1uM1pqe"
      },
      "source": [
        "### Part (e) One-Hot Encoding [2 pt]\n",
        "\n",
        "The dataframe `data` contains the cleaned and normalized data that we will use to train our denoising autoencoder.\n",
        "\n",
        "How many **columns** (features) are in the dataframe `data`?\n",
        "\n",
        "Briefly explain where that number come from."
      ]
    },
    {
      "cell_type": "code",
      "metadata": {
        "colab": {
          "base_uri": "https://localhost:8080/"
        },
        "collapsed": true,
        "id": "yjZ5N0Tl1pqf",
        "outputId": "f654fc5a-c85a-4a0f-8165-ed8672d05c47"
      },
      "source": [
        "# data contains datum that are one-hot encoded to all of the possible features \n",
        "# (which are the columns of the data, or the keys if you're considering it as a)\n",
        "# dictionary). The columns represent all of the possible features each datum\n",
        "# can take. \n",
        "\n",
        "len(data.keys())"
      ],
      "execution_count": 15,
      "outputs": [
        {
          "output_type": "execute_result",
          "data": {
            "text/plain": [
              "57"
            ]
          },
          "metadata": {
            "tags": []
          },
          "execution_count": 15
        }
      ]
    },
    {
      "cell_type": "markdown",
      "metadata": {
        "id": "OEJ0Ci3l1pqh"
      },
      "source": [
        "### Part (f) One-Hot Conversion [3 pt]\n",
        "\n",
        "We will convert the pandas data frame `data` into numpy, so that\n",
        "it can be further converted into a PyTorch tensor.\n",
        "However, in doing so, we lose the column label information that\n",
        "a panda data frame automatically stores.\n",
        "\n",
        "Complete the function `get_categorical_value` that will return\n",
        "the named value of a feature given a one-hot embedding.\n",
        "You may find the global variables `cat_index` and `cat_values`\n",
        "useful. (Display them and figure out what they are first.)\n",
        "\n",
        "We will need this function in the next part of the lab\n",
        "to interpret our autoencoder outputs. So, the input\n",
        "to our function `get_categorical_values` might not \n",
        "actually be \"one-hot\" -- the input may instead \n",
        "contain real-valued predictions from our neural network."
      ]
    },
    {
      "cell_type": "code",
      "metadata": {
        "collapsed": true,
        "id": "ZmovX6gu1pqi"
      },
      "source": [
        "datanp = data.values.astype(np.float32)"
      ],
      "execution_count": 16,
      "outputs": []
    },
    {
      "cell_type": "code",
      "metadata": {
        "colab": {
          "base_uri": "https://localhost:8080/"
        },
        "collapsed": true,
        "id": "YRIa5MBd1pql",
        "outputId": "8c22ee0a-0a9b-45df-e49a-2a875a19675d"
      },
      "source": [
        "cat_index = {}  # Mapping of feature -> start index of feature in a record\n",
        "cat_values = {} # Mapping of feature -> list of categorical values the feature can take\n",
        "\n",
        "# build up the cat_index and cat_values dictionary\n",
        "for i, header in enumerate(data.keys()):\n",
        "    if \"_\" in header: # categorical header\n",
        "        feature, value = header.split()\n",
        "        feature = feature[:-1] # remove the last char; it is always an underscore\n",
        "        if feature not in cat_index:\n",
        "            cat_index[feature] = i\n",
        "            cat_values[feature] = [value]\n",
        "        else:\n",
        "            cat_values[feature].append(value)\n",
        "\n",
        "def get_onehot(record, feature):\n",
        "    \"\"\"\n",
        "    Return the portion of `record` that is the one-hot encoding\n",
        "    of `feature`. For example, since the feature \"work\" is stored\n",
        "    in the indices [5:12] in each record, calling `get_range(record, \"work\")`\n",
        "    is equivalent to accessing `record[5:12]`.\n",
        "    \n",
        "    Args:\n",
        "        - record: a numpy array representing one record, formatted\n",
        "                  the same way as a row in `data.np`\n",
        "        - feature: a string, should be an element of `catcols`\n",
        "    \"\"\"\n",
        "    start_index = cat_index[feature]\n",
        "    stop_index = cat_index[feature] + len(cat_values[feature])\n",
        "    return record[start_index:stop_index]\n",
        "\n",
        "def get_categorical_value(onehot, feature):\n",
        "    \"\"\"\n",
        "    Return the categorical value name of a feature given\n",
        "    a one-hot vector representing the feature.\n",
        "    \n",
        "    Args:\n",
        "        - onehot: a numpy array one-hot representation of the feature\n",
        "        - feature: a string, should be an element of `catcols`\n",
        "        \n",
        "    Examples:\n",
        "    \n",
        "    >>> get_categorical_value(np.array([0., 0., 0., 0., 0., 1., 0.]), \"work\")\n",
        "    'State-gov'\n",
        "    >>> get_categorical_value(np.array([0.1, 0., 1.1, 0.2, 0., 1., 0.]), \"work\")\n",
        "    'Private'\n",
        "    \"\"\"\n",
        "    # <----- TODO: WRITE YOUR CODE HERE ----->\n",
        "    # You may find the variables `cat_index` and `cat_values` \n",
        "    # (created above) useful.\n",
        "    return cat_values[feature][np.argmax(onehot)]\n",
        "\n",
        "print(\"get_categorical_value(np.array([0., 0., 0., 0., 0., 1., 0.]), \\\"work\\\") =\", get_categorical_value(np.array([0., 0., 0., 0., 0., 1., 0.]), \"work\"))\n",
        "print(\"get_categorical_value(np.array([0.1, 0., 1.1, 0.2, 0., 1., 0.]), \\\"work\\\") =\", get_categorical_value(np.array([0.1, 0., 1.1, 0.2, 0., 1., 0.]), \"work\"))"
      ],
      "execution_count": 17,
      "outputs": [
        {
          "output_type": "stream",
          "text": [
            "get_categorical_value(np.array([0., 0., 0., 0., 0., 1., 0.]), \"work\") = State-gov\n",
            "get_categorical_value(np.array([0.1, 0., 1.1, 0.2, 0., 1., 0.]), \"work\") = Private\n"
          ],
          "name": "stdout"
        }
      ]
    },
    {
      "cell_type": "code",
      "metadata": {
        "collapsed": true,
        "id": "T_XXxZdh1pqv"
      },
      "source": [
        "# more useful code, used during training, that depends on the function\n",
        "# you write above\n",
        "\n",
        "def get_feature(record, feature):\n",
        "    \"\"\"\n",
        "    Return the categorical feature value of a record\n",
        "    \"\"\"\n",
        "    onehot = get_onehot(record, feature)\n",
        "    return get_categorical_value(onehot, feature)\n",
        "\n",
        "def get_features(record):\n",
        "    \"\"\"\n",
        "    Return a dictionary of all categorical feature values of a record\n",
        "    \"\"\"\n",
        "    return { f: get_feature(record, f) for f in catcols }"
      ],
      "execution_count": 18,
      "outputs": []
    },
    {
      "cell_type": "markdown",
      "metadata": {
        "id": "1_5ZZR_J1pqy"
      },
      "source": [
        "### Part (g) Train/Test Split [3 pt]\n",
        "\n",
        "Randomly split the data into approximately 70% training, 15% validation and 15% test.\n",
        "\n",
        "Report the number of items in your training, validation, and test set."
      ]
    },
    {
      "cell_type": "code",
      "metadata": {
        "colab": {
          "base_uri": "https://localhost:8080/"
        },
        "collapsed": true,
        "id": "TE_fTJJf1pqz",
        "outputId": "4cbfed56-05f2-4924-cdc7-c61faeee664e"
      },
      "source": [
        "# set the numpy seed for reproducibility\n",
        "# https://docs.scipy.org/doc/numpy/reference/generated/numpy.random.seed.html\n",
        "np.random.seed(50)\n",
        "\n",
        "# todo\n",
        "\n",
        "# shuffle data\n",
        "np.random.shuffle(datanp)\n",
        "\n",
        "# calculate split indices\n",
        "train_end = int(len(datanp) * 0.7)\n",
        "valid_end = int(len(datanp) * (0.7 + 0.15))\n",
        "\n",
        "train_data = datanp[:train_end]\n",
        "valid_data = datanp[train_end:valid_end]\n",
        "test_data = datanp[valid_end:]\n",
        "\n",
        "print(\"Size of training dataset =\", len(train_data))\n",
        "print(\"Size of validation dataset =\", len(valid_data))\n",
        "print(\"Size of testing dataset =\", len(test_data))"
      ],
      "execution_count": 19,
      "outputs": [
        {
          "output_type": "stream",
          "text": [
            "Size of training dataset = 21502\n",
            "Size of validation dataset = 4608\n",
            "Size of testing dataset = 4608\n"
          ],
          "name": "stdout"
        }
      ]
    },
    {
      "cell_type": "markdown",
      "metadata": {
        "id": "h9wJAKOI1pq3"
      },
      "source": [
        "## Part 2. Model Setup [5 pt]\n",
        "\n",
        "### Part (a) [4 pt]\n",
        "\n",
        "Design a fully-connected autoencoder by modifying the `encoder` and `decoder`\n",
        "below.\n",
        "\n",
        "The input to this autoencoder will be the features of the `data`, with\n",
        "one categorical feature recorded as \"missing\". The output of the autoencoder\n",
        "should be the reconstruction of the same features, but with the missing\n",
        "value filled in.\n",
        "\n",
        "**Note**: Do not reduce the dimensionality of the input too much!\n",
        "The output of your embedding is expected to contain information \n",
        "about ~11 features."
      ]
    },
    {
      "cell_type": "code",
      "metadata": {
        "collapsed": true,
        "id": "f3F--tdn1pq3"
      },
      "source": [
        "from torch import nn\n",
        "\n",
        "class AutoEncoder(nn.Module):\n",
        "    def __init__(self, encoding_dim=12):\n",
        "        super(AutoEncoder, self).__init__()\n",
        "        self.encoder = nn.Sequential(\n",
        "            nn.Linear(57, 24), # TODO -- FILL OUT THE CODE HERE!\n",
        "            nn.ReLU(),\n",
        "            nn.Linear(24, encoding_dim)\n",
        "        )\n",
        "        self.decoder = nn.Sequential(\n",
        "            nn.Linear(encoding_dim, 24),\n",
        "            nn.ReLU(),\n",
        "            nn.Linear(24, 57), # TODO -- FILL OUT THE CODE HERE!\n",
        "            nn.Sigmoid() # get to the range (0, 1)\n",
        "        )\n",
        "\n",
        "    def forward(self, x):\n",
        "        x = self.encoder(x)\n",
        "        x = self.decoder(x)\n",
        "        return x"
      ],
      "execution_count": 20,
      "outputs": []
    },
    {
      "cell_type": "markdown",
      "metadata": {
        "id": "kuEzTSAv1pq6"
      },
      "source": [
        "### Part (b) [1 pt]\n",
        "\n",
        "Explain why there is a sigmoid activation in the last step of the decoder.\n",
        "\n",
        "(**Note**: the values inside the data frame `data` and the training code in Part 3 might be helpful.)"
      ]
    },
    {
      "cell_type": "code",
      "metadata": {
        "collapsed": true,
        "id": "HFLd0S4H1pq6"
      },
      "source": [
        "# The sigmoid function is used to scale the output between 0 and 1, since the\n",
        "# ReLU does not clip the outputs. This interprets the images to be a gray-scale\n",
        "# image where each pixel stores the pixel intensity from 0 to 1. "
      ],
      "execution_count": 21,
      "outputs": []
    },
    {
      "cell_type": "markdown",
      "metadata": {
        "id": "jYwqFWVl1pq8"
      },
      "source": [
        "## Part 3. Training [18] \n",
        "\n",
        "### Part (a) [6 pt]\n",
        "\n",
        "We will train our autoencoder in the following way:\n",
        "\n",
        "- In each iteration, we will hide one of the categorical features using the `zero_out_random_features` function\n",
        "- We will pass the data with one missing feature through the autoencoder, and obtain a reconstruction\n",
        "- We will check how close the reconstruction is compared to the original data -- including the value of the missing feature\n",
        "\n",
        "Complete the code to train the autoencoder, and plot the training and validation loss every few iterations.\n",
        "You may also want to plot training and validation \"accuracy\" every few iterations, as we will define in\n",
        "part (b). You may also want to checkpoint your model every few iterations or epochs.\n",
        "\n",
        "Use `nn.MSELoss()` as your loss function. (Side note: you might recognize that this loss function is not\n",
        "ideal for this problem, but we will use it anyway.)"
      ]
    },
    {
      "cell_type": "code",
      "metadata": {
        "collapsed": true,
        "id": "IDQA_-dS1pq9"
      },
      "source": [
        "def zero_out_feature(records, feature):\n",
        "    \"\"\" Set the feature missing in records, by setting the appropriate\n",
        "    columns of records to 0\n",
        "    \"\"\"\n",
        "    start_index = cat_index[feature]\n",
        "    stop_index = cat_index[feature] + len(cat_values[feature])\n",
        "    records[:, start_index:stop_index] = 0\n",
        "    return records\n",
        "\n",
        "def zero_out_random_feature(records):\n",
        "    \"\"\" Set one random feature missing in records, by setting the \n",
        "    appropriate columns of records to 0\n",
        "    \"\"\"\n",
        "    return zero_out_feature(records, random.choice(catcols))\n",
        "\n",
        "def train(model, train_data, valid_data, batch_size=64, num_epochs=20, learning_rate=1e-4, plot=False):\n",
        "    \"\"\" Training loop. You should update this.\"\"\"\n",
        "    torch.manual_seed(42)\n",
        "    criterion = nn.MSELoss()\n",
        "    optimizer = torch.optim.Adam(model.parameters(), lr=learning_rate, weight_decay=1e-5)\n",
        "\n",
        "    # generate DataLoader objects\n",
        "    train_loader = torch.utils.data.DataLoader(train_data, \n",
        "                                               batch_size=batch_size)\n",
        "    valid_loader = torch.utils.data.DataLoader(valid_data, \n",
        "                                               batch_size=batch_size)\n",
        "    \n",
        "    # for plotting\n",
        "    epochs, train_losses, valid_losses, train_acc, valid_acc = [], [], [], [], []\n",
        "\n",
        "    # start timing\n",
        "    start_time = time.time()\n",
        "    for epoch in range(num_epochs):\n",
        "        for data in train_loader:\n",
        "            datam = zero_out_random_feature(data.clone()) # zero out one categorical feature\n",
        "            \n",
        "            recon = model(datam)\n",
        "            train_loss = criterion(recon, data)\n",
        "            train_loss.backward()\n",
        "            optimizer.step()\n",
        "            optimizer.zero_grad()\n",
        "\n",
        "        for data in valid_loader:\n",
        "            datam = zero_out_random_feature(data.clone()) # zero out one categorical feature\n",
        "            recon = model(datam)\n",
        "            valid_loss = criterion(recon, data)\n",
        "\n",
        "        epochs.append(epoch)\n",
        "        train_losses.append(train_loss.item())\n",
        "        valid_losses.append(valid_loss.item())\n",
        "        train_acc.append(get_accuracy(model, train_loader))\n",
        "        valid_acc.append(get_accuracy(model, valid_loader))\n",
        "\n",
        "        print(\"Epoch {}/{}: Training Loss = {}, Validation Loss = {}\".format(epoch + 1, \n",
        "                                                                             num_epochs, \n",
        "                                                                             train_losses[epoch], \n",
        "                                                                             valid_losses[epoch]))\n",
        "\n",
        "    if plot:\n",
        "        # plotting\n",
        "        plt.title(\"Training Curve\")\n",
        "        plt.plot(epochs, train_losses, label=\"Train\")\n",
        "        plt.plot(epochs, valid_losses, label=\"Validation\")\n",
        "        plt.xlabel(\"Epochs\")\n",
        "        plt.ylabel(\"Loss\")\n",
        "        plt.show()\n",
        "\n",
        "        plt.title(\"Training Curve\")\n",
        "        plt.plot(epochs, train_acc, label=\"Train\")\n",
        "        plt.plot(epochs, valid_acc, label=\"Validation\")\n",
        "        plt.xlabel(\"Epochs\")\n",
        "        plt.ylabel(\"Training Accuracy\")\n",
        "        plt.legend(loc='best')\n",
        "        plt.show()\n",
        "\n",
        "    print(\"Final Training Accuracy: {}\".format(train_acc[-1]))\n",
        "    print(\"Final Validation Accuracy: {}\".format(valid_acc[-1]))\n",
        "\n",
        "    end_time = time.time()\n",
        "    elapsed_time = end_time - start_time\n",
        "    print(\"Total time elapsed: {:.2f} seconds\".format(elapsed_time))"
      ],
      "execution_count": 22,
      "outputs": []
    },
    {
      "cell_type": "markdown",
      "metadata": {
        "id": "WKk01pwx1pq_"
      },
      "source": [
        "### Part (b) [3 pt]\n",
        "\n",
        "While plotting training and validation loss is valuable, loss values are harder to compare\n",
        "than accuracy percentages. It would be nice to have a measure of \"accuracy\" in this problem.\n",
        "\n",
        "Since we will only be imputing missing categorical values, we will define an accuracy measure.\n",
        "For each record and for each categorical feature, we determine whether\n",
        "the model can predict the categorical feature given all the other features of the record.\n",
        "\n",
        "A function `get_accuracy` is written for you. It is up to you to figure out how to\n",
        "use the function. **You don't need to submit anything in this part.**\n",
        "To earn the marks, correctly plot the training and validation accuracy every few \n",
        "iterations as part of your training curve."
      ]
    },
    {
      "cell_type": "code",
      "metadata": {
        "collapsed": true,
        "id": "bHWLfCzM1pq_"
      },
      "source": [
        "def get_accuracy(model, data_loader):\n",
        "    \"\"\"Return the \"accuracy\" of the autoencoder model across a data set.\n",
        "    That is, for each record and for each categorical feature, \n",
        "    we determine whether the model can successfully predict the value\n",
        "    of the categorical feature given all the other features of the \n",
        "    record. The returned \"accuracy\" measure is the percentage of times \n",
        "    that our model is successful.\n",
        "        \n",
        "    Args:\n",
        "       - model: the autoencoder model, an instance of nn.Module\n",
        "       - data_loader: an instance of torch.utils.data.DataLoader\n",
        "\n",
        "    Example (to illustrate how get_accuracy is intended to be called.\n",
        "             Depending on your variable naming this code might require\n",
        "             modification.)\n",
        "\n",
        "        >>> model = AutoEncoder()\n",
        "        >>> vdl = torch.utils.data.DataLoader(data_valid, batch_size=256, shuffle=True)\n",
        "        >>> get_accuracy(model, vdl)\n",
        "    \"\"\"\n",
        "    total = 0\n",
        "    acc = 0\n",
        "    for col in catcols:\n",
        "        for item in data_loader: # minibatches\n",
        "            inp = item.detach().numpy()\n",
        "            out = model(zero_out_feature(item.clone(), col)).detach().numpy()\n",
        "            for i in range(out.shape[0]): # record in minibatch\n",
        "                acc += int(get_feature(out[i], col) == get_feature(inp[i], col))\n",
        "                total += 1\n",
        "    return acc / total"
      ],
      "execution_count": 23,
      "outputs": []
    },
    {
      "cell_type": "markdown",
      "metadata": {
        "id": "SxCTlXoV1prB"
      },
      "source": [
        "### Part (c) [4 pt]\n",
        "\n",
        "Run your updated training code, using reasonable initial hyperparameters.\n",
        "\n",
        "Include your training curve in your submission."
      ]
    },
    {
      "cell_type": "code",
      "metadata": {
        "colab": {
          "base_uri": "https://localhost:8080/",
          "height": 964
        },
        "id": "nj5b71l-1prC",
        "outputId": "54d5885a-89a8-419a-bb1f-448c141ce9ec"
      },
      "source": [
        "AEModel = AutoEncoder()\n",
        "train(AEModel, train_data, valid_data, plot=True)"
      ],
      "execution_count": 24,
      "outputs": [
        {
          "output_type": "stream",
          "text": [
            "Epoch 1/20: Training Loss = 0.16591590642929077, Validation Loss = 0.16740357875823975\n",
            "Epoch 2/20: Training Loss = 0.07296857982873917, Validation Loss = 0.0775018259882927\n",
            "Epoch 3/20: Training Loss = 0.06969495862722397, Validation Loss = 0.07321673631668091\n",
            "Epoch 4/20: Training Loss = 0.06855739653110504, Validation Loss = 0.07205388695001602\n",
            "Epoch 5/20: Training Loss = 0.06695717573165894, Validation Loss = 0.07078254967927933\n",
            "Epoch 6/20: Training Loss = 0.06156821548938751, Validation Loss = 0.06698571890592575\n",
            "Epoch 7/20: Training Loss = 0.058431629091501236, Validation Loss = 0.0591568797826767\n",
            "Epoch 8/20: Training Loss = 0.056219425052404404, Validation Loss = 0.05636307969689369\n",
            "Epoch 9/20: Training Loss = 0.054941896349191666, Validation Loss = 0.05533255264163017\n",
            "Epoch 10/20: Training Loss = 0.054507941007614136, Validation Loss = 0.05551234632730484\n",
            "Epoch 11/20: Training Loss = 0.05409836024045944, Validation Loss = 0.05400913208723068\n",
            "Epoch 12/20: Training Loss = 0.05341935530304909, Validation Loss = 0.053264319896698\n",
            "Epoch 13/20: Training Loss = 0.051700424402952194, Validation Loss = 0.05190184339880943\n",
            "Epoch 14/20: Training Loss = 0.048856571316719055, Validation Loss = 0.051077950745821\n",
            "Epoch 15/20: Training Loss = 0.048213548958301544, Validation Loss = 0.048027537763118744\n",
            "Epoch 16/20: Training Loss = 0.046056751161813736, Validation Loss = 0.04521860554814339\n",
            "Epoch 17/20: Training Loss = 0.04177005589008331, Validation Loss = 0.04475352168083191\n",
            "Epoch 18/20: Training Loss = 0.043383482843637466, Validation Loss = 0.043103478848934174\n",
            "Epoch 19/20: Training Loss = 0.040304578840732574, Validation Loss = 0.04168183356523514\n",
            "Epoch 20/20: Training Loss = 0.038910508155822754, Validation Loss = 0.039204731583595276\n"
          ],
          "name": "stdout"
        },
        {
          "output_type": "display_data",
          "data": {
            "image/png": "[encoded data removed]",
            "text/plain": [
              "<Figure size 432x288 with 1 Axes>"
            ]
          },
          "metadata": {
            "tags": [],
            "needs_background": "light"
          }
        },
        {
          "output_type": "display_data",
          "data": {
            "image/png": "[encoded data removed]",
            "text/plain": [
              "<Figure size 432x288 with 1 Axes>"
            ]
          },
          "metadata": {
            "tags": [],
            "needs_background": "light"
          }
        },
        {
          "output_type": "stream",
          "text": [
            "Final Training Accuracy: 0.5837286453973274\n",
            "Final Validation Accuracy: 0.5842737268518519\n",
            "Total time elapsed: 70.71 seconds\n"
          ],
          "name": "stdout"
        }
      ]
    },
    {
      "cell_type": "markdown",
      "metadata": {
        "id": "h9xTwIf51prF"
      },
      "source": [
        "### Part (d) [5 pt]\n",
        "\n",
        "Tune your hyperparameters, training at least 4 different models (4 sets of hyperparameters).\n",
        "\n",
        "Do not include all your training curves. Instead, explain what hyperparameters\n",
        "you tried, what their effect was, and what your thought process was as you \n",
        "chose the next set of hyperparameters to try."
      ]
    },
    {
      "cell_type": "code",
      "metadata": {
        "collapsed": true,
        "id": "PhTKt9iL1prG",
        "colab": {
          "base_uri": "https://localhost:8080/"
        },
        "outputId": "f2f72016-90b0-4a32-9e3a-735bf88c47b6"
      },
      "source": [
        "# Double batch size and learning rate\n",
        "\n",
        "# Accuracy was slightly higher (around +1%), and marginally lower final losses\n",
        "# Training was faster from default by around 15 seconds\n",
        "AEModel = AutoEncoder()\n",
        "train(AEModel, train_data, valid_data, batch_size=128, learning_rate=2e-4)"
      ],
      "execution_count": 25,
      "outputs": [
        {
          "output_type": "stream",
          "text": [
            "Epoch 1/20: Training Loss = 0.16346748173236847, Validation Loss = 0.16762660443782806\n",
            "Epoch 2/20: Training Loss = 0.0719723179936409, Validation Loss = 0.07627186179161072\n",
            "Epoch 3/20: Training Loss = 0.0687456950545311, Validation Loss = 0.07314417511224747\n",
            "Epoch 4/20: Training Loss = 0.06810194998979568, Validation Loss = 0.0721912607550621\n",
            "Epoch 5/20: Training Loss = 0.06692966818809509, Validation Loss = 0.0705607682466507\n",
            "Epoch 6/20: Training Loss = 0.06410792469978333, Validation Loss = 0.06794792413711548\n",
            "Epoch 7/20: Training Loss = 0.05423459783196449, Validation Loss = 0.058214977383613586\n",
            "Epoch 8/20: Training Loss = 0.05402211844921112, Validation Loss = 0.05673673748970032\n",
            "Epoch 9/20: Training Loss = 0.05158393457531929, Validation Loss = 0.055656798183918\n",
            "Epoch 10/20: Training Loss = 0.05250268056988716, Validation Loss = 0.05495161935687065\n",
            "Epoch 11/20: Training Loss = 0.04955671355128288, Validation Loss = 0.05325838550925255\n",
            "Epoch 12/20: Training Loss = 0.04792391136288643, Validation Loss = 0.05156540870666504\n",
            "Epoch 13/20: Training Loss = 0.04719776287674904, Validation Loss = 0.05060218647122383\n",
            "Epoch 14/20: Training Loss = 0.04661496356129646, Validation Loss = 0.051405876874923706\n",
            "Epoch 15/20: Training Loss = 0.04452333226799965, Validation Loss = 0.04757004603743553\n",
            "Epoch 16/20: Training Loss = 0.04219287633895874, Validation Loss = 0.0454290509223938\n",
            "Epoch 17/20: Training Loss = 0.04313405230641365, Validation Loss = 0.04385221749544144\n",
            "Epoch 18/20: Training Loss = 0.04176318645477295, Validation Loss = 0.04294077679514885\n",
            "Epoch 19/20: Training Loss = 0.04197278991341591, Validation Loss = 0.04448479786515236\n",
            "Epoch 20/20: Training Loss = 0.03637085482478142, Validation Loss = 0.03934069722890854\n",
            "Final Training Accuracy: 0.5968282020277184\n",
            "Final Validation Accuracy: 0.5927372685185185\n",
            "Total time elapsed: 55.80 seconds\n"
          ],
          "name": "stdout"
        }
      ]
    },
    {
      "cell_type": "code",
      "metadata": {
        "colab": {
          "base_uri": "https://localhost:8080/"
        },
        "id": "n0QmcfuPhU1I",
        "outputId": "5a975e15-022d-4bd3-cb9b-806d28d0755e"
      },
      "source": [
        "# Halve batch size and learning rate\n",
        "\n",
        "# Since doubling batch size and learning rate didn't seem to change much, I\n",
        "# tried to lower both the batch size and learning rate instead. I assumed that\n",
        "# increasing either the batch size or the learning rate would have no further\n",
        "# effect in improving the model, so maybe lowering them might affect it.\n",
        "\n",
        "# Slightly worse performance (around -1%), higher final losses\n",
        "# Training was slower from default by around 23 seconds\n",
        "AEModel = AutoEncoder()\n",
        "train(AEModel, train_data, valid_data, batch_size=32, learning_rate=5e-5)"
      ],
      "execution_count": 26,
      "outputs": [
        {
          "output_type": "stream",
          "text": [
            "Epoch 1/20: Training Loss = 0.149537593126297, Validation Loss = 0.1538858562707901\n",
            "Epoch 2/20: Training Loss = 0.07148543000221252, Validation Loss = 0.07596873492002487\n",
            "Epoch 3/20: Training Loss = 0.06731489300727844, Validation Loss = 0.07260928303003311\n",
            "Epoch 4/20: Training Loss = 0.06637094914913177, Validation Loss = 0.07176454365253448\n",
            "Epoch 5/20: Training Loss = 0.06586606800556183, Validation Loss = 0.07094256579875946\n",
            "Epoch 6/20: Training Loss = 0.06467179954051971, Validation Loss = 0.06965554505586624\n",
            "Epoch 7/20: Training Loss = 0.06005288287997246, Validation Loss = 0.06444201618432999\n",
            "Epoch 8/20: Training Loss = 0.05417368933558464, Validation Loss = 0.05880586802959442\n",
            "Epoch 9/20: Training Loss = 0.05305483937263489, Validation Loss = 0.05521361157298088\n",
            "Epoch 10/20: Training Loss = 0.05202056095004082, Validation Loss = 0.05331887677311897\n",
            "Epoch 11/20: Training Loss = 0.05005960911512375, Validation Loss = 0.05233590677380562\n",
            "Epoch 12/20: Training Loss = 0.048479367047548294, Validation Loss = 0.05127335712313652\n",
            "Epoch 13/20: Training Loss = 0.048116929829120636, Validation Loss = 0.0499098002910614\n",
            "Epoch 14/20: Training Loss = 0.046380415558815, Validation Loss = 0.04786164313554764\n",
            "Epoch 15/20: Training Loss = 0.04384632781147957, Validation Loss = 0.046144839376211166\n",
            "Epoch 16/20: Training Loss = 0.04241356998682022, Validation Loss = 0.04534493014216423\n",
            "Epoch 17/20: Training Loss = 0.04124092310667038, Validation Loss = 0.04719935730099678\n",
            "Epoch 18/20: Training Loss = 0.04039254039525986, Validation Loss = 0.043072815984487534\n",
            "Epoch 19/20: Training Loss = 0.04179060459136963, Validation Loss = 0.04142019525170326\n",
            "Epoch 20/20: Training Loss = 0.04169657826423645, Validation Loss = 0.0413796603679657\n",
            "Final Training Accuracy: 0.5794809785136267\n",
            "Final Validation Accuracy: 0.5772569444444444\n",
            "Total time elapsed: 93.53 seconds\n"
          ],
          "name": "stdout"
        }
      ]
    },
    {
      "cell_type": "code",
      "metadata": {
        "colab": {
          "base_uri": "https://localhost:8080/"
        },
        "id": "bR2DSNEvjBI0",
        "outputId": "f895d870-a606-4398-a23e-1543c515ef47"
      },
      "source": [
        "# Smaller embedding space\n",
        "\n",
        "# Since changing either the batch size or the learning rate had no real\n",
        "# improvement on the model, changing the architecture, most notably the\n",
        "# embedding space, might make a difference.\n",
        "\n",
        "# Worse accuracy (around -1%), higher final losses\n",
        "# Training was faster from default by around 3 seconds\n",
        "AEModel = AutoEncoder(encoding_dim=8)\n",
        "train(AEModel, train_data, valid_data)"
      ],
      "execution_count": 27,
      "outputs": [
        {
          "output_type": "stream",
          "text": [
            "Epoch 1/20: Training Loss = 0.18215914070606232, Validation Loss = 0.18173940479755402\n",
            "Epoch 2/20: Training Loss = 0.07612505555152893, Validation Loss = 0.08001672476530075\n",
            "Epoch 3/20: Training Loss = 0.06991682201623917, Validation Loss = 0.07352472841739655\n",
            "Epoch 4/20: Training Loss = 0.06836201995611191, Validation Loss = 0.07220320403575897\n",
            "Epoch 5/20: Training Loss = 0.06623172014951706, Validation Loss = 0.06978733837604523\n",
            "Epoch 6/20: Training Loss = 0.06118306517601013, Validation Loss = 0.06249199062585831\n",
            "Epoch 7/20: Training Loss = 0.056927673518657684, Validation Loss = 0.058855090290308\n",
            "Epoch 8/20: Training Loss = 0.055043552070856094, Validation Loss = 0.05670252442359924\n",
            "Epoch 9/20: Training Loss = 0.05464664474129677, Validation Loss = 0.05549294129014015\n",
            "Epoch 10/20: Training Loss = 0.05385430157184601, Validation Loss = 0.05494041368365288\n",
            "Epoch 11/20: Training Loss = 0.05346579849720001, Validation Loss = 0.05420307070016861\n",
            "Epoch 12/20: Training Loss = 0.053331732749938965, Validation Loss = 0.05296224355697632\n",
            "Epoch 13/20: Training Loss = 0.05309316888451576, Validation Loss = 0.05168336629867554\n",
            "Epoch 14/20: Training Loss = 0.049886129796504974, Validation Loss = 0.050760697573423386\n",
            "Epoch 15/20: Training Loss = 0.04753033444285393, Validation Loss = 0.05117013677954674\n",
            "Epoch 16/20: Training Loss = 0.04817240685224533, Validation Loss = 0.045943211764097214\n",
            "Epoch 17/20: Training Loss = 0.045797113329172134, Validation Loss = 0.0464165098965168\n",
            "Epoch 18/20: Training Loss = 0.044566936790943146, Validation Loss = 0.044069040566682816\n",
            "Epoch 19/20: Training Loss = 0.042274512350559235, Validation Loss = 0.04283810034394264\n",
            "Epoch 20/20: Training Loss = 0.042268477380275726, Validation Loss = 0.04128452017903328\n",
            "Final Training Accuracy: 0.5749077605184014\n",
            "Final Validation Accuracy: 0.5729166666666666\n",
            "Total time elapsed: 67.93 seconds\n"
          ],
          "name": "stdout"
        }
      ]
    },
    {
      "cell_type": "code",
      "metadata": {
        "colab": {
          "base_uri": "https://localhost:8080/"
        },
        "id": "Tey0CADqkqeF",
        "outputId": "c7305d8d-cfaa-438f-d9ec-a1d2640fa34e"
      },
      "source": [
        "# Larger embedding space, longer epochs\n",
        "\n",
        "# As a last resort option, I decided that the model should train for longer, and\n",
        "# use a slightly larger embedding space\n",
        "\n",
        "# Best accuracy achieved (around +2%), with lower losses\n",
        "# Training was slower from default by around 30 seconds\n",
        "AEModel = AutoEncoder(encoding_dim=16)\n",
        "train(AEModel, train_data, valid_data, num_epochs=30)"
      ],
      "execution_count": 28,
      "outputs": [
        {
          "output_type": "stream",
          "text": [
            "Epoch 1/30: Training Loss = 0.14431063830852509, Validation Loss = 0.1433873027563095\n",
            "Epoch 2/30: Training Loss = 0.07159591466188431, Validation Loss = 0.07541733235120773\n",
            "Epoch 3/30: Training Loss = 0.06942984461784363, Validation Loss = 0.07313783466815948\n",
            "Epoch 4/30: Training Loss = 0.06884865462779999, Validation Loss = 0.07270399481058121\n",
            "Epoch 5/30: Training Loss = 0.06829750537872314, Validation Loss = 0.07220974564552307\n",
            "Epoch 6/30: Training Loss = 0.06782728433609009, Validation Loss = 0.07184953987598419\n",
            "Epoch 7/30: Training Loss = 0.06667886674404144, Validation Loss = 0.07110888510942459\n",
            "Epoch 8/30: Training Loss = 0.06498539447784424, Validation Loss = 0.06809468567371368\n",
            "Epoch 9/30: Training Loss = 0.05760210007429123, Validation Loss = 0.06124760955572128\n",
            "Epoch 10/30: Training Loss = 0.05468926206231117, Validation Loss = 0.05610470101237297\n",
            "Epoch 11/30: Training Loss = 0.05452042073011398, Validation Loss = 0.05468951538205147\n",
            "Epoch 12/30: Training Loss = 0.05318525806069374, Validation Loss = 0.052596282213926315\n",
            "Epoch 13/30: Training Loss = 0.05129289999604225, Validation Loss = 0.05099986866116524\n",
            "Epoch 14/30: Training Loss = 0.05068470537662506, Validation Loss = 0.052277084439992905\n",
            "Epoch 15/30: Training Loss = 0.047497641295194626, Validation Loss = 0.05056210979819298\n",
            "Epoch 16/30: Training Loss = 0.046243246644735336, Validation Loss = 0.04572189971804619\n",
            "Epoch 17/30: Training Loss = 0.04562133923172951, Validation Loss = 0.044203806668519974\n",
            "Epoch 18/30: Training Loss = 0.0419941172003746, Validation Loss = 0.04327559843659401\n",
            "Epoch 19/30: Training Loss = 0.042418938130140305, Validation Loss = 0.04237797483801842\n",
            "Epoch 20/30: Training Loss = 0.04097671061754227, Validation Loss = 0.040656328201293945\n",
            "Epoch 21/30: Training Loss = 0.04083836078643799, Validation Loss = 0.039828840643167496\n",
            "Epoch 22/30: Training Loss = 0.038814395666122437, Validation Loss = 0.039020005613565445\n",
            "Epoch 23/30: Training Loss = 0.03590209409594536, Validation Loss = 0.03654608875513077\n",
            "Epoch 24/30: Training Loss = 0.03668471798300743, Validation Loss = 0.03767827898263931\n",
            "Epoch 25/30: Training Loss = 0.036047689616680145, Validation Loss = 0.03527090698480606\n",
            "Epoch 26/30: Training Loss = 0.03478233143687248, Validation Loss = 0.034683480858802795\n",
            "Epoch 27/30: Training Loss = 0.03490586578845978, Validation Loss = 0.03624041751027107\n",
            "Epoch 28/30: Training Loss = 0.03324006125330925, Validation Loss = 0.03318167105317116\n",
            "Epoch 29/30: Training Loss = 0.0313689187169075, Validation Loss = 0.032799132168293\n",
            "Epoch 30/30: Training Loss = 0.032286424189805984, Validation Loss = 0.03333291411399841\n",
            "Final Training Accuracy: 0.6002232350479025\n",
            "Final Validation Accuracy: 0.5977285879629629\n",
            "Total time elapsed: 101.16 seconds\n"
          ],
          "name": "stdout"
        }
      ]
    },
    {
      "cell_type": "markdown",
      "metadata": {
        "id": "ymCsZH291prI"
      },
      "source": [
        "## Part 4. Testing [12 pt]\n",
        "\n",
        "### Part (a) [2 pt]\n",
        "\n",
        "Compute and report the test accuracy."
      ]
    },
    {
      "cell_type": "code",
      "metadata": {
        "collapsed": true,
        "id": "0OkSbup91prJ",
        "colab": {
          "base_uri": "https://localhost:8080/"
        },
        "outputId": "96978e2b-7501-4a1a-9c36-fc6e92b23043"
      },
      "source": [
        "test_loader = torch.utils.data.DataLoader(test_data, \n",
        "                                           batch_size=1)\n",
        "print(\"Test accuracy =\", get_accuracy(AEModel, test_loader))"
      ],
      "execution_count": 29,
      "outputs": [
        {
          "output_type": "stream",
          "text": [
            "Test accuracy = 0.5990306712962963\n"
          ],
          "name": "stdout"
        }
      ]
    },
    {
      "cell_type": "markdown",
      "metadata": {
        "id": "UEe9yt6L1prM"
      },
      "source": [
        "### Part (b) [4 pt]\n",
        "\n",
        "Based on the test accuracy alone, it is difficult to assess whether our model\n",
        "is actually performing well. We don't know whether a high accuracy is due to\n",
        "the simplicity of the problem, or if a poor accuracy is a result of the inherent\n",
        "difficulty of the problem.\n",
        "\n",
        "It is therefore very important to be able to compare our model to at least one\n",
        "alternative. In particular, we consider a simple **baseline**\n",
        "model that is not very computationally expensive. Our neural network\n",
        "should at least outperform this baseline model. If our network is not much\n",
        "better than the baseline, then it is not doing well.\n",
        "\n",
        "For our data imputation problem, consider the following baseline model:\n",
        "to predict a missing feature, the baseline model will look at the **most common value** of the feature in the training set. \n",
        "\n",
        "For example, if the feature \"marriage\" is missing, then this model's prediction will be the most common value for \"marriage\" in the training set, which happens to be \"Married-civ-spouse\".\n",
        "\n",
        "What would be the test accuracy of this baseline model?\n"
      ]
    },
    {
      "cell_type": "code",
      "metadata": {
        "collapsed": true,
        "id": "p45VHp011prN",
        "colab": {
          "base_uri": "https://localhost:8080/"
        },
        "outputId": "bdb55c64-a54b-4606-e231-21680793ad4e"
      },
      "source": [
        "from collections import Counter\n",
        "\n",
        "# seed random\n",
        "np.random.seed(42)\n",
        "\n",
        "# use df_not_missing as database for simplicity of available feature names\n",
        "# split dataset randomly\n",
        "indices = df_not_missing.index.to_numpy()\n",
        "np.random.shuffle(indices)\n",
        "\n",
        "most_common = {}\n",
        "\n",
        "# training\n",
        "for cat in df_not_missing.keys():\n",
        "    # remember to only use the training data\n",
        "    counter = Counter(df_not_missing[cat][indices[:train_end]])\n",
        "    most_common[cat] = counter.most_common()[0][0]\n",
        "\n",
        "# testing\n",
        "total = 0\n",
        "acc = 0\n",
        "for index in indices[valid_end:]:\n",
        "    # zero out one categorical feature\n",
        "    cat = np.random.choice(df_not_missing.keys().to_numpy())\n",
        "    # naieve reconstruction\n",
        "    acc += int(df_not_missing[cat][index] == most_common[cat])\n",
        "    total += 1\n",
        "\n",
        "print(\"Test accuracy =\", (acc / total))"
      ],
      "execution_count": 30,
      "outputs": [
        {
          "output_type": "stream",
          "text": [
            "Test accuracy = 0.5006510416666666\n"
          ],
          "name": "stdout"
        }
      ]
    },
    {
      "cell_type": "markdown",
      "metadata": {
        "id": "QlHu0wxh1prP"
      },
      "source": [
        "### Part (c) [1 pt]\n",
        "\n",
        "How does your test accuracy from part (a) compared to your basline test accuracy in part (b)?"
      ]
    },
    {
      "cell_type": "code",
      "metadata": {
        "collapsed": true,
        "id": "1KQdwE_n1prQ"
      },
      "source": [
        "# The test accuracy from the autoencoder is slightly better than the baseline \n",
        "# test accuracy from the naive baseline model (around +10%). "
      ],
      "execution_count": 31,
      "outputs": []
    },
    {
      "cell_type": "markdown",
      "metadata": {
        "id": "DfQPgu1Q1prS"
      },
      "source": [
        "### Part (d) [1 pt]\n",
        "\n",
        "Look at the first item in your test data. \n",
        "Do you think it is reasonable for a human\n",
        "to be able to guess this person's education level\n",
        "based on their other features? Explain."
      ]
    },
    {
      "cell_type": "code",
      "metadata": {
        "collapsed": true,
        "id": "3qbQ1vvT1prT",
        "colab": {
          "base_uri": "https://localhost:8080/"
        },
        "outputId": "7aa63335-66dc-4297-9d7d-f6d2596415c6"
      },
      "source": [
        "# It's difficult for a human to be able to guess the person's education level \n",
        "# based on their other features. Considering that the person is working in a\n",
        "# prof-specialty occupation, an educated guess would have been that he has a\n",
        "# master's or PhD level of education, but he only has a bachelors. There are \n",
        "# more instances where one's features does not have a lot of clear correlation\n",
        "# with the others--there are often many more factors at play, some that cannot\n",
        "# be measured.\n",
        "\n",
        "for cat in df_not_missing.keys():\n",
        "    print(\"{}: {}\".format(cat, df_not_missing[cat][valid_end]))"
      ],
      "execution_count": 32,
      "outputs": [
        {
          "output_type": "stream",
          "text": [
            "age: 0.2876712328767123\n",
            "yredu: 0.8\n",
            "capgain: 0.04064040640406404\n",
            "caploss: 0.0\n",
            "workhr: 0.3979591836734694\n",
            "work:  Federal-gov\n",
            "marriage:  Married-civ-spouse\n",
            "occupation:  Prof-specialty\n",
            "edu:  Bachelors\n",
            "relationship:  Husband\n",
            "sex:  Male\n"
          ],
          "name": "stdout"
        }
      ]
    },
    {
      "cell_type": "markdown",
      "metadata": {
        "id": "p_d5uuAY1prZ"
      },
      "source": [
        "### Part (e) [2 pt]\n",
        "\n",
        "What is your model's prediction of this person's education\n",
        "level, given their other features?\n"
      ]
    },
    {
      "cell_type": "code",
      "metadata": {
        "collapsed": true,
        "id": "kBY5gKXR1pra",
        "colab": {
          "base_uri": "https://localhost:8080/"
        },
        "outputId": "7e39b9b2-bf09-4e5f-ec37-a0b80982e76d"
      },
      "source": [
        "from torch.autograd import Variable\n",
        "\n",
        "data = pd.get_dummies(df_not_missing)\n",
        "datanp = data.values.astype(np.float32)\n",
        "# Only grab the first datum in the testing dataset\n",
        "test_loader = torch.utils.data.DataLoader(datanp[valid_end:valid_end + 1], batch_size=1)\n",
        "\n",
        "for data in test_loader:\n",
        "  datam = zero_out_feature(data, 'edu') # zero out one categorical feature\n",
        "  out = AEModel(datam).detach().numpy()\n",
        "  print(\"Autoencoder prediction =\", get_features(out[0])['edu'])"
      ],
      "execution_count": 33,
      "outputs": [
        {
          "output_type": "stream",
          "text": [
            "Autoencoder prediction = Some-college\n"
          ],
          "name": "stdout"
        }
      ]
    },
    {
      "cell_type": "markdown",
      "metadata": {
        "id": "fdLNA0ce1prd"
      },
      "source": [
        "### Part (f) [2 pt]\n",
        "\n",
        "What is the baseline model's prediction\n",
        "of this person's education level?"
      ]
    },
    {
      "cell_type": "code",
      "metadata": {
        "collapsed": true,
        "id": "TXgoM9qk1prd",
        "colab": {
          "base_uri": "https://localhost:8080/"
        },
        "outputId": "4760be6a-5e23-418d-b565-43c9d124cfc4"
      },
      "source": [
        "print(\"Baseline prediction =\", most_common['edu'])"
      ],
      "execution_count": 34,
      "outputs": [
        {
          "output_type": "stream",
          "text": [
            "Baseline prediction =  HS-grad\n"
          ],
          "name": "stdout"
        }
      ]
    }
  ]
}